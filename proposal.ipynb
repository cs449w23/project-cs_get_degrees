{
  "nbformat": 4,
  "nbformat_minor": 0,
  "metadata": {
    "colab": {
      "provenance": []
    },
    "kernelspec": {
      "name": "python3",
      "display_name": "Python 3"
    },
    "language_info": {
      "name": "python"
    }
  },
  "cells": [
    {
      "cell_type": "markdown",
      "source": [
        "# CS 449 Final Project Proposal\n",
        "\n",
        "Due: February 1, 2023 at 11:59pm\n",
        "\n",
        "## 1. Names and Net IDs\n",
        "\n",
        "*List your group members*\n",
        "\n",
        "## 2. Abstract\n",
        "\n",
        "*Your abstract should be two or three sentences describing the motivation\n",
        "for your project and your proposed methods. For example:*\n",
        "\n",
        "Our final project seeks to use a variety of `sklearn` models to classify\n",
        "handwritten digits in the `MNIST` dataset. We will compare models such\n",
        "as Logistic Regression and DecisionTreeClassifier."
      ],
      "metadata": {
        "id": "kGMAhIAC1k6i"
      }
    },
    {
      "cell_type": "markdown",
      "source": [
        "## 3. Introduction\n",
        "\n",
        "*Why is this project interesting to you? Describe the motivation for pursuing this project. Give a specific description of your data and what machine learning task you will focus on. For example:*\n",
        "\n",
        "It is very important for us to be able to automatically recognize handwritten digits so that the Postal Service can identify whether a letter has been sent to the correct address. We will use a large dataset of handwritten digits and train our models to input the black-and-white pixels of those digits and output the number that was written. [etc. etc.]"
      ],
      "metadata": {
        "id": "YX2wBFIs2S9Q"
      }
    },
    {
      "cell_type": "markdown",
      "source": [
        "## 4a. Describe your dataset(s)\n",
        "\n",
        "*List the datasets you plan to use, where you found them, and what they contain. Be detailed! For each dataset, what does the data look like? What is the data representation? (e.g., what resolution of images? what length of sequences?) How is the data annotated or labeled? Include citations for the datasets. Include at least one citation of previous work that has used your data, or explain why no one has used your data before. For example:*\n",
        "\n",
        "We use the popular MNIST dataset, which contains 70,000 different 28x28 pixel greyscale images of handwritten digits. The dataset was created by the American Census Bureau in 1998 ..."
      ],
      "metadata": {
        "id": "B-1Lwrn635Qa"
      }
    },
    {
      "cell_type": "code",
      "source": [
        "## 4b. Show some data\n",
        "\"\"\"\n",
        "    *Demonstrate that you have made at least some progress with getting your\n",
        "     dataset ready to use. Load at least a few examples and visualize them\n",
        "     as best you can. For example:*\n",
        "\"\"\"\n",
        "import matplotlib.pyplot as plt\n",
        "\n",
        "from sklearn.datasets import load_digits\n",
        "\n",
        "X, y = load_digits(return_X_y=True)\n",
        "fig, axes = plt.subplots(nrows=1, ncols=5, figsize=(20, 5), sharex=True,)\n",
        "plt.gray()\n",
        "for i, axis in enumerate(axes):\n",
        "    axis.matshow(X[i, :].reshape(8, 8))\n",
        "plt.show()"
      ],
      "metadata": {
        "colab": {
          "base_uri": "https://localhost:8080/",
          "height": 244
        },
        "id": "VUfetuVm5WTy",
        "outputId": "30b7a0f8-9bb8-4ad9-9376-55fed29f23dd"
      },
      "execution_count": 1,
      "outputs": [
        {
          "output_type": "display_data",
          "data": {
            "text/plain": [
              "<Figure size 1440x360 with 5 Axes>"
            ],
            "image/png": "[encoded data removed]"
          },
          "metadata": {
            "needs_background": "light"
          }
        }
      ]
    },
    {
      "cell_type": "markdown",
      "source": [
        "## 5. Methods\n",
        "\n",
        "*Describe what methods you plan to use. Give a one or two sentence history of how and when these methods were developed, and be sure to cite relevant papers. What kind of neural network architectures will you use? What loss function(s) will you use and why? How will you evaluate your model's ability to generalize to new data? For example:*\n",
        "\n",
        "This is a standard supervised learning task, and we will use `sklearn`'s Logistic Regression model to predict digit labels from their pixels. The model will contain one weight per pixel. We will train our model using Cross-Entropy loss, because..."
      ],
      "metadata": {
        "id": "XCKtudoJ6V4g"
      }
    },
    {
      "cell_type": "markdown",
      "source": [
        "## 6. Deliverables\n",
        "\n",
        "*Include at least six goals that you think you should be able to achieve over the course of the quarter. These should be nontrivial, but you should have at least one and hopefully both of your \"Essential\" goals done by the project update, due February 24. Your \"Stretch\" goals should be ambitious enough such that completing one is doable, but completing both this quarter is unlikely.*\n",
        "\n",
        "### 6.1 Essential Goals\n",
        "- For example: We will use Logistic Regression, Support Vector Machine, and Decision Tree models to train and test on our MNIST data.\n",
        "- (At least two goals here)\n",
        "\n",
        "### 6.2 Desired Goals\n",
        "- For example: We will conduct a thorough hyperparameter search for all our models and provide a detailed and practical guide for how a researcher should search for good hyperparameter values.\n",
        "- (At least two goals here)\n",
        "\n",
        "### 6.3 Stretch Goals\n",
        "- For example: We will conduct a manual analysis of the digits that our model gets wrong and use a GAN to create new images that help us learn a more robust classifier.\n",
        "- (At least two goals here)"
      ],
      "metadata": {
        "id": "BA5eIKsR7QRk"
      }
    },
    {
      "cell_type": "markdown",
      "source": [
        "## 7. Hopes and Concerns\n",
        "\n",
        "*What are you most excited about with this project? What parts, if any, are you nervous about? For example:*\n",
        "\n",
        "We're worried that we'll get really bored of staring at pixelated hand-written digits for hours on end."
      ],
      "metadata": {
        "id": "xlB_wLS381Xy"
      }
    },
    {
      "cell_type": "markdown",
      "source": [
        "## 8. References\n",
        "\n",
        "*Cite the papers or sources that you used to discover your datasets and/or models, if you didn't include the citation above. For example:*\n",
        "\n",
        "LeCun, Yann, et al. \"Gradient-based learning applied to document recognition.\" Proceedings of the IEEE 86.11 (1998): 2278-2324."
      ],
      "metadata": {
        "id": "u2peFc_M8-E7"
      }
    }
  ]
}
