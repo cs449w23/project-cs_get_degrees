{
  "nbformat": 4,
  "nbformat_minor": 0,
  "metadata": {
    "colab": {
      "provenance": []
    },
    "kernelspec": {
      "name": "python3",
      "display_name": "Python 3"
    },
    "language_info": {
      "name": "python"
    }
  },
  "cells": [
    {
      "cell_type": "markdown",
      "source": [
        "# CS 449 Final Project Proposal\n",
        "\n",
        "Due: February 1, 2023 at 11:59pm\n",
        "\n",
        "## 1. Names and Net IDs\n",
        "\n",
        "Erick Mungai - mmm1176\n",
        "\n",
        "Rodney Reichert - rdr3218\n",
        "\n",
        "Perry Benyella - pbe2757\n",
        "\n",
        "## 2. Abstract\n",
        "\n",
        "Our final project seeks to use a variety of architectures to detect the presence of metastatic tissue from histopathological scans of lymph node sections. We will use both a CNN and a Residual Network(ResNet) to generate feature vectors for the images and then vary the output network between an RNN, LSTM network and a fully connected feedforward neural network. We will then compare the performance of these networks to see which performs best. The tentative combination of networks will be CNN + RNN, CNN + LSTM, CNN + feedforward neural network, ResNet + RNN, ResNet + LSTM, ResNet + feedforward neural network.\n"
      ],
      "metadata": {
        "id": "kGMAhIAC1k6i"
      }
    },
    {
      "cell_type": "markdown",
      "source": [
        "## 3. Introduction\n",
        "\n",
        "Detecting diseases in lymph nodes is crucial for effective medical diagnosis and treatment. Accurate identification of pathological changes in the lymph nodes can lead to earlier detection of diseases such as cancer leading to improved patient outcomes. This project aims to use machine learning techniques by applying different models to lymph node X-ray images to accurately detect diseases, and measure which of the model architecture we employ yields the best results. By utilizing a large dataset of high-resolution images, we can train our model to identify and classify various pathological changes in the lymph nodes."
      ],
      "metadata": {
        "id": "YX2wBFIs2S9Q"
      }
    },
    {
      "cell_type": "markdown",
      "source": [
        "## 4a. Describe your dataset(s)\n",
        "\n",
        "We will use the PatchCamelyon (PCam) dataset, which contains a total of 327,680 color images (96 x 96px) extracted from histopathologic scans of lymph node sections. PCam is derived from the Camelyon16 Challenge, which contains 400 H&E stained WSIs of sentinel lymph node sections. The slides were acquired and digitized at 2 different centers. PCam marries the clinically-relevant task of metastasis detection into a straight-forward binary image classification task, much like MNIST. The feature structure for this dataset can be expressed through the following dictionary:\n",
        "\n",
        "    FeaturesDict({\n",
        "        'id': Text(shape=(), dtype=string),\n",
        "        'image': Image(shape=(96, 96, 3), dtype=uint8),\n",
        "        'label': ClassLabel(shape=(), dtype=int64, num_classes=2),\n",
        "    })\n",
        "\n",
        "\n",
        "\n",
        "Each datapoint has a unique id, a matrix of uint8 values representing the RGB values for each of the 96^2 pixels of the image as well as a binary label. \n",
        "\n",
        "The official website for the PatchCamelyon benchmark gives the following two references with regards to the dataset:\n",
        "\n",
        "    1. B. S. Veeling, J. Linmans, J. Winkens, T. Cohen, M. Welling. \"Rotation\n",
        "       Equivariant CNNs for Digital Pathology\". arXiv:1806.03962\n",
        "    2. Ehteshami Bejnordi et al. Diagnostic Assessment of Deep Learning       \n",
        "       Algorithms for Detection of Lymph Node Metastases in Women With Breast   \n",
        "       Cancer. JAMA: The Journal of the American Medical Association, 318(22), \n",
        "       2199–2210. doi:jama.2017.14585\n",
        "\n",
        "\n"
      ],
      "metadata": {
        "id": "B-1Lwrn635Qa"
      }
    },
    {
      "cell_type": "code",
      "source": [
        "## 4b. Show some data\n",
        "\"\"\"\n",
        "    *Demonstrate that you have made at least some progress with getting your\n",
        "     dataset ready to use. Load at least a few examples and visualize them\n",
        "     as best you can. For example:*\n",
        "\"\"\"\n",
        "import matplotlib.pyplot as plt\n",
        "\n",
        "from sklearn.datasets import load_digits\n",
        "\n",
        "X, y = load_digits(return_X_y=True)\n",
        "fig, axes = plt.subplots(nrows=1, ncols=5, figsize=(20, 5), sharex=True,)\n",
        "plt.gray()\n",
        "for i, axis in enumerate(axes):\n",
        "    axis.matshow(X[i, :].reshape(8, 8))\n",
        "plt.show()"
      ],
      "metadata": {
        "colab": {
          "base_uri": "https://localhost:8080/",
          "height": 244
        },
        "id": "VUfetuVm5WTy",
        "outputId": "30b7a0f8-9bb8-4ad9-9376-55fed29f23dd"
      },
      "execution_count": null,
      "outputs": [
        {
          "output_type": "display_data",
          "data": {
            "text/plain": [
              "<Figure size 1440x360 with 5 Axes>"
            ],
            "image/png": "[encoded data removed]"
          },
          "metadata": {
            "needs_background": "light"
          }
        }
      ]
    },
    {
      "cell_type": "markdown",
      "source": [
        "## 5. Methods\n",
        "\n",
        "This is a binary image classification task. We will use two architectures, a CNN and a ResNet to generate feature vectors for the images. CNN are a type of neural network that is widely used for image analysis. It was popularized by AlexNet which won the 2012 ImageNet competition. Residual Networks were envisioned by Kaiming He from Microsoft Research in 2015. They use skip connections in their residual block which help in solving the vanishing gradient problem in deep CNNs. \n",
        "Since this is a standard binary classification task, we will use Binary Cross Entropy as our loss function. BCE performs best for these kinds of problems. We will use an appropriate train-validation-test split which will enable us to gauge the model’s ability to generalize to new data.\n"
      ],
      "metadata": {
        "id": "XCKtudoJ6V4g"
      }
    },
    {
      "cell_type": "markdown",
      "source": [
        "## 6. Deliverables\n",
        "\n",
        "*Include at least six goals that you think you should be able to achieve over the course of the quarter. These should be nontrivial, but you should have at least one and hopefully both of your \"Essential\" goals done by the project update, due February 24. Your \"Stretch\" goals should be ambitious enough such that completing one is doable, but completing both this quarter is unlikely.*\n",
        "\n",
        "### 6.1 Essential Goals\n",
        "- We will design a CNN and use it to generate feature vectors for the x-ray scans.\n",
        "- We will then vary the output network between an RNN, LSTM and a fully connected feedforward neural network and benchmark the performances of all of them.\n",
        "\n",
        "\n",
        "### 6.2 Desired Goals\n",
        "- Since a ResNet solves the vanishing gradient problem in deep CNNs, we will switch out the CNN for a ResNet(either design our own or use a pre-trained one) to generate the feature vectors.\n",
        "-We will then vary the output network the same way we did with the CNN and benchmark the performance.\n",
        "\n",
        "\n",
        "### 6.3 Stretch Goals\n",
        "- We will conduct a hyperparameter search for the best performing architecture combinations and see how changes in these parameters affect the performance, with the intention of improving performance even more.\n",
        "-We will test our best performing architecture on a multi-class classification task to see whether it yields the same results.\n"
      ],
      "metadata": {
        "id": "BA5eIKsR7QRk"
      }
    },
    {
      "cell_type": "markdown",
      "source": [
        "## 7. Hopes and Concerns\n",
        "\n",
        "One of the most exciting aspects of this project is the potential to contribute to the field of medical image analysis and improve disease detection in the lymph nodes. The use of advanced deep learning models such as RNNs, LSTMs, and ResNets, combined with binary classification and BCE loss, has the potential to deliver highly accurate results and make a real-world impact.\n",
        "\n",
        "One potential challenge in this project is the complexity. Working with multiple neural network architectures can lead to increased complexity in several ways. One of the main challenges is understanding the unique characteristics and limitations of each architecture and determining the best architecture for a particular problem. Additionally, each architecture may have different hyperparameters that need to be optimized for optimal performance, adding another layer of complexity to the process. Furthermore, evaluating and comparing the performance of multiple models can also be complex, as each architecture may have different strengths and weaknesses and may perform differently on different types of data. This requires a comprehensive understanding of each architecture and the ability to accurately assess their performance and compare results.\n"
      ],
      "metadata": {
        "id": "xlB_wLS381Xy"
      }
    },
    {
      "cell_type": "markdown",
      "source": [
        "## 8. References\n",
        "A. Krizhevsky, I. Sutskever, and G. E. Hinton, “ImageNet classification with deep convolutional Neural Networks,” Advances in Neural Information Processing Systems, 01-Jan-1970. [Online]. Available: https://papers.nips.cc/paper/2012/file/c399862d3b9d6b76c8436e924a68c45b-Paper.pdf. \n",
        "\n",
        "\n",
        "K. He, X. Zhang, S. Ren, and J. Sun, “Deep Residual Learning for Image Recognition,” arXiv.org, Dec. 10, 2015.[Online]. Available:  https://arxiv.org/abs/1512.03385."
      ],
      "metadata": {
        "id": "u2peFc_M8-E7"
      }
    }
  ]
}