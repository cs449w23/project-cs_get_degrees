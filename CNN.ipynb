{
  "cells": [
    {
      "cell_type": "code",
      "source": [
        "%pip install h5py"
      ],
      "metadata": {
        "id": "qWpfnXSPwvp8",
        "outputId": "23a88ce1-8439-4ff7-ceb6-5bb322215805",
        "colab": {
          "base_uri": "https://localhost:8080/"
        }
      },
      "execution_count": 1,
      "outputs": [
        {
          "output_type": "stream",
          "name": "stdout",
          "text": [
            "Looking in indexes: https://pypi.org/simple, https://us-python.pkg.dev/colab-wheels/public/simple/\n",
            "Requirement already satisfied: h5py in /usr/local/lib/python3.8/dist-packages (3.1.0)\n",
            "Requirement already satisfied: numpy>=1.17.5 in /usr/local/lib/python3.8/dist-packages (from h5py) (1.22.4)\n"
          ]
        }
      ]
    },
    {
      "cell_type": "code",
      "source": [
        "from google.colab import drive\n",
        "drive.mount('/content/drive')"
      ],
      "metadata": {
        "id": "fFsSZti7NA9j",
        "outputId": "19285465-b3e3-4f3c-997d-0aa399fb5776",
        "colab": {
          "base_uri": "https://localhost:8080/"
        }
      },
      "execution_count": 2,
      "outputs": [
        {
          "output_type": "stream",
          "name": "stdout",
          "text": [
            "Mounted at /content/drive\n"
          ]
        }
      ]
    },
    {
      "cell_type": "code",
      "execution_count": 3,
      "metadata": {
        "id": "t3LHjcE0wQ3E"
      },
      "outputs": [],
      "source": [
        "import torch\n",
        "import numpy as np\n",
        "import matplotlib.pyplot as plt\n",
        "from sklearn.datasets import load_digits\n",
        "from sklearn.model_selection import train_test_split\n",
        "from collections import defaultdict\n",
        "from torch.utils.data import Dataset\n",
        "from torchvision import datasets\n",
        "from torchvision.transforms import ToTensor\n",
        "import matplotlib.image as mpimg\n",
        "from torch.utils.data import DataLoader"
      ]
    },
    {
      "cell_type": "code",
      "source": [
        "class CNN(torch.nn.Module):\n",
        "    def __init__(self):\n",
        "        super(CNN, self).__init__()\n",
        "        #self.linear_layer_size = linear_layer_size\n",
        "\n",
        "        self.conv1 = torch.nn.Conv2d(3, 16, kernel_size=3)  # input: torch.Size([64, 3, 96, 96])\n",
        "        self.conv2 = torch.nn.Conv2d(16, 32, kernel_size=3) # input: torch.Size([64, 16, 47, 47])\n",
        "        self.conv3 = torch.nn.Conv2d(32, 64, kernel_size=3) # input: torch.Size([64, 32, 22, 22])\n",
        "        self.conv4 = torch.nn.Conv2d(64, 128, kernel_size=3) # input: torch.Size([64, 64, 10, 10])\n",
        "        # output: torch.Size([64, 128, 4, 4])\n",
        "        \n",
        "\n",
        "    def forward(self, x):\n",
        "        #print(x.shape)\n",
        "        batch_size = x.size(0)\n",
        "\n",
        "        relu = torch.nn.ReLU()\n",
        "        maxpool = torch.nn.MaxPool2d(stride=2,kernel_size=2)\n",
        "\n",
        "        x = self.conv1(x)\n",
        "        x = maxpool(relu(x))\n",
        "        #print(x.shape)\n",
        "        x = self.conv2(x)\n",
        "        x = maxpool(relu(x))\n",
        "        #print(x.shape)\n",
        "        x = self.conv3(x)\n",
        "        x = maxpool(relu(x))\n",
        "        #print(x.shape)\n",
        "        x = self.conv4(x)\n",
        "        x = maxpool(relu(x))\n",
        "        #print(x.shape)\n",
        "        # x = x.reshape(batch_size, self.linear_layer_size)\n",
        "        # x = self.linear(x)\n",
        "        return x"
      ],
      "metadata": {
        "id": "8-R4w92JwqBu"
      },
      "execution_count": 4,
      "outputs": []
    },
    {
      "cell_type": "code",
      "source": [
        "class FC(torch.nn.Module):\n",
        "    def __init__(self):\n",
        "          super(FC, self).__init__()\n",
        "          self.fc1 = torch.nn.Linear(4 * 4 * 128, 1)  # input: (6,6,128) # output 2 classes\n",
        "          self.actv = torch.nn.Sigmoid()\n",
        "    def forward(self, x):\n",
        "        #print(x.shape)\n",
        "        batch_size = x.size(0)\n",
        "        x = torch.flatten(x, 1)\n",
        "        #print(x.shape)\n",
        "        x = self.fc1(x)\n",
        "        x = self.actv(x)\n",
        "        return x\n"
      ],
      "metadata": {
        "id": "HbD3k-0053vu"
      },
      "execution_count": 5,
      "outputs": []
    },
    {
      "cell_type": "code",
      "source": [
        "class RNN(torch.nn.Module):\n",
        "    def __init__(self, ):\n",
        "        super(RNN, self).__init__()\n",
        "        self.input_size = 128\n",
        "        self.output_size = 2\n",
        "        self.hidden_size = 32\n",
        "        self.n_layers = 1\n",
        "        # batch_first means that the first dim of the input and output will be the batch_size\n",
        "        self.rnn = torch.nn.RNN(self.input_size, self.hidden_size, self.n_layers, batch_first=True)\n",
        "        # last, fully-connected layer\n",
        "        self.fc = torch.nn.Linear(self.hidden_dim, self.output_size)\n",
        "\n",
        "    def forward(self, x, hidden):\n",
        "        # x (batch_size, seq_length, input_size)\n",
        "        # hidden (n_layers, batch_size, hidden_dim)\n",
        "        # r_out (batch_size, time_step, hidden_size)\n",
        "        batch_size = x.size(0)\n",
        "        \n",
        "        # get RNN outputs\n",
        "        r_out, hidden = self.rnn(x, hidden)\n",
        "        # shape output to be (batch_size*seq_length, hidden_dim)\n",
        "        r_out = r_out.view(-1, self.hidden_size)\n",
        "        \n",
        "        # get final output \n",
        "        output = self.fc(r_out)\n",
        "        \n",
        "        return output, hidden"
      ],
      "metadata": {
        "id": "eSFpYhgG56Ao"
      },
      "execution_count": 6,
      "outputs": []
    },
    {
      "cell_type": "code",
      "source": [
        "class LSTM(torch.nn.Module):\n",
        "    def __init__(self):\n",
        "        super(LSTM,self).__init__()\n",
        "        self.input_size = 128\n",
        "        self.output_size = 2\n",
        "        self.hidden_size = 32\n",
        "        self.n_layers = 1\n",
        "        self.lstm = torch.nn.LSTM(input_size=self.input_size,hidden_size=self.hidden_size,num_layers=self.n_layers,batch_first=True)\n",
        "        self.fc1 = torch.nn.Linear(in_features=5,out_features=self.output_size)\n",
        "\n",
        "    def forward(self,x):\n",
        "        output,_status = self.lstm(x)\n",
        "        output = output.view(-1, self.hidden_size)\n",
        "        output = self.fc1(torch.relu(output))\n",
        "        return output\n"
      ],
      "metadata": {
        "id": "dTm33ZQc_SsH"
      },
      "execution_count": 7,
      "outputs": []
    },
    {
      "cell_type": "code",
      "source": [
        "device = torch.device('cuda:0' if torch.cuda.is_available() else 'cpu')\n",
        "device"
      ],
      "metadata": {
        "id": "Nyn18xvGdh_f",
        "outputId": "ce0fbb87-ae2e-45ba-caea-6fb2d12d21be",
        "colab": {
          "base_uri": "https://localhost:8080/"
        }
      },
      "execution_count": 8,
      "outputs": [
        {
          "output_type": "execute_result",
          "data": {
            "text/plain": [
              "device(type='cpu')"
            ]
          },
          "metadata": {},
          "execution_count": 8
        }
      ]
    },
    {
      "cell_type": "code",
      "source": [
        "train_data = datasets.PCAM(\n",
        "    root=\"/content/drive/MyDrive/CS449\",\n",
        "    split=\"train\",\n",
        "    download=False,\n",
        "    transform=ToTensor()\n",
        ")"
      ],
      "metadata": {
        "id": "rn2FZbKYNngh"
      },
      "execution_count": 9,
      "outputs": []
    },
    {
      "cell_type": "code",
      "source": [
        "train_data_small = []\n",
        "for i in range(100):\n",
        "  train_data_small.append(train_data[i])"
      ],
      "metadata": {
        "id": "SrfDDq7MTwEr"
      },
      "execution_count": 10,
      "outputs": []
    },
    {
      "cell_type": "code",
      "source": [
        "train_dataloader = DataLoader(train_data_small, batch_size=32, shuffle=True)"
      ],
      "metadata": {
        "id": "GTIxHASDOa6H"
      },
      "execution_count": 11,
      "outputs": []
    },
    {
      "cell_type": "code",
      "source": [
        "def run_one_epoch(epoch_idx, model1, model2, optimizer, data_loader, train=True):\n",
        "\n",
        "    if train:\n",
        "        model1.train()\n",
        "        model2.train()\n",
        "    else:\n",
        "        model1.eval()\n",
        "        model2.eval()\n",
        "    # loop through the entire dataset once per epoch\n",
        "    train_loss = 0.0\n",
        "    train_acc = 0.0\n",
        "    train_total = 0\n",
        "    for batch_idx, (images, labels) in enumerate(train_dataloader):\n",
        "        optimizer.zero_grad()\n",
        "        images = images.to(device)\n",
        "        labels = labels.to(device)\n",
        "        model1_output = model1(images)\n",
        "        #print(\"hi\")\n",
        "        predictions = model2(model1_output).squeeze()\n",
        "        acc_sum = 0\n",
        "        for i, pred in enumerate(predictions):\n",
        "          if round(pred) == labels[i]:\n",
        "            acc_sum += 1\n",
        "        acc = acc_sum / label.size(0)\n",
        "        # acc = torch.sum(predictions == labels) / labels.size(0)\n",
        "        loss = torch.nn.BCELoss()(predictions, labels.float())\n",
        "\n",
        "        if train:\n",
        "            loss.backward()\n",
        "            optimizer.step()\n",
        "\n",
        "    # update statistics\n",
        "        train_loss += (loss * len(images))\n",
        "        train_acc += (acc * len(labels))\n",
        "        train_total += len(labels)\n",
        "\n",
        "    train_loss /= train_total\n",
        "    train_acc /= train_total\n",
        "\n",
        "    print(f\"Epoch {epoch_idx + 1}: train loss {train_loss :0.3f}, train acc {train_acc :0.3f}\")\n",
        "\n",
        "    # Detach tells torch to stop tracking a tensor's gradients\n",
        "    return acc.detach(), loss.detach()"
      ],
      "metadata": {
        "id": "t6qAmSrVELM9"
      },
      "execution_count": 16,
      "outputs": []
    },
    {
      "cell_type": "code",
      "source": [
        "cnn_fc = CNN()\n",
        "cnn_fc.to(device)\n",
        "fc = FC()\n",
        "fc.to(device)"
      ],
      "metadata": {
        "id": "bag7rBaKDKEF",
        "outputId": "19d5f482-1de9-45d3-f0ca-55c17a965ce3",
        "colab": {
          "base_uri": "https://localhost:8080/"
        }
      },
      "execution_count": 13,
      "outputs": [
        {
          "output_type": "execute_result",
          "data": {
            "text/plain": [
              "FC(\n",
              "  (fc1): Linear(in_features=2048, out_features=1, bias=True)\n",
              "  (actv): Sigmoid()\n",
              ")"
            ]
          },
          "metadata": {},
          "execution_count": 13
        }
      ]
    },
    {
      "cell_type": "code",
      "source": [
        "epochs = 100\n",
        "lr = 1e-6\n",
        "\n",
        "\n",
        "opt = torch.optim.Adam([{\"params\": cnn_fc.parameters()},{\"params\":fc.parameters()}], lr=lr)\n",
        "for epoch in range(epochs):\n",
        "  acc, loss = run_one_epoch(epoch+1, cnn_fc, fc, opt, train_dataloader)"
      ],
      "metadata": {
        "id": "uVcec7hSZ67k",
        "outputId": "adb83956-ce0b-4bfd-c173-34c140cc046f",
        "colab": {
          "base_uri": "https://localhost:8080/"
        }
      },
      "execution_count": 14,
      "outputs": [
        {
          "output_type": "stream",
          "name": "stdout",
          "text": [
            "Epoch 2: train loss 0.690, train acc 0.000\n",
            "Epoch 3: train loss 0.690, train acc 0.020\n",
            "Epoch 4: train loss 0.690, train acc 0.000\n",
            "Epoch 5: train loss 0.690, train acc 0.000\n",
            "Epoch 6: train loss 0.690, train acc 0.000\n",
            "Epoch 7: train loss 0.690, train acc 0.010\n",
            "Epoch 8: train loss 0.690, train acc 0.000\n",
            "Epoch 9: train loss 0.690, train acc 0.010\n",
            "Epoch 10: train loss 0.690, train acc 0.000\n",
            "Epoch 11: train loss 0.690, train acc 0.210\n",
            "Epoch 12: train loss 0.690, train acc 0.030\n",
            "Epoch 13: train loss 0.690, train acc 0.000\n",
            "Epoch 14: train loss 0.690, train acc 0.120\n",
            "Epoch 15: train loss 0.689, train acc 0.210\n",
            "Epoch 16: train loss 0.689, train acc 0.010\n",
            "Epoch 17: train loss 0.689, train acc 0.200\n",
            "Epoch 18: train loss 0.689, train acc 0.290\n",
            "Epoch 19: train loss 0.689, train acc 0.000\n",
            "Epoch 20: train loss 0.689, train acc 0.030\n",
            "Epoch 21: train loss 0.689, train acc 0.010\n",
            "Epoch 22: train loss 0.689, train acc 0.010\n",
            "Epoch 23: train loss 0.689, train acc 0.030\n",
            "Epoch 24: train loss 0.689, train acc 0.030\n",
            "Epoch 25: train loss 0.689, train acc 0.000\n",
            "Epoch 26: train loss 0.689, train acc 0.080\n",
            "Epoch 27: train loss 0.689, train acc 0.000\n",
            "Epoch 28: train loss 0.689, train acc 0.020\n",
            "Epoch 29: train loss 0.689, train acc 0.230\n",
            "Epoch 30: train loss 0.689, train acc 0.000\n",
            "Epoch 31: train loss 0.689, train acc 0.000\n",
            "Epoch 32: train loss 0.689, train acc 0.000\n",
            "Epoch 33: train loss 0.688, train acc 0.000\n",
            "Epoch 34: train loss 0.688, train acc 0.000\n",
            "Epoch 35: train loss 0.688, train acc 0.020\n",
            "Epoch 36: train loss 0.688, train acc 0.020\n",
            "Epoch 37: train loss 0.688, train acc 0.040\n",
            "Epoch 38: train loss 0.688, train acc 0.030\n",
            "Epoch 39: train loss 0.688, train acc 0.000\n",
            "Epoch 40: train loss 0.688, train acc 0.000\n",
            "Epoch 41: train loss 0.688, train acc 0.000\n",
            "Epoch 42: train loss 0.688, train acc 0.000\n",
            "Epoch 43: train loss 0.688, train acc 0.000\n",
            "Epoch 44: train loss 0.688, train acc 0.040\n",
            "Epoch 45: train loss 0.688, train acc 0.030\n",
            "Epoch 46: train loss 0.688, train acc 0.030\n",
            "Epoch 47: train loss 0.688, train acc 0.040\n",
            "Epoch 48: train loss 0.688, train acc 0.020\n",
            "Epoch 49: train loss 0.688, train acc 0.020\n",
            "Epoch 50: train loss 0.687, train acc 0.020\n",
            "Epoch 51: train loss 0.687, train acc 0.000\n",
            "Epoch 52: train loss 0.687, train acc 0.020\n",
            "Epoch 53: train loss 0.687, train acc 0.040\n",
            "Epoch 54: train loss 0.687, train acc 0.030\n",
            "Epoch 55: train loss 0.687, train acc 0.120\n",
            "Epoch 56: train loss 0.687, train acc 0.000\n",
            "Epoch 57: train loss 0.687, train acc 0.220\n",
            "Epoch 58: train loss 0.687, train acc 0.000\n",
            "Epoch 59: train loss 0.687, train acc 0.030\n",
            "Epoch 60: train loss 0.687, train acc 0.200\n",
            "Epoch 61: train loss 0.687, train acc 0.020\n",
            "Epoch 62: train loss 0.687, train acc 0.000\n",
            "Epoch 63: train loss 0.687, train acc 0.040\n",
            "Epoch 64: train loss 0.687, train acc 0.000\n",
            "Epoch 65: train loss 0.687, train acc 0.000\n",
            "Epoch 66: train loss 0.687, train acc 0.020\n",
            "Epoch 67: train loss 0.687, train acc 0.110\n",
            "Epoch 68: train loss 0.687, train acc 0.000\n",
            "Epoch 69: train loss 0.686, train acc 0.020\n",
            "Epoch 70: train loss 0.686, train acc 0.000\n",
            "Epoch 71: train loss 0.686, train acc 0.020\n",
            "Epoch 72: train loss 0.686, train acc 0.000\n",
            "Epoch 73: train loss 0.686, train acc 0.030\n",
            "Epoch 74: train loss 0.686, train acc 0.000\n",
            "Epoch 75: train loss 0.686, train acc 0.220\n",
            "Epoch 76: train loss 0.686, train acc 0.210\n",
            "Epoch 77: train loss 0.686, train acc 0.020\n",
            "Epoch 78: train loss 0.686, train acc 0.040\n",
            "Epoch 79: train loss 0.686, train acc 0.140\n",
            "Epoch 80: train loss 0.686, train acc 0.180\n",
            "Epoch 81: train loss 0.686, train acc 0.110\n",
            "Epoch 82: train loss 0.686, train acc 0.030\n",
            "Epoch 83: train loss 0.686, train acc 0.000\n",
            "Epoch 84: train loss 0.686, train acc 0.020\n",
            "Epoch 85: train loss 0.686, train acc 0.000\n",
            "Epoch 86: train loss 0.685, train acc 0.000\n",
            "Epoch 87: train loss 0.685, train acc 0.000\n",
            "Epoch 88: train loss 0.685, train acc 0.000\n",
            "Epoch 89: train loss 0.685, train acc 0.120\n",
            "Epoch 90: train loss 0.685, train acc 0.250\n",
            "Epoch 91: train loss 0.685, train acc 0.000\n",
            "Epoch 92: train loss 0.685, train acc 0.000\n",
            "Epoch 93: train loss 0.685, train acc 0.030\n",
            "Epoch 94: train loss 0.685, train acc 0.000\n",
            "Epoch 95: train loss 0.685, train acc 0.010\n",
            "Epoch 96: train loss 0.685, train acc 0.030\n",
            "Epoch 97: train loss 0.685, train acc 0.060\n",
            "Epoch 98: train loss 0.685, train acc 0.000\n",
            "Epoch 99: train loss 0.685, train acc 0.000\n",
            "Epoch 100: train loss 0.685, train acc 0.040\n",
            "Epoch 101: train loss 0.685, train acc 0.000\n"
          ]
        }
      ]
    }
  ],
  "metadata": {
    "kernelspec": {
      "display_name": "tf_m1",
      "language": "python",
      "name": "python3"
    },
    "language_info": {
      "codemirror_mode": {
        "name": "ipython",
        "version": 3
      },
      "file_extension": ".py",
      "mimetype": "text/x-python",
      "name": "python",
      "nbconvert_exporter": "python",
      "pygments_lexer": "ipython3",
      "version": "3.8.10"
    },
    "orig_nbformat": 4,
    "vscode": {
      "interpreter": {
        "hash": "1c113ca73dcb788d262ff5c14dccc6d994c5d16184791d4e782c53cfe6cb089e"
      }
    },
    "colab": {
      "provenance": []
    },
    "gpuClass": "standard"
  },
  "nbformat": 4,
  "nbformat_minor": 0
}