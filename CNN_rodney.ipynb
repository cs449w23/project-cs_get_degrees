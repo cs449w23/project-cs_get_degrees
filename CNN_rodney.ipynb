{
  "metadata": {
    "kernelspec": {
      "name": "python3",
      "display_name": "Python 3",
      "language": "python"
    },
    "language_info": {
      "name": "python",
      "version": "3.7.12",
      "mimetype": "text/x-python",
      "codemirror_mode": {
        "name": "ipython",
        "version": 3
      },
      "pygments_lexer": "ipython3",
      "nbconvert_exporter": "python",
      "file_extension": ".py"
    },
    "vscode": {
      "interpreter": {
        "hash": "1c113ca73dcb788d262ff5c14dccc6d994c5d16184791d4e782c53cfe6cb089e"
      }
    },
    "colab": {
      "provenance": [],
      "include_colab_link": true
    },
    "gpuClass": "standard",
    "accelerator": "GPU"
  },
  "nbformat_minor": 0,
  "nbformat": 4,
  "cells": [
    {
      "cell_type": "markdown",
      "metadata": {
        "id": "view-in-github",
        "colab_type": "text"
      },
      "source": [
        "<a href=\"https://colab.research.google.com/github/cs449w23/project-cs_get_degrees/blob/main/CNN_rodney.ipynb\" target=\"_parent\"><img src=\"https://colab.research.google.com/assets/colab-badge.svg\" alt=\"Open In Colab\"/></a>"
      ]
    },
    {
      "cell_type": "code",
      "source": [
        "# Install required 3rd party packages \n",
        "%pip install h5py"
      ],
      "metadata": {
        "id": "qWpfnXSPwvp8",
        "trusted": true
      },
      "execution_count": null,
      "outputs": []
    },
    {
      "cell_type": "code",
      "source": [
        "# Import required libs \n",
        "import torch\n",
        "import numpy as np\n",
        "import matplotlib.pyplot as plt\n",
        "from sklearn.datasets import load_digits\n",
        "from sklearn.model_selection import train_test_split\n",
        "from collections import defaultdict\n",
        "from torch.utils.data import Dataset, random_split, TensorDataset\n",
        "from torchvision import datasets\n",
        "from torchvision.transforms import ToTensor\n",
        "import matplotlib.image as mpimg\n",
        "from torch.utils.data import DataLoader\n",
        "import time\n",
        "import h5py"
      ],
      "metadata": {
        "id": "t3LHjcE0wQ3E",
        "trusted": true
      },
      "execution_count": null,
      "outputs": []
    },
    {
      "cell_type": "code",
      "source": [
        "# Define CNN class\n",
        "class CNN(torch.nn.Module):\n",
        "    def __init__(self, initial_channel_size=16):\n",
        "        \"\"\"\n",
        "        Initial_channel_size: Number of channels outputted from the ititial Conv2d\n",
        "        \"\"\"\n",
        "        super(CNN, self).__init__()\n",
        "        self.conv1 = torch.nn.Conv2d(3, initial_channel_size, kernel_size=3)  \n",
        "        self.conv2 = torch.nn.Conv2d(initial_channel_size, initial_channel_size * 2, kernel_size=3) \n",
        "        self.conv3 = torch.nn.Conv2d(initial_channel_size * 2, initial_channel_size * 4, kernel_size=3) \n",
        "        self.conv4 = torch.nn.Conv2d(initial_channel_size * 4, initial_channel_size * 8, kernel_size=3) \n",
        "        \n",
        "\n",
        "    def forward(self, x):\n",
        "        batch_size = x.size(0)\n",
        "\n",
        "        relu = torch.nn.ReLU()\n",
        "        maxpool = torch.nn.MaxPool2d(stride=2,kernel_size=2)\n",
        "        x = self.conv1(x)\n",
        "        x = maxpool(relu(x))\n",
        "        x = self.conv2(x)\n",
        "        x = maxpool(relu(x))\n",
        "        x = self.conv3(x)\n",
        "        x = maxpool(relu(x))\n",
        "        x = self.conv4(x)\n",
        "        x = maxpool(relu(x))\n",
        "        return x"
      ],
      "metadata": {
        "id": "8-R4w92JwqBu",
        "trusted": true
      },
      "execution_count": null,
      "outputs": []
    },
    {
      "cell_type": "code",
      "source": [
        "# define Fully Connected Class\n",
        "class FC(torch.nn.Module):\n",
        "    def __init__(self, spatial_size=4, initial_channel_size=16, dropout=0.25):\n",
        "            \"\"\"\n",
        "            Spacial Size: Number of 'pixels' in each dimension of the CNN output\n",
        "            Initial_channel_size: Number of channels outputted from the ititial Conv2d\n",
        "            \"\"\"\n",
        "          super(FC, self).__init__()\n",
        "          self.drop_out_1 = torch.nn.Dropout(dropout)\n",
        "          self.fc1 = torch.nn.Linear(spatial_size**2 * initial_channel_size * 8, spatial_size * initial_channel_size * 8)  \n",
        "          self.drop_out_2 = torch.nn.Dropout(dropout)\n",
        "          self.fc2 = torch.nn.Linear(spatial_size * initial_channel_size * 8, 1)\n",
        "          self.actv = torch.nn.Sigmoid()\n",
        "    def forward(self, x):\n",
        "        batch_size = x.size(0)\n",
        "        x = self.drop_out_1(x)\n",
        "        x = torch.flatten(x, 1)\n",
        "        x = self.fc1(x)\n",
        "        x = self.actv(x)\n",
        "        x = self.drop_out_2(x)\n",
        "        x = self.fc2(x)\n",
        "        x = self.actv(x)\n",
        "        return x\n"
      ],
      "metadata": {
        "id": "HbD3k-0053vu",
        "trusted": true
      },
      "execution_count": null,
      "outputs": []
    },
    {
      "cell_type": "code",
      "source": [
        "# Define Recurrent Neural Network Class\n",
        "class RNN(torch.nn.Module):\n",
        "    def __init__(self, batch_size=32, initial_channel_size=16, dropout=0.25):\n",
        "        \"\"\"\n",
        "        Initial_channel_size: Number of channels outputted from the ititial Conv2d\n",
        "        \"\"\"\n",
        "        super(RNN, self).__init__()\n",
        "        self.input_size = initial_channel_size * 8\n",
        "        self.output_size = 1\n",
        "        self.hidden_size = initial_channel_size * 8\n",
        "        self.n_layers = 1\n",
        "        self.batch_size = batch_size\n",
        "        self.drop_out_1 = torch.nn.Dropout(dropout)\n",
        "        self.rnn = torch.nn.RNNCell(self.input_size, self.hidden_size)\n",
        "        self.drop_out_2 = torch.nn.Dropout(dropout)\n",
        "        self.fc1 = torch.nn.Linear(self.hidden_size*16, self.hidden_size*4)\n",
        "        self.drop_out_3 = torch.nn.Dropout(dropout)\n",
        "        self.fc2 = torch.nn.Linear(self.hidden_size*4, self.output_size)\n",
        "        self.actv = torch.nn.Sigmoid()\n",
        "\n",
        "    def forward(self, x):\n",
        "        hidden = None\n",
        "        batch_size = x.size(0)\n",
        "        x = x.permute(0,2,3,1).reshape(batch_size,16,-1)\n",
        "        output= torch.tensor([]).to(device)\n",
        "        x = self.drop_out_1(x)\n",
        "        for pixel in range(16):\n",
        "          input = x[:,pixel,:]\n",
        "          hidden = self.rnn(input, hidden)\n",
        "          output = torch.cat((output, hidden), dim=1)\n",
        "        output = self.drop_out_2(output)\n",
        "        output = self.actv(self.fc1(output))\n",
        "        output = self.drop_out_3(output)\n",
        "        output = self.actv(self.fc2(output))\n",
        "        return output"
      ],
      "metadata": {
        "id": "eSFpYhgG56Ao",
        "trusted": true
      },
      "execution_count": null,
      "outputs": []
    },
    {
      "cell_type": "code",
      "source": [
        "# Define Long Short-Term Memory Class\n",
        "class LSTM(torch.nn.Module):\n",
        "    def __init__(self,batch_size=32, initial_channel_size=16,dropout=0.25):\n",
        "        \"\"\"\n",
        "        Initial_channel_size: Number of channels outputted from the ititial Conv2d\n",
        "        \"\"\"\n",
        "        super(LSTM,self).__init__()\n",
        "        self.input_size = initial_channel_size * 8\n",
        "        self.output_size = 1\n",
        "        self.hidden_size = initial_channel_size * 8\n",
        "        self.batch_size = batch_size\n",
        "        self.drop_out_1 = torch.nn.Dropout(dropout)\n",
        "        self.drop_out_2 = torch.nn.Dropout(dropout)\n",
        "        self.drop_out_3 = torch.nn.Dropout(dropout)\n",
        "        self.lstm = torch.nn.LSTMCell(input_size=self.input_size,hidden_size=self.hidden_size)\n",
        "        self.fc1 = torch.nn.Linear(self.hidden_size*16, self.hidden_size*4)\n",
        "        self.fc2 = torch.nn.Linear(self.hidden_size*4, self.output_size)\n",
        "        self.actv = torch.nn.Sigmoid()\n",
        "\n",
        "    def forward(self,x):\n",
        "        batch_size = x.size(0)\n",
        "        hidden = torch.zeros(batch_size, self.hidden_size).to(device)\n",
        "        cell_state = torch.zeros(batch_size, self.hidden_size).to(device)\n",
        "        x = x.permute(0,2,3,1).reshape(batch_size,16,-1)\n",
        "        output= torch.tensor([]).to(device)\n",
        "        x = self.drop_out_1(x)\n",
        "        for pixel in range(16):\n",
        "          input = x[:,pixel,:]\n",
        "          (hidden, cell_state) = self.lstm(input, (hidden, cell_state))\n",
        "          output = torch.cat((output, hidden), dim=1)\n",
        "        output = self.drop_out_2(output)\n",
        "        output = self.actv(self.fc1(output))\n",
        "        output = self.drop_out_2(output)\n",
        "        output = self.actv(self.fc2(output))\n",
        "        return output"
      ],
      "metadata": {
        "id": "dTm33ZQc_SsH",
        "trusted": true
      },
      "execution_count": null,
      "outputs": []
    },
    {
      "cell_type": "code",
      "source": [
        "# Define Meta Data\n",
        "device = torch.device('cuda:0' if torch.cuda.is_available() else 'cpu')\n",
        "display(device)\n",
        "batch_size = 256\n",
        "initial_channel_size = 80\n",
        "lr=1e-4\n",
        "epochs=15\n",
        "dropout = 0.3\n",
        "train_x_path = \"/kaggle/input/metastatic-tissue-classification-patchcamelyon/pcam/training_split.h5\"\n",
        "train_y_path = \"/kaggle/input/metastatic-tissue-classification-patchcamelyon/Labels/Labels/camelyonpatch_level_2_split_train_y.h5\"\n",
        "val_x_path = \"/kaggle/input/metastatic-tissue-classification-patchcamelyon/pcam/validation_split.h5\"\n",
        "val_y_path = \"/kaggle/input/metastatic-tissue-classification-patchcamelyon/Labels/Labels/camelyonpatch_level_2_split_valid_y.h5\"\n",
        "save_model_dir = \"/kaggle/working/\""
      ],
      "metadata": {
        "id": "Nyn18xvGdh_f",
        "trusted": true
      },
      "execution_count": null,
      "outputs": []
    },
    {
      "cell_type": "code",
      "source": [
        "# Load traning data, preprocess (permute, change dtype), pass data into DataLoader \n",
        "split_test = 75_000\n",
        "with h5py.File(train_x_path, \"r\") as f:\n",
        "    train_data_x = f['x']\n",
        "    train_data_x_small = torch.from_numpy(train_data_x[:split_test]).permute(0,3,1,2).float()\n",
        "    print(train_data_x_small.shape)\n",
        "with h5py.File(train_y_path, \"r\") as f:\n",
        "    train_data_y = f['y']\n",
        "    train_data_y_small = torch.from_numpy(train_data_y[:split_test]).float()\n",
        "\n",
        "\n",
        "train_data_small = TensorDataset(train_data_x_small, train_data_y_small)\n",
        "train_dataloader = DataLoader(train_data_small, batch_size=batch_size, shuffle=True, pin_memory=True)"
      ],
      "metadata": {
        "id": "rn2FZbKYNngh",
        "trusted": true
      },
      "execution_count": null,
      "outputs": []
    },
    {
      "cell_type": "code",
      "source": [
        "# Load validation data, preprocess (permute, change dtype), pass data into DataLoader \n",
        "split_val = 7_500\n",
        "with h5py.File(val_x_path, \"r\") as f:\n",
        "    val_data_x = f['x']\n",
        "    val_data_x_small = torch.from_numpy(val_data_x[:split_val]).float().permute(0,3,1,2).float()\n",
        "    print(val_data_x_small.shape)\n",
        "with h5py.File(val_y_path, \"r\") as f:\n",
        "    val_data_y = f['y']\n",
        "    val_data_y_small = torch.from_numpy(val_data_y[:split_val]).float()\n",
        "    \n",
        "    \n",
        "val_data_small = TensorDataset(val_data_x_small, val_data_y_small)\n",
        "val_dataloader = DataLoader(val_data_small, batch_size=batch_size, shuffle=True, pin_memory=True)"
      ],
      "metadata": {
        "id": "xVr4JlCR8r4_",
        "trusted": true
      },
      "execution_count": null,
      "outputs": []
    },
    {
      "cell_type": "code",
      "source": [
        "# Define helper function to track length of epoch / print train/test curves\n",
        "def epoch_time(start_time, end_time):    \n",
        "    \"\"\"\n",
        "    Function to track how long an epoch lasts given a start and end time\n",
        "    \"\"\"\n",
        "    elapsed_time = end_time - start_time\n",
        "    elapsed_mins = int(elapsed_time / 60)\n",
        "    elapsed_secs = int(elapsed_time - (elapsed_mins * 60))\n",
        "    return elapsed_mins, elapsed_secs\n",
        "\n",
        "def print_model_performance(train_acc, train_loss, val_acc,val_loss):\n",
        "    \"\"\"\n",
        "    Plot train and validation loss and accuracy\n",
        "    \"\"\"\n",
        "    epochs = range(1,len(val_acc) + 1)\n",
        "    for metric, subplot_num, train_data, val_data in [[\"Loss\", 1,train_loss, val_loss],[\"Acc\", 2, train_acc, val_acc]]:\n",
        "        plt.subplot(1,2,subplot_num)\n",
        "        plt.plot(epochs, train_data,  label=\"Training \" + metric)\n",
        "        plt.plot(epochs, val_data, label='Validation ' + metric)\n",
        "        plt.title('Training and Validation ' + metric)\n",
        "        plt.xlabel('Epochs')\n",
        "        plt.ylabel(metric)\n",
        "        plt.legend()\n",
        "    plt.tight_layout()\n",
        "    plt.show()\n",
        "\n",
        "    "
      ],
      "metadata": {
        "id": "Uek2teITEu6_",
        "trusted": true
      },
      "execution_count": null,
      "outputs": []
    },
    {
      "cell_type": "code",
      "source": [
        "# Run one epoch \n",
        "def run_one_epoch(epoch_idx, cnn, model_out, optimizer, train_dataloader, val_dataloader, verbose):\n",
        "    \"\"\"\n",
        "    Run a traning and validation epoch\n",
        "    \"\"\"\n",
        "    # Training loop\n",
        "    start_time = time.time()\n",
        "    cnn.train()\n",
        "    model_out.train()\n",
        "    train_loss = 0.0\n",
        "    train_acc = 0.0\n",
        "    train_total = 0\n",
        "    for batch_idx, (images, labels) in enumerate(train_dataloader):\n",
        "        optimizer.zero_grad()\n",
        "        images = images.to(device)\n",
        "        labels = labels.to(device)\n",
        "        cnn_output = cnn(images)\n",
        "        predictions = model_out(cnn_output).squeeze()\n",
        "        acc_sum = 0\n",
        "        # Calculate accuracy \n",
        "        for i, pred in enumerate(predictions):\n",
        "          if round(pred.item()) == labels[i]:\n",
        "            acc_sum += 1\n",
        "        acc = acc_sum / labels.size(0)\n",
        "        loss = torch.nn.BCELoss()(predictions, labels.squeeze().float())\n",
        "        loss.backward()\n",
        "        optimizer.step()\n",
        "        train_loss += (loss * len(images))\n",
        "        train_acc += (acc * len(labels))\n",
        "        train_total += len(labels)\n",
        "    \n",
        "    # Validation loop\n",
        "    train_loss /= train_total\n",
        "    train_acc /= train_total\n",
        "    cnn.eval()\n",
        "    model_out.eval()\n",
        "    val_loss = 0\n",
        "    val_acc = 0\n",
        "    val_total = 0\n",
        "    with torch.no_grad():\n",
        "      for batch_idx, (images, labels) in enumerate(val_dataloader):\n",
        "          images = images.to(device)\n",
        "          labels = labels.to(device)\n",
        "          cnn_output = cnn(images)\n",
        "          predictions = model_out(cnn_output).squeeze()\n",
        "          acc_sum = 0\n",
        "          # Calculate accuracy\n",
        "          for i, pred in enumerate(predictions):\n",
        "            if round(pred.item()) == labels[i]:\n",
        "              acc_sum += 1\n",
        "          acc = acc_sum / labels.size(0)\n",
        "          loss = torch.nn.BCELoss()(predictions, labels.squeeze().float())\n",
        "          val_loss += (loss * len(images))\n",
        "          val_acc += (acc * len(labels))\n",
        "          val_total += len(labels)\n",
        "      val_loss /= val_total\n",
        "      val_acc /= val_total\n",
        "    end_time = time.time()\n",
        "    epoch_mins, epoch_secs = epoch_time(start_time, end_time)\n",
        "    if verbose:\n",
        "        print(f'Epoch: {epoch_idx+1:02} | Time: {epoch_mins}m {epoch_secs}s')\n",
        "        print(f\"Epoch {epoch_idx + 1}:  val loss {val_loss :0.3f}, val acc {val_acc :0.3f}, train loss {train_loss :0.3f}, train acc {train_acc :0.3f}\")\n",
        "    return train_acc, train_loss.item(), val_acc,val_loss.item()"
      ],
      "metadata": {
        "trusted": true,
        "id": "fy0rHXYf_p8e"
      },
      "execution_count": null,
      "outputs": []
    },
    {
      "cell_type": "code",
      "source": [
        "# Train the inputted Models\n",
        "def train(cnn, model_out, epochs, lr, verbose ,cnn_name=\"model_cnn\", model_out_name=\"model_out\"):\n",
        "    \"\"\"\n",
        "    Train a model and save the best model predicated on validation accuracy\n",
        "    \"\"\"\n",
        "    train_accs = []\n",
        "    train_losses = []\n",
        "    val_accs = []\n",
        "    val_losses = []\n",
        "    best_val_acc = 0\n",
        "    opt = torch.optim.Adam([{\"params\": cnn.parameters()},{\"params\":model_out.parameters()}], lr=lr)\n",
        "    for epoch in range(epochs):\n",
        "      train_acc, train_loss, val_acc, val_loss = run_one_epoch(epoch, cnn, model_out, opt, train_dataloader, val_dataloader, verbose)\n",
        "      train_accs.append(train_acc)\n",
        "      train_losses.append(train_loss)\n",
        "      val_accs.append(val_acc)\n",
        "      val_losses.append(val_loss)\n",
        "      if best_val_acc < val_acc:\n",
        "            torch.save(cnn.state_dict(), save_model_dir + cnn_name)\n",
        "            torch.save(model_out.state_dict(), save_model_dir + model_out_name)\n",
        "            best_val_acc = val_acc\n",
        "            if verbose:\n",
        "                print(\"Saved Model\")\n",
        "    return train_accs, train_losses, val_accs, val_losses, best_val_acc"
      ],
      "metadata": {
        "trusted": true,
        "id": "EvO_2eWN_p8f"
      },
      "execution_count": null,
      "outputs": []
    },
    {
      "cell_type": "code",
      "source": [
        "# Init and train the fully connected model\n",
        "def train_fc(initial_channel_size=16,lr=2.5e-5, epochs=15, dropout=0.25, verbose=True):\n",
        "    \"\"\"\n",
        "    Train a fully connected model, printing out the train / val values\n",
        "    \"\"\"\n",
        "    cnn_fc = CNN(initial_channel_size=initial_channel_size)\n",
        "    cnn_fc.to(device)\n",
        "    \n",
        "    fc = FC(initial_channel_size=initial_channel_size, dropout=dropout)\n",
        "    fc.to(device)\n",
        "    \n",
        "    fc_train_accs, fc_train_losses, fc_val_accs, fc_val_losses, best_val_acc = train(cnn_fc, \n",
        "                                                                       fc, \n",
        "                                                                       epochs, \n",
        "                                                                       lr, \n",
        "                                                                       verbose,\n",
        "                                                                       cnn_name=\"cnn_fc\", \n",
        "                                                                       model_out_name=\"model_out_fc\")\n",
        "    print(f\"\\nBEST VAL ACCURACY: {best_val_acc}\")\n",
        "    print_model_performance(fc_train_accs, fc_train_losses, fc_val_accs, fc_val_losses)\n",
        "    return best_val_acc"
      ],
      "metadata": {
        "id": "uVcec7hSZ67k",
        "trusted": true
      },
      "execution_count": null,
      "outputs": []
    },
    {
      "cell_type": "code",
      "source": [
        "# init and train the RNN model\n",
        "def train_rnn(initial_channel_size=16, lr=2.5e-5, epochs=15, dropout=0.25, verbose=True):\n",
        "    \"\"\"\n",
        "    Train a RNN based model, printing out the train / val values\n",
        "    \"\"\"\n",
        "    cnn_rnn = CNN(initial_channel_size=initial_channel_size)\n",
        "    cnn_rnn.to(device)\n",
        "    rrn = RNN(initial_channel_size=initial_channel_size,dropout=dropout)\n",
        "    rrn.to(device)\n",
        "\n",
        "    rnn_train_accs, rnn_train_losses, rnn_val_accs, rnn_val_losses, best_val_acc = train(cnn_rnn, \n",
        "                                                                           rrn, \n",
        "                                                                           epochs, \n",
        "                                                                           lr,\n",
        "                                                                           verbose,\n",
        "                                                                           cnn_name=\"cnn_rnn\") \n",
        "    print(f\"\\nBEST VAL ACCURACY: {best_val_acc}\")\n",
        "    print_model_performance(rnn_train_accs, rnn_train_losses, rnn_val_accs, rnn_val_losses)\n",
        "    return best_val_acc"
      ],
      "metadata": {
        "trusted": true,
        "id": "dEcYIkgZ_p8f"
      },
      "execution_count": null,
      "outputs": []
    },
    {
      "cell_type": "code",
      "source": [
        "# init and train the LSTM model\n",
        "def train_lstm(initial_channel_size=16,lr=2.5e-5, epochs=15, dropout=0.25, verbose=True):\n",
        "    \"\"\"\n",
        "    Train a RNN based model, printing out the train / val values\n",
        "    \"\"\"\n",
        "    cnn_lstm = CNN(initial_channel_size=initial_channel_size)\n",
        "    cnn_lstm.to(device)\n",
        "    \n",
        "    lstm = LSTM(initial_channel_size=initial_channel_size, dropout=dropout)\n",
        "    lstm.to(device)\n",
        "    \n",
        "    lstm_train_accs, lstm_train_losses, lstm_val_accs, lstm_val_losses, best_val_acc = train(cnn_lstm, \n",
        "                                                                               lstm, \n",
        "                                                                               epochs, \n",
        "                                                                               lr,\n",
        "                                                                               verbose,\n",
        "                                                                               cnn_name=\"cnn_lstm\", \n",
        "                                                                               model_out_name=\"model_out_lstm\")\n",
        "    print(f\"\\nBEST VAL ACCURACY: {best_val_acc}\")\n",
        "    print_model_performance(lstm_train_accs, lstm_train_losses, lstm_val_accs, lstm_val_losses)\n",
        "    return best_val_acc"
      ],
      "metadata": {
        "trusted": true,
        "id": "_9k8ySzo_p8f"
      },
      "execution_count": null,
      "outputs": []
    },
    {
      "cell_type": "code",
      "source": [
        "# train fc\n",
        "# train_fc(initial_channel_size=initial_channel_size, lr=lr, epochs=epochs, dropout=dropout, verbose=True)"
      ],
      "metadata": {
        "trusted": true,
        "id": "sInPjtFd_p8g"
      },
      "execution_count": null,
      "outputs": []
    },
    {
      "cell_type": "code",
      "source": [
        "# train rnn\n",
        "# train_rnn(initial_channel_size=initial_channel_size, lr=lr, epochs=epochs, dropout=dropout, verbose=True)"
      ],
      "metadata": {
        "trusted": true,
        "id": "sIMmpsvq_p8g"
      },
      "execution_count": null,
      "outputs": []
    },
    {
      "cell_type": "code",
      "source": [
        "# train fc\n",
        "# train_lstm(initial_channel_size=initial_channel_size, lr=lr, epochs=epochs, dropout=dropout, verbose=True)"
      ],
      "metadata": {
        "trusted": true,
        "id": "fp2QD7Pn_p8g"
      },
      "execution_count": null,
      "outputs": []
    },
    {
      "cell_type": "code",
      "source": [
        "# Hyperparameter search\n",
        "# def train_model_hyperparameter_search(model, initial_channel_size, lr, dropout):\n",
        "#     if model == 'fc':\n",
        "#         train_fc(initial_channel_size=initial_channel_size, lr=lr, epochs=epochs, dropout=dropout, verbose=False)\n",
        "#     elif model == 'rnn':\n",
        "#         train_rnn(initial_channel_size=initial_channel_size, lr=lr, epochs=epochs, dropout=dropout, verbose=False)\n",
        "#     elif model == 'lstm':\n",
        "#         train_lstm(initial_channel_size=initial_channel_size, lr=lr, epochs=epochs, dropout=dropout, verbose=False)\n",
        "#     print(f\"Hyperparameters <{model}> initial_channel_size: {initial_channel_size} lr: {lr} dropout: {dropout}\")\n",
        "\n",
        "# for model in ['fc', 'rnn','lstm']:\n",
        "#     for initial_channel_size_temp in [48, 64, 80]:\n",
        "#         train_model_hyperparameter_search(model, initial_channel_size_temp, lr, dropout)\n",
        "#     for lr_temp in [1e-4, 5e-5, 2.5e-4]:\n",
        "#         train_model_hyperparameter_search(model, initial_channel_size, lr_temp, dropout)\n",
        "#     for dropout_temp in [0.2, 0.3, 0.4]:\n",
        "#         train_model_hyperparameter_search(model, initial_channel_size, lr, dropout_temp)"
      ],
      "metadata": {
        "trusted": true,
        "id": "WvUPCpqi_p8g"
      },
      "execution_count": null,
      "outputs": []
    },
    {
      "cell_type": "code",
      "source": [
        "accs_fc = []\n",
        "for _ in range(5):\n",
        "    accs_fc.append(train_fc(initial_channel_size=initial_channel_size, lr=lr, epochs=epochs, dropout=dropout, verbose=False))\n",
        "print(sum(accs_fc)/len(accs_fc))"
      ],
      "metadata": {
        "trusted": true,
        "id": "8_kaNsOr_p8g"
      },
      "execution_count": null,
      "outputs": []
    },
    {
      "cell_type": "code",
      "source": [
        "accs_rnn = []\n",
        "for _ in range(5):\n",
        "    accs_rnn.append(train_rnn(initial_channel_size=initial_channel_size, lr=lr, epochs=epochs, dropout=dropout, verbose=False))\n",
        "print(sum(accs_rnn)/len(accs_rnn))"
      ],
      "metadata": {
        "trusted": true,
        "id": "Od04Qeuq_p8h"
      },
      "execution_count": null,
      "outputs": []
    },
    {
      "cell_type": "code",
      "source": [
        "accs_lstm = []\n",
        "for _ in range(5):\n",
        "    accs_lstm.append(train_lstm(initial_channel_size=initial_channel_size, lr=lr, epochs=epochs, dropout=dropout, verbose=False))\n",
        "print(sum(accs_lstm)/len(accs_lstm))"
      ],
      "metadata": {
        "trusted": true,
        "id": "3EknyV63_p8h"
      },
      "execution_count": null,
      "outputs": []
    }
  ]
}