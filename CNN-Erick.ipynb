{
  "cells": [
    {
      "cell_type": "code",
      "source": [
        "%pip install h5py"
      ],
      "metadata": {
        "id": "qWpfnXSPwvp8",
        "outputId": "426cde35-6a14-4fc3-e01b-5be03f8c7b79",
        "colab": {
          "base_uri": "https://localhost:8080/"
        }
      },
      "execution_count": 2,
      "outputs": [
        {
          "output_type": "stream",
          "name": "stdout",
          "text": [
            "Looking in indexes: https://pypi.org/simple, https://us-python.pkg.dev/colab-wheels/public/simple/\n",
            "Requirement already satisfied: h5py in /usr/local/lib/python3.9/dist-packages (3.1.0)\n",
            "Requirement already satisfied: numpy>=1.19.3 in /usr/local/lib/python3.9/dist-packages (from h5py) (1.22.4)\n"
          ]
        }
      ]
    },
    {
      "cell_type": "code",
      "source": [
        "from google.colab import drive\n",
        "drive.mount('/content/drive')"
      ],
      "metadata": {
        "colab": {
          "base_uri": "https://localhost:8080/"
        },
        "id": "fFsSZti7NA9j",
        "outputId": "d6d4a4c1-6afc-4794-8de6-c1fa5bf5622f"
      },
      "execution_count": 3,
      "outputs": [
        {
          "output_type": "stream",
          "name": "stdout",
          "text": [
            "Drive already mounted at /content/drive; to attempt to forcibly remount, call drive.mount(\"/content/drive\", force_remount=True).\n"
          ]
        }
      ]
    },
    {
      "cell_type": "code",
      "execution_count": 20,
      "metadata": {
        "id": "t3LHjcE0wQ3E"
      },
      "outputs": [],
      "source": [
        "import torch\n",
        "import numpy as np\n",
        "import matplotlib.pyplot as plt\n",
        "from sklearn.datasets import load_digits\n",
        "from sklearn.model_selection import train_test_split\n",
        "from collections import defaultdict\n",
        "from torch.utils.data import Dataset, random_split, TensorDataset\n",
        "from torchvision import datasets\n",
        "from torchvision.transforms import ToTensor\n",
        "import matplotlib.image as mpimg\n",
        "from torch.utils.data import DataLoader\n",
        "import time\n",
        "import h5py"
      ]
    },
    {
      "cell_type": "code",
      "source": [
        "class CNN(torch.nn.Module):\n",
        "    def __init__(self):\n",
        "        super(CNN, self).__init__()\n",
        "        #self.linear_layer_size = linear_layer_size\n",
        "\n",
        "        self.conv1 = torch.nn.Conv2d(3, 16, kernel_size=3)  # input: torch.Size([64, 3, 96, 96])\n",
        "        self.conv2 = torch.nn.Conv2d(16, 32, kernel_size=3) # input: torch.Size([64, 16, 47, 47])\n",
        "        self.conv3 = torch.nn.Conv2d(32, 64, kernel_size=3) # input: torch.Size([64, 32, 22, 22])\n",
        "        self.conv4 = torch.nn.Conv2d(64, 128, kernel_size=3) # input: torch.Size([64, 64, 10, 10])\n",
        "        # output: torch.Size([64, 128, 4, 4])\n",
        "        \n",
        "\n",
        "    def forward(self, x):\n",
        "        #print(x.shape)\n",
        "        print(\"cnn start\")\n",
        "        batch_size = x.size(0)\n",
        "\n",
        "        relu = torch.nn.ReLU()\n",
        "        maxpool = torch.nn.MaxPool2d(stride=2,kernel_size=2)\n",
        "\n",
        "        x = self.conv1(x)\n",
        "        x = maxpool(relu(x))\n",
        "        #print(x.shape)\n",
        "        x = self.conv2(x)\n",
        "        x = maxpool(relu(x))\n",
        "        #print(x.shape)\n",
        "        x = self.conv3(x)\n",
        "        x = maxpool(relu(x))\n",
        "        #print(x.shape)\n",
        "        x = self.conv4(x)\n",
        "        x = maxpool(relu(x))\n",
        "        print(\"cnn end\")\n",
        "        #print(x.shape)\n",
        "        # x = x.reshape(batch_size, self.linear_layer_size)\n",
        "        # x = self.linear(x)\n",
        "        return x"
      ],
      "metadata": {
        "id": "8-R4w92JwqBu"
      },
      "execution_count": 5,
      "outputs": []
    },
    {
      "cell_type": "code",
      "source": [
        "class FC(torch.nn.Module):\n",
        "    def __init__(self):\n",
        "          super(FC, self).__init__()\n",
        "          self.fc1 = torch.nn.Linear(4 * 4 * 128, 1)  # input: (6,6,128) # output 2 classes\n",
        "          self.actv = torch.nn.Sigmoid()\n",
        "    def forward(self, x):\n",
        "        #print(x.shape)\n",
        "        batch_size = x.size(0)\n",
        "        x = torch.flatten(x, 1)\n",
        "        #print(x.shape)\n",
        "        x = self.fc1(x)\n",
        "        x = self.actv(x)\n",
        "        return x\n"
      ],
      "metadata": {
        "id": "HbD3k-0053vu"
      },
      "execution_count": null,
      "outputs": []
    },
    {
      "cell_type": "code",
      "source": [
        "class LSTM(torch.nn.Module):\n",
        "    def __init__(self,batch_size=32):\n",
        "        super(LSTM,self).__init__()\n",
        "        self.input_size = 128\n",
        "        self.output_size = 2\n",
        "        self.hidden_size = 32\n",
        "        self.n_layers = 1\n",
        "        self.batch_size = batch_size\n",
        "        self.lstm = torch.nn.LSTM(input_size=self.input_size,hidden_size=self.hidden_size,num_layers=self.n_layers,batch_first=True)\n",
        "        self.fc1 = torch.nn.Linear(in_features=5,out_features=self.output_size)\n",
        "\n",
        "    def forward(self,x):\n",
        "        output,_status = self.lstm(x)\n",
        "        output = output.view(-1, self.hidden_size)\n",
        "        output = self.fc1(torch.relu(output))\n",
        "        return output\n",
        "\n",
        "    def initHidden(self):\n",
        "        return torch.zeros(self.n_layers,self.batch_size, self.hidden_size)\n"
      ],
      "metadata": {
        "id": "dTm33ZQc_SsH"
      },
      "execution_count": null,
      "outputs": []
    },
    {
      "cell_type": "code",
      "source": [
        "device = torch.device('cuda:0' if torch.cuda.is_available() else 'cpu')\n",
        "device"
      ],
      "metadata": {
        "colab": {
          "base_uri": "https://localhost:8080/"
        },
        "id": "Nyn18xvGdh_f",
        "outputId": "effd2489-4e18-4256-df94-bece2271318e"
      },
      "execution_count": 6,
      "outputs": [
        {
          "output_type": "execute_result",
          "data": {
            "text/plain": [
              "device(type='cuda', index=0)"
            ]
          },
          "metadata": {},
          "execution_count": 6
        }
      ]
    },
    {
      "cell_type": "code",
      "source": [
        "batch_size = 32"
      ],
      "metadata": {
        "id": "r4QzKNBEIHaw"
      },
      "execution_count": 7,
      "outputs": []
    },
    {
      "cell_type": "code",
      "source": [
        "# train_data = datasets.PCAM(\n",
        "#     root=\"/content/drive/MyDrive/CS449\",\n",
        "#     split=\"train\",\n",
        "#     download=False,\n",
        "#     transform=ToTensor()\n",
        "# )"
      ],
      "metadata": {
        "id": "rn2FZbKYNngh"
      },
      "execution_count": null,
      "outputs": []
    },
    {
      "cell_type": "code",
      "source": [
        "# val_data = datasets.PCAM(\n",
        "#     root=\"/content/drive/MyDrive/CS449\",\n",
        "#     split=\"val\",\n",
        "#     download=False,\n",
        "#     transform=ToTensor()\n",
        "# )"
      ],
      "metadata": {
        "id": "xVr4JlCR8r4_"
      },
      "execution_count": null,
      "outputs": []
    },
    {
      "cell_type": "code",
      "source": [
        "# train_data_list = []\n",
        "# for i in range(len(train_data)):\n",
        "#   print(i, len(train_data))\n",
        "#   train_data_list.append(train_data[i])"
      ],
      "metadata": {
        "id": "AiJFWXwmZT9-"
      },
      "execution_count": null,
      "outputs": []
    },
    {
      "cell_type": "code",
      "source": [
        "# pickle.dump(train_data_list,open(\"/content/drive/MyDrive/CS449/data_objects/train_data_list.p\",\"wb\"))"
      ],
      "metadata": {
        "id": "smavo-C2ZYOS"
      },
      "execution_count": null,
      "outputs": []
    },
    {
      "cell_type": "code",
      "source": [
        "# valid_data_list = []\n",
        "# for i in range(len(val_data)):\n",
        "#   print(i, len(val_data))\n",
        "#   valid_data_list.append(val_data[i])"
      ],
      "metadata": {
        "id": "PmtLDvecaUFx"
      },
      "execution_count": null,
      "outputs": []
    },
    {
      "cell_type": "code",
      "source": [
        "# pickle.dump(valid_data_list,open(\"/content/drive/MyDrive/CS449/data_objects/valid_data_list.p\",\"wb\"))"
      ],
      "metadata": {
        "id": "-2wKzBC8achO"
      },
      "execution_count": null,
      "outputs": []
    },
    {
      "cell_type": "code",
      "source": [
        "# train_split = random_split(train_data, [20000, 242144], generator=torch.Generator().manual_seed(42))\n",
        "# train_data_small = train_split[0]\n",
        "# train_data_size = 500\n",
        "# train_split = random_split(train_data, [train_data_size, len(train_data)-train_data_size], generator=torch.Generator().manual_seed(42))\n",
        "# train_data_small = train_split[0]\n",
        "# train_data_small = []\n",
        "# for i in range(100):\n",
        "#   print(i)\n",
        "#   train_data_small.append(train_data[i])\n"
      ],
      "metadata": {
        "id": "6JYRFF4c3aCs"
      },
      "execution_count": null,
      "outputs": []
    },
    {
      "cell_type": "code",
      "source": [
        "split_train = 75000\n",
        "with h5py.File(\"/content/drive/MyDrive/CS449/pcam/camelyonpatch_level_2_split_train_x.h5\", \"r\") as f:\n",
        "    train_data_x = f['x']\n",
        "    train_data_x_small = torch.from_numpy(train_data_x[:split_train]).permute(0,3,1,2).float()\n",
        "    print(train_data_x_small.shape)\n",
        "with h5py.File(\"/content/drive/MyDrive/CS449/pcam/camelyonpatch_level_2_split_train_y.h5\", \"r\") as f:\n",
        "    train_data_y = f['y']\n",
        "    train_data_y_small = torch.from_numpy(train_data_y[:split_train]).float()\n",
        "\n",
        "\n",
        "train_data_small = TensorDataset(train_data_x_small, train_data_y_small)"
      ],
      "metadata": {
        "id": "3yFa_DTc_bLJ",
        "outputId": "07cd1bf5-b890-493e-b687-e64015819eec",
        "colab": {
          "base_uri": "https://localhost:8080/"
        }
      },
      "execution_count": 8,
      "outputs": [
        {
          "output_type": "stream",
          "name": "stdout",
          "text": [
            "torch.Size([75000, 3, 96, 96])\n"
          ]
        }
      ]
    },
    {
      "cell_type": "code",
      "source": [
        "split_val = 5000\n",
        "with h5py.File(\"/content/drive/MyDrive/CS449/pcam/camelyonpatch_level_2_split_valid_x.h5\", \"r\") as f:\n",
        "    val_data_x = f['x']\n",
        "    val_data_x_small = torch.from_numpy(val_data_x[:split_val]).permute(0,3,1,2).float()\n",
        "    print(val_data_x_small.shape)\n",
        "with h5py.File(\"/content/drive/MyDrive/CS449/pcam/camelyonpatch_level_2_split_valid_y.h5\", \"r\") as f:\n",
        "    valid_data_y = f['y']\n",
        "    valid_data_y_small = torch.from_numpy(valid_data_y[:split_val]).float()\n",
        "val_data_small = TensorDataset(val_data_x_small, valid_data_y_small)"
      ],
      "metadata": {
        "id": "Ci5vOom7BKci",
        "outputId": "57236221-d4cd-4355-d789-4938762a43ae",
        "colab": {
          "base_uri": "https://localhost:8080/"
        }
      },
      "execution_count": 10,
      "outputs": [
        {
          "output_type": "stream",
          "name": "stdout",
          "text": [
            "torch.Size([5000, 3, 96, 96])\n"
          ]
        }
      ]
    },
    {
      "cell_type": "code",
      "source": [
        "# train_data = pickle.load(\"/content/drive/MyDrive/CS449/data_objects/train_data_list.p\")"
      ],
      "metadata": {
        "id": "GumJond4ZKDh"
      },
      "execution_count": null,
      "outputs": []
    },
    {
      "cell_type": "code",
      "source": [
        "# train_data_small = train_data[:500]"
      ],
      "metadata": {
        "id": "1gvSkj8ScfO0"
      },
      "execution_count": null,
      "outputs": []
    },
    {
      "cell_type": "code",
      "source": [
        "train_dataloader = DataLoader(train_data_small, batch_size=batch_size, shuffle=True)"
      ],
      "metadata": {
        "id": "GTIxHASDOa6H"
      },
      "execution_count": 11,
      "outputs": []
    },
    {
      "cell_type": "code",
      "source": [
        "# !gunzip /content/drive/MyDrive/CS449/pcam/camelyonpatch_level_2_split_valid_x.h5.gz"
      ],
      "metadata": {
        "id": "f6ZpgjQTR8PK"
      },
      "execution_count": null,
      "outputs": []
    },
    {
      "cell_type": "code",
      "source": [
        "# val_data_size = 10\n",
        "# val_split = random_split(val_data, [val_data_size, len(val_data)-val_data_size], generator=torch.Generator().manual_seed(42))\n",
        "# val_data_small = val_split[0]\n",
        "# # val_data_small = []\n",
        "# for i in range(10):\n",
        "#   val_data_small.append(val_data[i])"
      ],
      "metadata": {
        "id": "LzKNfdtB4D6g"
      },
      "execution_count": null,
      "outputs": []
    },
    {
      "cell_type": "code",
      "source": [
        "# valid_data = pickle.load(\"/content/drive/MyDrive/CS449/data_objects/valid_data_list.p\")"
      ],
      "metadata": {
        "id": "Pt2rgg-AclHz"
      },
      "execution_count": null,
      "outputs": []
    },
    {
      "cell_type": "code",
      "source": [
        "# val_data_small = valid_data[:100]"
      ],
      "metadata": {
        "id": "5j6RNrwac5YJ"
      },
      "execution_count": null,
      "outputs": []
    },
    {
      "cell_type": "code",
      "source": [
        "val_dataloader = DataLoader(val_data_small, batch_size=batch_size, shuffle=True)"
      ],
      "metadata": {
        "id": "QXewr6IPsdaq"
      },
      "execution_count": 12,
      "outputs": []
    },
    {
      "cell_type": "code",
      "source": [
        "def run_one_epoch_cnn_fc(epoch_idx, model1, model2, optimizer, train_dataloader, val_dataloader, train=True):\n",
        "    model1.train()\n",
        "    model2.train()\n",
        "    # loop through the entire dataset once per epoch\n",
        "    train_loss = 0.0\n",
        "    train_acc = 0.0\n",
        "    train_total = 0\n",
        "    for batch_idx, (images, labels) in enumerate(train_dataloader):\n",
        "        optimizer.zero_grad()\n",
        "        images = images.to(device)\n",
        "        labels = labels.to(device)\n",
        "        model1_output = model1(images)\n",
        "        #print(\"hi\")\n",
        "        predictions = model2(model1_output).squeeze()\n",
        "        acc_sum = 0\n",
        "        for i, pred in enumerate(predictions):\n",
        "\n",
        "          if round(pred.item()) == labels[i]:\n",
        "            acc_sum += 1\n",
        "        acc = acc_sum / labels.size(0)\n",
        "        # acc = torch.sum(predictions == labels) / labels.size(0)\n",
        "        loss = torch.nn.BCELoss()(predictions, labels.float())\n",
        "        loss.backward()\n",
        "        optimizer.step()\n",
        "\n",
        "    # update statistics\n",
        "        train_loss += (loss * len(images))\n",
        "        train_acc += (acc * len(labels))\n",
        "        train_total += len(labels)\n",
        "    \n",
        "    train_loss /= train_total\n",
        "    train_acc /= train_total\n",
        "\n",
        "    # model1.eval()\n",
        "    # model2.eval()\n",
        "    val_loss = 0\n",
        "    val_acc = 0\n",
        "    val_total = 0\n",
        "    with torch.no_grad():\n",
        "      for batch_idx, (images, labels) in enumerate(val_dataloader):\n",
        "          images = images.to(device)\n",
        "          labels = labels.to(device)\n",
        "          model1_output = model1(images)\n",
        "          predictions = model2(model1_output).squeeze()\n",
        "          acc_sum = 0\n",
        "          for i, pred in enumerate(predictions):\n",
        "            if round(pred.item()) == labels[i]:\n",
        "              acc_sum += 1\n",
        "          acc = acc_sum / labels.size(0)\n",
        "          # acc = torch.sum(predictions == labels) / labels.size(0)\n",
        "          loss = torch.nn.BCELoss()(predictions, labels.float())\n",
        "\n",
        "          # update statistics\n",
        "          val_loss += (loss * len(images))\n",
        "          val_acc += (acc * len(labels))\n",
        "          val_total += len(labels)\n",
        "\n",
        "      val_loss /= val_total\n",
        "      val_acc /= val_total\n",
        "\n",
        "    print(f\"Epoch {epoch_idx + 1}:  val loss {val_loss :0.3f}, val acc {val_acc :0.3f}, train loss {train_loss :0.3f}, train acc {train_acc :0.3f}\")\n",
        "\n",
        "    # Detach tells torch to stop tracking a tensor's gradients\n",
        "    return train_acc, train_loss.detach(), val_acc,val_loss.detach()"
      ],
      "metadata": {
        "id": "t6qAmSrVELM9"
      },
      "execution_count": null,
      "outputs": []
    },
    {
      "cell_type": "code",
      "source": [
        "cnn_fc = CNN()\n",
        "cnn_fc.to(device)\n",
        "fc = FC()\n",
        "fc.to(device)\n",
        "epochs = 50\n",
        "lr = 1e-3\n",
        "\n",
        "train_accs = []\n",
        "train_losses = []\n",
        "val_accs = []\n",
        "val_losses = []\n",
        "opt = torch.optim.Adam([{\"params\": cnn_fc.parameters()},{\"params\":fc.parameters()}], lr=lr)\n",
        "for epoch in range(epochs):\n",
        "  train_acc, train_loss, val_acc, val_loss = run_one_epoch_cnn_fc(epoch, cnn_fc, fc, opt, train_dataloader, val_dataloader)\n",
        "  train_accs.append(train_acc)\n",
        "  train_losses.append(train_loss)\n",
        "  val_accs.append(val_acc)\n",
        "  val_losses.append(val_loss)\n",
        "print(train_accs)\n",
        "print(train_losses)\n",
        "print(val_accs)\n",
        "print(val_losses)"
      ],
      "metadata": {
        "id": "uVcec7hSZ67k",
        "colab": {
          "base_uri": "https://localhost:8080/",
          "height": 478
        },
        "outputId": "8f2a4b89-9574-43ec-ec71-d688bab0b3a2"
      },
      "execution_count": null,
      "outputs": [
        {
          "output_type": "error",
          "ename": "KeyboardInterrupt",
          "evalue": "ignored",
          "traceback": [
            "\u001b[0;31m---------------------------------------------------------------------------\u001b[0m",
            "\u001b[0;31mKeyboardInterrupt\u001b[0m                         Traceback (most recent call last)",
            "\u001b[0;32m<ipython-input-88-b265f9ebb944>\u001b[0m in \u001b[0;36m<module>\u001b[0;34m\u001b[0m\n\u001b[1;32m     12\u001b[0m \u001b[0mopt\u001b[0m \u001b[0;34m=\u001b[0m \u001b[0mtorch\u001b[0m\u001b[0;34m.\u001b[0m\u001b[0moptim\u001b[0m\u001b[0;34m.\u001b[0m\u001b[0mAdam\u001b[0m\u001b[0;34m(\u001b[0m\u001b[0;34m[\u001b[0m\u001b[0;34m{\u001b[0m\u001b[0;34m\"params\"\u001b[0m\u001b[0;34m:\u001b[0m \u001b[0mcnn_fc\u001b[0m\u001b[0;34m.\u001b[0m\u001b[0mparameters\u001b[0m\u001b[0;34m(\u001b[0m\u001b[0;34m)\u001b[0m\u001b[0;34m}\u001b[0m\u001b[0;34m,\u001b[0m\u001b[0;34m{\u001b[0m\u001b[0;34m\"params\"\u001b[0m\u001b[0;34m:\u001b[0m\u001b[0mfc\u001b[0m\u001b[0;34m.\u001b[0m\u001b[0mparameters\u001b[0m\u001b[0;34m(\u001b[0m\u001b[0;34m)\u001b[0m\u001b[0;34m}\u001b[0m\u001b[0;34m]\u001b[0m\u001b[0;34m,\u001b[0m \u001b[0mlr\u001b[0m\u001b[0;34m=\u001b[0m\u001b[0mlr\u001b[0m\u001b[0;34m)\u001b[0m\u001b[0;34m\u001b[0m\u001b[0;34m\u001b[0m\u001b[0m\n\u001b[1;32m     13\u001b[0m \u001b[0;32mfor\u001b[0m \u001b[0mepoch\u001b[0m \u001b[0;32min\u001b[0m \u001b[0mrange\u001b[0m\u001b[0;34m(\u001b[0m\u001b[0mepochs\u001b[0m\u001b[0;34m)\u001b[0m\u001b[0;34m:\u001b[0m\u001b[0;34m\u001b[0m\u001b[0;34m\u001b[0m\u001b[0m\n\u001b[0;32m---> 14\u001b[0;31m   \u001b[0mtrain_acc\u001b[0m\u001b[0;34m,\u001b[0m \u001b[0mtrain_loss\u001b[0m\u001b[0;34m,\u001b[0m \u001b[0mval_acc\u001b[0m\u001b[0;34m,\u001b[0m \u001b[0mval_loss\u001b[0m \u001b[0;34m=\u001b[0m \u001b[0mrun_one_epoch_cnn_fc\u001b[0m\u001b[0;34m(\u001b[0m\u001b[0mepoch\u001b[0m\u001b[0;34m,\u001b[0m \u001b[0mcnn_fc\u001b[0m\u001b[0;34m,\u001b[0m \u001b[0mfc\u001b[0m\u001b[0;34m,\u001b[0m \u001b[0mopt\u001b[0m\u001b[0;34m,\u001b[0m \u001b[0mtrain_dataloader\u001b[0m\u001b[0;34m,\u001b[0m \u001b[0mval_dataloader\u001b[0m\u001b[0;34m)\u001b[0m\u001b[0;34m\u001b[0m\u001b[0;34m\u001b[0m\u001b[0m\n\u001b[0m\u001b[1;32m     15\u001b[0m   \u001b[0mtrain_accs\u001b[0m\u001b[0;34m.\u001b[0m\u001b[0mappend\u001b[0m\u001b[0;34m(\u001b[0m\u001b[0mtrain_acc\u001b[0m\u001b[0;34m)\u001b[0m\u001b[0;34m\u001b[0m\u001b[0;34m\u001b[0m\u001b[0m\n\u001b[1;32m     16\u001b[0m   \u001b[0mtrain_losses\u001b[0m\u001b[0;34m.\u001b[0m\u001b[0mappend\u001b[0m\u001b[0;34m(\u001b[0m\u001b[0mtrain_loss\u001b[0m\u001b[0;34m)\u001b[0m\u001b[0;34m\u001b[0m\u001b[0;34m\u001b[0m\u001b[0m\n",
            "\u001b[0;32m<ipython-input-80-776ba3165439>\u001b[0m in \u001b[0;36mrun_one_epoch_cnn_fc\u001b[0;34m(epoch_idx, model1, model2, optimizer, train_dataloader, val_dataloader, train)\u001b[0m\n\u001b[1;32m      6\u001b[0m     \u001b[0mtrain_acc\u001b[0m \u001b[0;34m=\u001b[0m \u001b[0;36m0.0\u001b[0m\u001b[0;34m\u001b[0m\u001b[0;34m\u001b[0m\u001b[0m\n\u001b[1;32m      7\u001b[0m     \u001b[0mtrain_total\u001b[0m \u001b[0;34m=\u001b[0m \u001b[0;36m0\u001b[0m\u001b[0;34m\u001b[0m\u001b[0;34m\u001b[0m\u001b[0m\n\u001b[0;32m----> 8\u001b[0;31m     \u001b[0;32mfor\u001b[0m \u001b[0mbatch_idx\u001b[0m\u001b[0;34m,\u001b[0m \u001b[0;34m(\u001b[0m\u001b[0mimages\u001b[0m\u001b[0;34m,\u001b[0m \u001b[0mlabels\u001b[0m\u001b[0;34m)\u001b[0m \u001b[0;32min\u001b[0m \u001b[0menumerate\u001b[0m\u001b[0;34m(\u001b[0m\u001b[0mtrain_dataloader\u001b[0m\u001b[0;34m)\u001b[0m\u001b[0;34m:\u001b[0m\u001b[0;34m\u001b[0m\u001b[0;34m\u001b[0m\u001b[0m\n\u001b[0m\u001b[1;32m      9\u001b[0m         \u001b[0moptimizer\u001b[0m\u001b[0;34m.\u001b[0m\u001b[0mzero_grad\u001b[0m\u001b[0;34m(\u001b[0m\u001b[0;34m)\u001b[0m\u001b[0;34m\u001b[0m\u001b[0;34m\u001b[0m\u001b[0m\n\u001b[1;32m     10\u001b[0m         \u001b[0mimages\u001b[0m \u001b[0;34m=\u001b[0m \u001b[0mimages\u001b[0m\u001b[0;34m.\u001b[0m\u001b[0mto\u001b[0m\u001b[0;34m(\u001b[0m\u001b[0mdevice\u001b[0m\u001b[0;34m)\u001b[0m\u001b[0;34m\u001b[0m\u001b[0;34m\u001b[0m\u001b[0m\n",
            "\u001b[0;32m/usr/local/lib/python3.8/dist-packages/torch/utils/data/dataloader.py\u001b[0m in \u001b[0;36m__next__\u001b[0;34m(self)\u001b[0m\n\u001b[1;32m    626\u001b[0m                 \u001b[0;31m# TODO(https://github.com/pytorch/pytorch/issues/76750)\u001b[0m\u001b[0;34m\u001b[0m\u001b[0;34m\u001b[0m\u001b[0;34m\u001b[0m\u001b[0m\n\u001b[1;32m    627\u001b[0m                 \u001b[0mself\u001b[0m\u001b[0;34m.\u001b[0m\u001b[0m_reset\u001b[0m\u001b[0;34m(\u001b[0m\u001b[0;34m)\u001b[0m  \u001b[0;31m# type: ignore[call-arg]\u001b[0m\u001b[0;34m\u001b[0m\u001b[0;34m\u001b[0m\u001b[0m\n\u001b[0;32m--> 628\u001b[0;31m             \u001b[0mdata\u001b[0m \u001b[0;34m=\u001b[0m \u001b[0mself\u001b[0m\u001b[0;34m.\u001b[0m\u001b[0m_next_data\u001b[0m\u001b[0;34m(\u001b[0m\u001b[0;34m)\u001b[0m\u001b[0;34m\u001b[0m\u001b[0;34m\u001b[0m\u001b[0m\n\u001b[0m\u001b[1;32m    629\u001b[0m             \u001b[0mself\u001b[0m\u001b[0;34m.\u001b[0m\u001b[0m_num_yielded\u001b[0m \u001b[0;34m+=\u001b[0m \u001b[0;36m1\u001b[0m\u001b[0;34m\u001b[0m\u001b[0;34m\u001b[0m\u001b[0m\n\u001b[1;32m    630\u001b[0m             \u001b[0;32mif\u001b[0m \u001b[0mself\u001b[0m\u001b[0;34m.\u001b[0m\u001b[0m_dataset_kind\u001b[0m \u001b[0;34m==\u001b[0m \u001b[0m_DatasetKind\u001b[0m\u001b[0;34m.\u001b[0m\u001b[0mIterable\u001b[0m \u001b[0;32mand\u001b[0m\u001b[0;31m \u001b[0m\u001b[0;31m\\\u001b[0m\u001b[0;34m\u001b[0m\u001b[0;34m\u001b[0m\u001b[0m\n",
            "\u001b[0;32m/usr/local/lib/python3.8/dist-packages/torch/utils/data/dataloader.py\u001b[0m in \u001b[0;36m_next_data\u001b[0;34m(self)\u001b[0m\n\u001b[1;32m    669\u001b[0m     \u001b[0;32mdef\u001b[0m \u001b[0m_next_data\u001b[0m\u001b[0;34m(\u001b[0m\u001b[0mself\u001b[0m\u001b[0;34m)\u001b[0m\u001b[0;34m:\u001b[0m\u001b[0;34m\u001b[0m\u001b[0;34m\u001b[0m\u001b[0m\n\u001b[1;32m    670\u001b[0m         \u001b[0mindex\u001b[0m \u001b[0;34m=\u001b[0m \u001b[0mself\u001b[0m\u001b[0;34m.\u001b[0m\u001b[0m_next_index\u001b[0m\u001b[0;34m(\u001b[0m\u001b[0;34m)\u001b[0m  \u001b[0;31m# may raise StopIteration\u001b[0m\u001b[0;34m\u001b[0m\u001b[0;34m\u001b[0m\u001b[0m\n\u001b[0;32m--> 671\u001b[0;31m         \u001b[0mdata\u001b[0m \u001b[0;34m=\u001b[0m \u001b[0mself\u001b[0m\u001b[0;34m.\u001b[0m\u001b[0m_dataset_fetcher\u001b[0m\u001b[0;34m.\u001b[0m\u001b[0mfetch\u001b[0m\u001b[0;34m(\u001b[0m\u001b[0mindex\u001b[0m\u001b[0;34m)\u001b[0m  \u001b[0;31m# may raise StopIteration\u001b[0m\u001b[0;34m\u001b[0m\u001b[0;34m\u001b[0m\u001b[0m\n\u001b[0m\u001b[1;32m    672\u001b[0m         \u001b[0;32mif\u001b[0m \u001b[0mself\u001b[0m\u001b[0;34m.\u001b[0m\u001b[0m_pin_memory\u001b[0m\u001b[0;34m:\u001b[0m\u001b[0;34m\u001b[0m\u001b[0;34m\u001b[0m\u001b[0m\n\u001b[1;32m    673\u001b[0m             \u001b[0mdata\u001b[0m \u001b[0;34m=\u001b[0m \u001b[0m_utils\u001b[0m\u001b[0;34m.\u001b[0m\u001b[0mpin_memory\u001b[0m\u001b[0;34m.\u001b[0m\u001b[0mpin_memory\u001b[0m\u001b[0;34m(\u001b[0m\u001b[0mdata\u001b[0m\u001b[0;34m,\u001b[0m \u001b[0mself\u001b[0m\u001b[0;34m.\u001b[0m\u001b[0m_pin_memory_device\u001b[0m\u001b[0;34m)\u001b[0m\u001b[0;34m\u001b[0m\u001b[0;34m\u001b[0m\u001b[0m\n",
            "\u001b[0;32m/usr/local/lib/python3.8/dist-packages/torch/utils/data/_utils/fetch.py\u001b[0m in \u001b[0;36mfetch\u001b[0;34m(self, possibly_batched_index)\u001b[0m\n\u001b[1;32m     56\u001b[0m                 \u001b[0mdata\u001b[0m \u001b[0;34m=\u001b[0m \u001b[0mself\u001b[0m\u001b[0;34m.\u001b[0m\u001b[0mdataset\u001b[0m\u001b[0;34m.\u001b[0m\u001b[0m__getitems__\u001b[0m\u001b[0;34m(\u001b[0m\u001b[0mpossibly_batched_index\u001b[0m\u001b[0;34m)\u001b[0m\u001b[0;34m\u001b[0m\u001b[0;34m\u001b[0m\u001b[0m\n\u001b[1;32m     57\u001b[0m             \u001b[0;32melse\u001b[0m\u001b[0;34m:\u001b[0m\u001b[0;34m\u001b[0m\u001b[0;34m\u001b[0m\u001b[0m\n\u001b[0;32m---> 58\u001b[0;31m                 \u001b[0mdata\u001b[0m \u001b[0;34m=\u001b[0m \u001b[0;34m[\u001b[0m\u001b[0mself\u001b[0m\u001b[0;34m.\u001b[0m\u001b[0mdataset\u001b[0m\u001b[0;34m[\u001b[0m\u001b[0midx\u001b[0m\u001b[0;34m]\u001b[0m \u001b[0;32mfor\u001b[0m \u001b[0midx\u001b[0m \u001b[0;32min\u001b[0m \u001b[0mpossibly_batched_index\u001b[0m\u001b[0;34m]\u001b[0m\u001b[0;34m\u001b[0m\u001b[0;34m\u001b[0m\u001b[0m\n\u001b[0m\u001b[1;32m     59\u001b[0m         \u001b[0;32melse\u001b[0m\u001b[0;34m:\u001b[0m\u001b[0;34m\u001b[0m\u001b[0;34m\u001b[0m\u001b[0m\n\u001b[1;32m     60\u001b[0m             \u001b[0mdata\u001b[0m \u001b[0;34m=\u001b[0m \u001b[0mself\u001b[0m\u001b[0;34m.\u001b[0m\u001b[0mdataset\u001b[0m\u001b[0;34m[\u001b[0m\u001b[0mpossibly_batched_index\u001b[0m\u001b[0;34m]\u001b[0m\u001b[0;34m\u001b[0m\u001b[0;34m\u001b[0m\u001b[0m\n",
            "\u001b[0;32m/usr/local/lib/python3.8/dist-packages/torch/utils/data/_utils/fetch.py\u001b[0m in \u001b[0;36m<listcomp>\u001b[0;34m(.0)\u001b[0m\n\u001b[1;32m     56\u001b[0m                 \u001b[0mdata\u001b[0m \u001b[0;34m=\u001b[0m \u001b[0mself\u001b[0m\u001b[0;34m.\u001b[0m\u001b[0mdataset\u001b[0m\u001b[0;34m.\u001b[0m\u001b[0m__getitems__\u001b[0m\u001b[0;34m(\u001b[0m\u001b[0mpossibly_batched_index\u001b[0m\u001b[0;34m)\u001b[0m\u001b[0;34m\u001b[0m\u001b[0;34m\u001b[0m\u001b[0m\n\u001b[1;32m     57\u001b[0m             \u001b[0;32melse\u001b[0m\u001b[0;34m:\u001b[0m\u001b[0;34m\u001b[0m\u001b[0;34m\u001b[0m\u001b[0m\n\u001b[0;32m---> 58\u001b[0;31m                 \u001b[0mdata\u001b[0m \u001b[0;34m=\u001b[0m \u001b[0;34m[\u001b[0m\u001b[0mself\u001b[0m\u001b[0;34m.\u001b[0m\u001b[0mdataset\u001b[0m\u001b[0;34m[\u001b[0m\u001b[0midx\u001b[0m\u001b[0;34m]\u001b[0m \u001b[0;32mfor\u001b[0m \u001b[0midx\u001b[0m \u001b[0;32min\u001b[0m \u001b[0mpossibly_batched_index\u001b[0m\u001b[0;34m]\u001b[0m\u001b[0;34m\u001b[0m\u001b[0;34m\u001b[0m\u001b[0m\n\u001b[0m\u001b[1;32m     59\u001b[0m         \u001b[0;32melse\u001b[0m\u001b[0;34m:\u001b[0m\u001b[0;34m\u001b[0m\u001b[0;34m\u001b[0m\u001b[0m\n\u001b[1;32m     60\u001b[0m             \u001b[0mdata\u001b[0m \u001b[0;34m=\u001b[0m \u001b[0mself\u001b[0m\u001b[0;34m.\u001b[0m\u001b[0mdataset\u001b[0m\u001b[0;34m[\u001b[0m\u001b[0mpossibly_batched_index\u001b[0m\u001b[0;34m]\u001b[0m\u001b[0;34m\u001b[0m\u001b[0;34m\u001b[0m\u001b[0m\n",
            "\u001b[0;32m/usr/local/lib/python3.8/dist-packages/torch/utils/data/dataset.py\u001b[0m in \u001b[0;36m__getitem__\u001b[0;34m(self, idx)\u001b[0m\n\u001b[1;32m    293\u001b[0m         \u001b[0;32mif\u001b[0m \u001b[0misinstance\u001b[0m\u001b[0;34m(\u001b[0m\u001b[0midx\u001b[0m\u001b[0;34m,\u001b[0m \u001b[0mlist\u001b[0m\u001b[0;34m)\u001b[0m\u001b[0;34m:\u001b[0m\u001b[0;34m\u001b[0m\u001b[0;34m\u001b[0m\u001b[0m\n\u001b[1;32m    294\u001b[0m             \u001b[0;32mreturn\u001b[0m \u001b[0mself\u001b[0m\u001b[0;34m.\u001b[0m\u001b[0mdataset\u001b[0m\u001b[0;34m[\u001b[0m\u001b[0;34m[\u001b[0m\u001b[0mself\u001b[0m\u001b[0;34m.\u001b[0m\u001b[0mindices\u001b[0m\u001b[0;34m[\u001b[0m\u001b[0mi\u001b[0m\u001b[0;34m]\u001b[0m \u001b[0;32mfor\u001b[0m \u001b[0mi\u001b[0m \u001b[0;32min\u001b[0m \u001b[0midx\u001b[0m\u001b[0;34m]\u001b[0m\u001b[0;34m]\u001b[0m\u001b[0;34m\u001b[0m\u001b[0;34m\u001b[0m\u001b[0m\n\u001b[0;32m--> 295\u001b[0;31m         \u001b[0;32mreturn\u001b[0m \u001b[0mself\u001b[0m\u001b[0;34m.\u001b[0m\u001b[0mdataset\u001b[0m\u001b[0;34m[\u001b[0m\u001b[0mself\u001b[0m\u001b[0;34m.\u001b[0m\u001b[0mindices\u001b[0m\u001b[0;34m[\u001b[0m\u001b[0midx\u001b[0m\u001b[0;34m]\u001b[0m\u001b[0;34m]\u001b[0m\u001b[0;34m\u001b[0m\u001b[0;34m\u001b[0m\u001b[0m\n\u001b[0m\u001b[1;32m    296\u001b[0m \u001b[0;34m\u001b[0m\u001b[0m\n\u001b[1;32m    297\u001b[0m     \u001b[0;32mdef\u001b[0m \u001b[0m__len__\u001b[0m\u001b[0;34m(\u001b[0m\u001b[0mself\u001b[0m\u001b[0;34m)\u001b[0m\u001b[0;34m:\u001b[0m\u001b[0;34m\u001b[0m\u001b[0;34m\u001b[0m\u001b[0m\n",
            "\u001b[0;32m/usr/local/lib/python3.8/dist-packages/torchvision/datasets/pcam.py\u001b[0m in \u001b[0;36m__getitem__\u001b[0;34m(self, idx)\u001b[0m\n\u001b[1;32m    103\u001b[0m         \u001b[0mimages_file\u001b[0m \u001b[0;34m=\u001b[0m \u001b[0mself\u001b[0m\u001b[0;34m.\u001b[0m\u001b[0m_FILES\u001b[0m\u001b[0;34m[\u001b[0m\u001b[0mself\u001b[0m\u001b[0;34m.\u001b[0m\u001b[0m_split\u001b[0m\u001b[0;34m]\u001b[0m\u001b[0;34m[\u001b[0m\u001b[0;34m\"images\"\u001b[0m\u001b[0;34m]\u001b[0m\u001b[0;34m[\u001b[0m\u001b[0;36m0\u001b[0m\u001b[0;34m]\u001b[0m\u001b[0;34m\u001b[0m\u001b[0;34m\u001b[0m\u001b[0m\n\u001b[1;32m    104\u001b[0m         \u001b[0;32mwith\u001b[0m \u001b[0mself\u001b[0m\u001b[0;34m.\u001b[0m\u001b[0mh5py\u001b[0m\u001b[0;34m.\u001b[0m\u001b[0mFile\u001b[0m\u001b[0;34m(\u001b[0m\u001b[0mself\u001b[0m\u001b[0;34m.\u001b[0m\u001b[0m_base_folder\u001b[0m \u001b[0;34m/\u001b[0m \u001b[0mimages_file\u001b[0m\u001b[0;34m)\u001b[0m \u001b[0;32mas\u001b[0m \u001b[0mimages_data\u001b[0m\u001b[0;34m:\u001b[0m\u001b[0;34m\u001b[0m\u001b[0;34m\u001b[0m\u001b[0m\n\u001b[0;32m--> 105\u001b[0;31m             \u001b[0mimage\u001b[0m \u001b[0;34m=\u001b[0m \u001b[0mImage\u001b[0m\u001b[0;34m.\u001b[0m\u001b[0mfromarray\u001b[0m\u001b[0;34m(\u001b[0m\u001b[0mimages_data\u001b[0m\u001b[0;34m[\u001b[0m\u001b[0;34m\"x\"\u001b[0m\u001b[0;34m]\u001b[0m\u001b[0;34m[\u001b[0m\u001b[0midx\u001b[0m\u001b[0;34m]\u001b[0m\u001b[0;34m)\u001b[0m\u001b[0;34m.\u001b[0m\u001b[0mconvert\u001b[0m\u001b[0;34m(\u001b[0m\u001b[0;34m\"RGB\"\u001b[0m\u001b[0;34m)\u001b[0m\u001b[0;34m\u001b[0m\u001b[0;34m\u001b[0m\u001b[0m\n\u001b[0m\u001b[1;32m    106\u001b[0m \u001b[0;34m\u001b[0m\u001b[0m\n\u001b[1;32m    107\u001b[0m         \u001b[0mtargets_file\u001b[0m \u001b[0;34m=\u001b[0m \u001b[0mself\u001b[0m\u001b[0;34m.\u001b[0m\u001b[0m_FILES\u001b[0m\u001b[0;34m[\u001b[0m\u001b[0mself\u001b[0m\u001b[0;34m.\u001b[0m\u001b[0m_split\u001b[0m\u001b[0;34m]\u001b[0m\u001b[0;34m[\u001b[0m\u001b[0;34m\"targets\"\u001b[0m\u001b[0;34m]\u001b[0m\u001b[0;34m[\u001b[0m\u001b[0;36m0\u001b[0m\u001b[0;34m]\u001b[0m\u001b[0;34m\u001b[0m\u001b[0;34m\u001b[0m\u001b[0m\n",
            "\u001b[0;32mh5py/_objects.pyx\u001b[0m in \u001b[0;36mh5py._objects.with_phil.wrapper\u001b[0;34m()\u001b[0m\n",
            "\u001b[0;32mh5py/_objects.pyx\u001b[0m in \u001b[0;36mh5py._objects.with_phil.wrapper\u001b[0;34m()\u001b[0m\n",
            "\u001b[0;32m/usr/local/lib/python3.8/dist-packages/h5py/_hl/dataset.py\u001b[0m in \u001b[0;36m__getitem__\u001b[0;34m(self, args, new_dtype)\u001b[0m\n\u001b[1;32m    785\u001b[0m         \u001b[0mmspace\u001b[0m \u001b[0;34m=\u001b[0m \u001b[0mh5s\u001b[0m\u001b[0;34m.\u001b[0m\u001b[0mcreate_simple\u001b[0m\u001b[0;34m(\u001b[0m\u001b[0mselection\u001b[0m\u001b[0;34m.\u001b[0m\u001b[0mmshape\u001b[0m\u001b[0;34m)\u001b[0m\u001b[0;34m\u001b[0m\u001b[0;34m\u001b[0m\u001b[0m\n\u001b[1;32m    786\u001b[0m         \u001b[0mfspace\u001b[0m \u001b[0;34m=\u001b[0m \u001b[0mselection\u001b[0m\u001b[0;34m.\u001b[0m\u001b[0mid\u001b[0m\u001b[0;34m\u001b[0m\u001b[0;34m\u001b[0m\u001b[0m\n\u001b[0;32m--> 787\u001b[0;31m         \u001b[0mself\u001b[0m\u001b[0;34m.\u001b[0m\u001b[0mid\u001b[0m\u001b[0;34m.\u001b[0m\u001b[0mread\u001b[0m\u001b[0;34m(\u001b[0m\u001b[0mmspace\u001b[0m\u001b[0;34m,\u001b[0m \u001b[0mfspace\u001b[0m\u001b[0;34m,\u001b[0m \u001b[0marr\u001b[0m\u001b[0;34m,\u001b[0m \u001b[0mmtype\u001b[0m\u001b[0;34m,\u001b[0m \u001b[0mdxpl\u001b[0m\u001b[0;34m=\u001b[0m\u001b[0mself\u001b[0m\u001b[0;34m.\u001b[0m\u001b[0m_dxpl\u001b[0m\u001b[0;34m)\u001b[0m\u001b[0;34m\u001b[0m\u001b[0;34m\u001b[0m\u001b[0m\n\u001b[0m\u001b[1;32m    788\u001b[0m \u001b[0;34m\u001b[0m\u001b[0m\n\u001b[1;32m    789\u001b[0m         \u001b[0;31m# Patch up the output for NumPy\u001b[0m\u001b[0;34m\u001b[0m\u001b[0;34m\u001b[0m\u001b[0;34m\u001b[0m\u001b[0m\n",
            "\u001b[0;31mKeyboardInterrupt\u001b[0m: "
          ]
        }
      ]
    },
    {
      "cell_type": "code",
      "source": [
        "# torch.save(cnn_fc.state_dict(),\"/content/drive/MyDrive/CS449/models/cnn_fc.model\")\n",
        "# torch.save(fc.state_dict(),\"/content/drive/MyDrive/CS449/models/fc.model\")"
      ],
      "metadata": {
        "id": "2D0qyv8b_g5t"
      },
      "execution_count": null,
      "outputs": []
    },
    {
      "cell_type": "code",
      "source": [
        "train_accs = []\n",
        "train_losses = []\n",
        "val_accs = []\n",
        "val_losses = []"
      ],
      "metadata": {
        "id": "NlQ2Ps4tR9Y-"
      },
      "execution_count": 13,
      "outputs": []
    },
    {
      "cell_type": "code",
      "source": [
        "print(train_accs)"
      ],
      "metadata": {
        "colab": {
          "base_uri": "https://localhost:8080/"
        },
        "id": "1afbhHkcCzt9",
        "outputId": "f2382773-204e-45b4-bf6a-0fea5365ae44"
      },
      "execution_count": null,
      "outputs": [
        {
          "output_type": "stream",
          "name": "stdout",
          "text": [
            "[]\n"
          ]
        }
      ]
    },
    {
      "cell_type": "code",
      "source": [
        "print(val_accs)"
      ],
      "metadata": {
        "colab": {
          "base_uri": "https://localhost:8080/"
        },
        "id": "Se9SlR7GD2uo",
        "outputId": "673e5ee8-2dbd-45eb-b62f-adc685097acc"
      },
      "execution_count": null,
      "outputs": [
        {
          "output_type": "stream",
          "name": "stdout",
          "text": [
            "[]\n"
          ]
        }
      ]
    },
    {
      "cell_type": "code",
      "source": [
        "tr_losses = []\n",
        "for loss in train_losses:\n",
        "  tr_losses.append(loss.item())\n",
        "print(tr_losses)"
      ],
      "metadata": {
        "colab": {
          "base_uri": "https://localhost:8080/"
        },
        "id": "eIWSs_9aC8gS",
        "outputId": "7d317243-0610-44fa-dfef-b94cd87c208c"
      },
      "execution_count": null,
      "outputs": [
        {
          "output_type": "stream",
          "name": "stdout",
          "text": [
            "[]\n"
          ]
        }
      ]
    },
    {
      "cell_type": "code",
      "source": [
        "vl_losses = []\n",
        "for loss in val_losses:\n",
        "  vl_losses.append(loss.item())\n",
        "print(vl_losses)"
      ],
      "metadata": {
        "colab": {
          "base_uri": "https://localhost:8080/"
        },
        "id": "jWnH-AJeDMwt",
        "outputId": "277f78c1-89d7-4945-a73a-5dcb28fe3fd1"
      },
      "execution_count": null,
      "outputs": [
        {
          "output_type": "stream",
          "name": "stdout",
          "text": [
            "[]\n"
          ]
        }
      ]
    },
    {
      "cell_type": "code",
      "source": [
        "def run_one_epoch_cnn_rnn(epoch_idx, model1, model2, optimizer, train_dataloader, val_dataloader, train=True):\n",
        "    model1.train()\n",
        "    model2.train()\n",
        "    # hidden = model2.initHidden()\n",
        "    # hidden.to(device)\n",
        "    hidden = None\n",
        "    # loop through the entire dataset once per epoch\n",
        "    train_loss = 0.0\n",
        "    train_acc = 0.0\n",
        "    train_total = 0\n",
        "    for batch_idx, (images, labels) in enumerate(train_dataloader):\n",
        "        optimizer.zero_grad()\n",
        "        images = images.to(device)\n",
        "        labels = labels.to(device)\n",
        "        model1_output = model1(images)\n",
        "        #print(\"hi\")\n",
        "        predictions = model2(model1_output, hidden).squeeze()\n",
        "        # hidden = hidden.data\n",
        "        # hidden.to(device)\n",
        "        acc_sum = 0\n",
        "        for i, pred in enumerate(predictions):\n",
        "\n",
        "          if round(pred.item()) == labels[i]:\n",
        "            acc_sum += 1\n",
        "        acc = acc_sum / labels.size(0)\n",
        "        # acc = torch.sum(predictions == labels) / labels.size(0)\n",
        "        loss = torch.nn.BCELoss()(predictions, labels.float())\n",
        "        loss.backward()\n",
        "        optimizer.step()\n",
        "\n",
        "    # update statistics\n",
        "        train_loss += (loss * len(images))\n",
        "        train_acc += (acc * len(labels))\n",
        "        train_total += len(labels)\n",
        "    \n",
        "    train_loss /= train_total\n",
        "    train_acc /= train_total\n",
        "\n",
        "    # model1.eval()\n",
        "    # model2.eval()\n",
        "    val_loss = 0\n",
        "    val_acc = 0\n",
        "    val_total = 0\n",
        "    with torch.no_grad():\n",
        "      for batch_idx, (images, labels) in enumerate(val_dataloader):\n",
        "          images = images.to(device)\n",
        "          labels = labels.to(device)\n",
        "          model1_output = model1(images)\n",
        "          predictions = model2(model1_output,hidden).squeeze()\n",
        "          acc_sum = 0\n",
        "          for i, pred in enumerate(predictions):\n",
        "            if round(pred.item()) == labels[i]:\n",
        "              acc_sum += 1\n",
        "          acc = acc_sum / labels.size(0)\n",
        "          # acc = torch.sum(predictions == labels) / labels.size(0)\n",
        "          loss = torch.nn.BCELoss()(predictions, labels.float())\n",
        "\n",
        "          # update statistics\n",
        "          val_loss += (loss * len(images))\n",
        "          val_acc += (acc * len(labels))\n",
        "          val_total += len(labels)\n",
        "\n",
        "      val_loss /= val_total\n",
        "      val_acc /= val_total\n",
        "\n",
        "    print(f\"Epoch {epoch_idx + 1}:  val loss {val_loss :0.3f}, val acc {val_acc :0.3f}, train loss {train_loss :0.3f}, train acc {train_acc :0.3f}\")\n",
        "\n",
        "    # Detach tells torch to stop tracking a tensor's gradients\n",
        "    return train_acc, train_loss.detach(), val_acc,val_loss.detach()"
      ],
      "metadata": {
        "id": "nNdwgHjGD1R0"
      },
      "execution_count": 21,
      "outputs": []
    },
    {
      "cell_type": "code",
      "source": [
        "class RNN(torch.nn.Module):\n",
        "    def __init__(self, batch_size=32):\n",
        "        super(RNN, self).__init__()\n",
        "        self.input_size = 128\n",
        "        self.output_size = 1\n",
        "        self.hidden_size = 128\n",
        "        self.n_layers = 1\n",
        "        self.batch_size = batch_size\n",
        "        # batch_first means that the first dim of the input and output will be the batch_size\n",
        "        # self.rnn = torch.nn.RNN(self.input_size, self.hidden_size, self.n_layers, batch_first=True)\n",
        "        # last, fully-connected layer\n",
        "        self.rnn = torch.nn.RNNCell(self.input_size, self.hidden_size)\n",
        "        self.fc = torch.nn.Linear(self.hidden_size*16, self.output_size)\n",
        "        self.actv = torch.nn.Sigmoid()\n",
        "\n",
        "    def forward(self, x, hidden):\n",
        "        # x (batch_size, seq_length, input_size)\n",
        "        # hidden (n_layers, batch_size, hidden_dim)\n",
        "        # r_out (batch_size, time_step, hidden_size)\n",
        "        if hidden != None:\n",
        "          print(\"hidden: \",hidden.shape)\n",
        "        batch_size = x.size(0)\n",
        "        print(\"batch_size\",batch_size,\"shape\", x.shape)\n",
        "        x = x.permute(0,2,3,1).reshape(batch_size,16,-1)\n",
        "        print(\"after shape\", x.shape)\n",
        "        output= torch.tensor([]).to(device)\n",
        "        for pixel in range(16):\n",
        "          input = x[:,pixel,:]\n",
        "          hidden = self.rnn(input, hidden)\n",
        "          # print(\"hidden: \", hidden.shape)\n",
        "          output = torch.cat((output, hidden), dim=1)\n",
        "        # get RNN outputs\n",
        "        print(\"output: \",output.shape)\n",
        "        # shape output to be (batch_size*seq_length, hidden_dim)\n",
        "        #r_out = r_out.view(-1, self.hidden_size)\n",
        "        \n",
        "        # get final output \n",
        "        output = self.fc(output)\n",
        "        \n",
        "        #return output, hidden\n",
        "        return self.actv(output)\n",
        "        \n",
        "    # def initHidden(self):\n",
        "    #     return torch.zeros(self.n_layers,self.batch_size, self.hidden_size)"
      ],
      "metadata": {
        "id": "eSFpYhgG56Ao"
      },
      "execution_count": null,
      "outputs": []
    },
    {
      "cell_type": "code",
      "source": [
        "class RNN2(torch.nn.Module):\n",
        "    def __init__(self, batch_size=32):\n",
        "        super(RNN2, self).__init__()\n",
        "        self.input_size = 128\n",
        "        self.output_size = 1\n",
        "        self.hidden_size = 32\n",
        "        self.n_layers = 1\n",
        "        self.batch_size = batch_size\n",
        "        # batch_first means that the first dim of the input and output will be the batch_size\n",
        "        self.rnn = torch.nn.RNN(self.input_size, self.hidden_size, self.n_layers, batch_first=True)\n",
        "        # last, fully-connected layer\n",
        "        # self.rnn = torch.nn.RNNCell(self.input_size, self.hidden_size)\n",
        "        self.fc = torch.nn.Linear(self.hidden_size, self.output_size)\n",
        "        self.actv = torch.nn.Sigmoid()\n",
        "\n",
        "    def forward(self, x):\n",
        "        # x (batch_size, num_channels/input_size, L, w)\n",
        "        # hidden (n_layers, batch_size, hidden_size)\n",
        "        # rnn_out (batch_size, L*W, hidden_size)\n",
        "        # hidden_n (n_layers, batch_size, hidden_size)\n",
        "        # print(\"rnn start\",x.shape)\n",
        "        batch_size = x.size(0)\n",
        "        # hidden = self.initHidden(batch_size)\n",
        "        hidden = None\n",
        "        # print(\"hidden_size:\", hidden.shape)\n",
        "        # reshape x to (batch_size, L*W, num_channels/input_size)\n",
        "        x = x.permute(0,2,3,1).reshape(batch_size,16,self.input_size)\n",
        "        rnn_out, hidden_n = self.rnn(x, hidden)\n",
        "        # print(\"output: \",output.shape)\n",
        "        # shape output to be (batch_size*seq_length, hidden_dim)\n",
        "        # get final output -> hidden_n contains final state from each rnn_out\n",
        "        output = self.fc(hidden)\n",
        "        #apply sigmoid to get pred from 0 to 1\n",
        "        actv_output = self.actv(output)\n",
        "        # print(\"rnn end\")\n",
        "        return actv_output.view(-1, self.output_size)\n",
        "        \n",
        "    def initHidden(self, batch_size):\n",
        "        return torch.zeros(self.n_layers,batch_size, self.hidden_size).to(device)"
      ],
      "metadata": {
        "id": "Yh7O49LGFWC-"
      },
      "execution_count": 17,
      "outputs": []
    },
    {
      "cell_type": "code",
      "source": [
        "def epoch_time(start_time, end_time):\n",
        "    elapsed_time = end_time - start_time\n",
        "    elapsed_mins = int(elapsed_time / 60)\n",
        "    elapsed_secs = int(elapsed_time - (elapsed_mins * 60))\n",
        "    return elapsed_mins, elapsed_secs"
      ],
      "metadata": {
        "id": "Y_zSZWAsDEEF"
      },
      "execution_count": 23,
      "outputs": []
    },
    {
      "cell_type": "code",
      "source": [
        "def run_one_epoch_cnn_rnn2(epoch_idx, model1, model2, optimizer, train_dataloader, val_dataloader, train=True):\n",
        "    start_time = time.time()\n",
        "    model1.train()\n",
        "    model2.train()\n",
        "    # print(\"epoch start\")\n",
        "    # hidden = model2.initHidden()\n",
        "    # hidden.to(device)\n",
        "    # hidden = None\n",
        "    # loop through the entire dataset once per epoch\n",
        "    train_loss = 0.0\n",
        "    train_acc = 0.0\n",
        "    train_total = 0\n",
        "    # print(\"epoch start here\")\n",
        "    for batch_idx, (images, labels) in enumerate(train_dataloader):\n",
        "        print(\"train batch start: \", batch_idx)\n",
        "        optimizer.zero_grad()\n",
        "        images = images.to(device)\n",
        "        labels = labels.to(device)\n",
        "        model1_output = model1(images)\n",
        "        #print(\"hi\")\n",
        "        predictions = model2(model1_output).squeeze()\n",
        "        # hidden = hidden.data\n",
        "        # hidden.to(device)\n",
        "        acc_sum = 0\n",
        "        for i, pred in enumerate(predictions):\n",
        "\n",
        "          if round(pred.item()) == labels[i]:\n",
        "            acc_sum += 1\n",
        "        acc = acc_sum / labels.size(0)\n",
        "        # acc = torch.sum(predictions == labels) / labels.size(0)\n",
        "        loss = torch.nn.BCELoss()(predictions, labels.float())\n",
        "        loss.backward()\n",
        "        optimizer.step()\n",
        "        print(\"train batch end: \", batch_idx)\n",
        "    # update statistics\n",
        "        train_loss += (loss * len(images))\n",
        "        train_acc += (acc * len(labels))\n",
        "        train_total += len(labels)\n",
        "    \n",
        "    train_loss /= train_total\n",
        "    train_acc /= train_total\n",
        "\n",
        "    # model1.eval()\n",
        "    # model2.eval()\n",
        "    val_loss = 0\n",
        "    val_acc = 0\n",
        "    val_total = 0\n",
        "    with torch.no_grad():\n",
        "      for batch_idx, (images, labels) in enumerate(val_dataloader):\n",
        "          print(\"valid batch start: \", batch_idx)\n",
        "          images = images.to(device)\n",
        "          labels = labels.to(device)\n",
        "          model1_output = model1(images)\n",
        "          predictions = model2(model1_output).squeeze()\n",
        "          acc_sum = 0\n",
        "          for i, pred in enumerate(predictions):\n",
        "            if round(pred.item()) == labels[i]:\n",
        "              acc_sum += 1\n",
        "          acc = acc_sum / labels.size(0)\n",
        "          # acc = torch.sum(predictions == labels) / labels.size(0)\n",
        "          loss = torch.nn.BCELoss()(predictions, labels.float())\n",
        "\n",
        "          # update statistics\n",
        "          val_loss += (loss * len(images))\n",
        "          val_acc += (acc * len(labels))\n",
        "          val_total += len(labels)\n",
        "          print(\"valid batch end: \", batch_idx)\n",
        "\n",
        "      val_loss /= val_total\n",
        "      val_acc /= val_total\n",
        "    end_time = time.time()\n",
        "    epoch_mins, epoch_secs = epoch_time(start_time, end_time)\n",
        "    print(f'Epoch: {epoch+1:02} | Time: {epoch_mins}m {epoch_secs}s')\n",
        "    print(f\"Epoch {epoch_idx + 1}:  val loss {val_loss :0.3f}, val acc {val_acc :0.3f}, train loss {train_loss :0.3f}, train acc {train_acc :0.3f}\")\n",
        "\n",
        "    # Detach tells torch to stop tracking a tensor's gradients\n",
        "    return train_acc, train_loss.detach(), val_acc,val_loss.detach()"
      ],
      "metadata": {
        "id": "VJIftyV3HzTX"
      },
      "execution_count": 24,
      "outputs": []
    },
    {
      "cell_type": "code",
      "source": [
        "cnn_rnn= CNN()\n",
        "cnn_rnn.to(device)\n",
        "rnn = RNN2()\n",
        "rnn.to(device)\n",
        "\n",
        "epochs = 50\n",
        "lr = 1e-3\n",
        "\n",
        "train_accs = []\n",
        "train_losses = []\n",
        "val_accs = []\n",
        "val_losses = []\n",
        "opt = torch.optim.Adam([{\"params\": cnn_rnn.parameters()},{\"params\":rnn.parameters()}], lr=lr)\n",
        "for epoch in range(epochs):\n",
        "  print(\"starting epoch\")\n",
        "  train_acc, train_loss, val_acc, val_loss = run_one_epoch_cnn_rnn2(epoch, cnn_rnn, rnn, opt, train_dataloader, val_dataloader)\n",
        "  train_accs.append(train_acc)\n",
        "  train_losses.append(train_loss)\n",
        "  val_accs.append(val_acc)\n",
        "  val_losses.append(val_loss)\n",
        "  print(\"ending epoch\")\n",
        "print(train_accs)\n",
        "print(train_losses)\n",
        "print(val_accs)\n",
        "print(val_losses)"
      ],
      "metadata": {
        "colab": {
          "base_uri": "https://localhost:8080/"
        },
        "id": "25zkD4nl9s6J",
        "outputId": "dc73cc20-80b4-4984-aa32-e34069b02838"
      },
      "execution_count": null,
      "outputs": [
        {
          "output_type": "stream",
          "name": "stdout",
          "text": [
            "starting epoch\n",
            "train batch start:  0\n",
            "cnn start\n",
            "cnn end\n"
          ]
        }
      ]
    }
  ],
  "metadata": {
    "kernelspec": {
      "display_name": "tf_m1",
      "language": "python",
      "name": "python3"
    },
    "language_info": {
      "codemirror_mode": {
        "name": "ipython",
        "version": 3
      },
      "file_extension": ".py",
      "mimetype": "text/x-python",
      "name": "python",
      "nbconvert_exporter": "python",
      "pygments_lexer": "ipython3",
      "version": "3.8.10"
    },
    "orig_nbformat": 4,
    "vscode": {
      "interpreter": {
        "hash": "1c113ca73dcb788d262ff5c14dccc6d994c5d16184791d4e782c53cfe6cb089e"
      }
    },
    "colab": {
      "provenance": []
    },
    "gpuClass": "standard",
    "accelerator": "GPU"
  },
  "nbformat": 4,
  "nbformat_minor": 0
}