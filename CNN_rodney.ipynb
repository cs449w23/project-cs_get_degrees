{
  "metadata": {
    "kernelspec": {
      "name": "python3",
      "display_name": "Python 3",
      "language": "python"
    },
    "language_info": {
      "name": "python",
      "version": "3.7.12",
      "mimetype": "text/x-python",
      "codemirror_mode": {
        "name": "ipython",
        "version": 3
      },
      "pygments_lexer": "ipython3",
      "nbconvert_exporter": "python",
      "file_extension": ".py"
    },
    "vscode": {
      "interpreter": {
        "hash": "1c113ca73dcb788d262ff5c14dccc6d994c5d16184791d4e782c53cfe6cb089e"
      }
    },
    "colab": {
      "provenance": [],
      "include_colab_link": true
    },
    "gpuClass": "standard",
    "accelerator": "GPU"
  },
  "nbformat_minor": 0,
  "nbformat": 4,
  "cells": [
    {
      "cell_type": "markdown",
      "metadata": {
        "id": "view-in-github",
        "colab_type": "text"
      },
      "source": [
        "<a href=\"https://colab.research.google.com/github/cs449w23/project-cs_get_degrees/blob/main/CNN_rodney.ipynb\" target=\"_parent\"><img src=\"https://colab.research.google.com/assets/colab-badge.svg\" alt=\"Open In Colab\"/></a>"
      ]
    },
    {
      "cell_type": "code",
      "source": [
        "# Install required 3rd party packages \n",
        "%pip install h5py"
      ],
      "metadata": {
        "id": "qWpfnXSPwvp8",
        "outputId": "897a8910-d490-453c-9d6f-36098065961a",
        "colab": {
          "base_uri": "https://localhost:8080/"
        },
        "execution": {
          "iopub.status.busy": "2023-03-09T19:08:02.500963Z",
          "iopub.execute_input": "2023-03-09T19:08:02.501697Z",
          "iopub.status.idle": "2023-03-09T19:08:13.813952Z",
          "shell.execute_reply.started": "2023-03-09T19:08:02.501659Z",
          "shell.execute_reply": "2023-03-09T19:08:13.812554Z"
        },
        "trusted": true
      },
      "execution_count": null,
      "outputs": [
        {
          "name": "stdout",
          "text": "Requirement already satisfied: h5py in /opt/conda/lib/python3.7/site-packages (3.8.0)\nRequirement already satisfied: numpy>=1.14.5 in /opt/conda/lib/python3.7/site-packages (from h5py) (1.21.6)\n\u001b[33mWARNING: Running pip as the 'root' user can result in broken permissions and conflicting behaviour with the system package manager. It is recommended to use a virtual environment instead: https://pip.pypa.io/warnings/venv\u001b[0m\u001b[33m\n\u001b[0mNote: you may need to restart the kernel to use updated packages.\n",
          "output_type": "stream"
        }
      ]
    },
    {
      "cell_type": "code",
      "source": [
        "# Import required libs \n",
        "import torch\n",
        "import numpy as np\n",
        "import matplotlib.pyplot as plt\n",
        "from sklearn.datasets import load_digits\n",
        "from sklearn.model_selection import train_test_split\n",
        "from collections import defaultdict\n",
        "from torch.utils.data import Dataset, random_split, TensorDataset\n",
        "from torchvision import datasets\n",
        "from torchvision.transforms import ToTensor\n",
        "import matplotlib.image as mpimg\n",
        "from torch.utils.data import DataLoader\n",
        "import time\n",
        "import h5py"
      ],
      "metadata": {
        "id": "t3LHjcE0wQ3E",
        "execution": {
          "iopub.status.busy": "2023-03-09T19:08:13.817586Z",
          "iopub.execute_input": "2023-03-09T19:08:13.817898Z",
          "iopub.status.idle": "2023-03-09T19:08:17.031385Z",
          "shell.execute_reply.started": "2023-03-09T19:08:13.817862Z",
          "shell.execute_reply": "2023-03-09T19:08:17.030343Z"
        },
        "trusted": true
      },
      "execution_count": null,
      "outputs": []
    },
    {
      "cell_type": "code",
      "source": [
        "# Define CNN class\n",
        "class CNN(torch.nn.Module):\n",
        "    def __init__(self, initial_channel_size=16):\n",
        "        super(CNN, self).__init__()\n",
        "        #self.linear_layer_size = linear_layer_size\n",
        "        self.conv1 = torch.nn.Conv2d(3, initial_channel_size, kernel_size=3)  # input: torch.Size([64, 3, 96, 96])\n",
        "        self.conv2 = torch.nn.Conv2d(initial_channel_size, initial_channel_size * 2, kernel_size=3) # input: torch.Size([64, 16, 47, 47])\n",
        "        self.conv3 = torch.nn.Conv2d(initial_channel_size * 2, initial_channel_size * 4, kernel_size=3) # input: torch.Size([64, 32, 22, 22])\n",
        "        self.conv4 = torch.nn.Conv2d(initial_channel_size * 4, initial_channel_size * 8, kernel_size=3) # input: torch.Size([64, 64, 10, 10])\n",
        "        # output: torch.Size([64, 128, 4, 4])\n",
        "        \n",
        "\n",
        "    def forward(self, x):\n",
        "        #print(x.shape)\n",
        "        batch_size = x.size(0)\n",
        "\n",
        "        relu = torch.nn.ReLU()\n",
        "        maxpool = torch.nn.MaxPool2d(stride=2,kernel_size=2)\n",
        "        x = self.conv1(x)\n",
        "        x = maxpool(relu(x))\n",
        "        #print(x.shape)\n",
        "        x = self.conv2(x)\n",
        "        x = maxpool(relu(x))\n",
        "        #print(x.shape)\n",
        "        x = self.conv3(x)\n",
        "        x = maxpool(relu(x))\n",
        "        #print(x.shape)\n",
        "        x = self.conv4(x)\n",
        "        x = maxpool(relu(x))\n",
        "        #print(x.shape)\n",
        "        # x = x.reshape(batch_size, self.linear_layer_size)\n",
        "        # x = self.linear(x)\n",
        "        return x"
      ],
      "metadata": {
        "id": "8-R4w92JwqBu",
        "execution": {
          "iopub.status.busy": "2023-03-09T19:08:17.032672Z",
          "iopub.execute_input": "2023-03-09T19:08:17.033388Z",
          "iopub.status.idle": "2023-03-09T19:08:17.046068Z",
          "shell.execute_reply.started": "2023-03-09T19:08:17.033345Z",
          "shell.execute_reply": "2023-03-09T19:08:17.044767Z"
        },
        "trusted": true
      },
      "execution_count": null,
      "outputs": []
    },
    {
      "cell_type": "code",
      "source": [
        "# define Fully Connected Class\n",
        "class FC(torch.nn.Module):\n",
        "    def __init__(self, spatial_size=4, initial_channel_size=16, dropout=0.25):\n",
        "          super(FC, self).__init__()\n",
        "          self.drop_out_1 = torch.nn.Dropout(dropout)\n",
        "          self.fc1 = torch.nn.Linear(spatial_size**2 * initial_channel_size * 8, spatial_size * initial_channel_size * 8)  # input: (6,6,128) # output 512\n",
        "          self.drop_out_2 = torch.nn.Dropout(dropout)\n",
        "          self.fc2 = torch.nn.Linear(spatial_size * initial_channel_size * 8, 1)  # input: 512 # output 2 classes\n",
        "          self.actv = torch.nn.Sigmoid()\n",
        "    def forward(self, x):\n",
        "        #print(x.shape)\n",
        "        batch_size = x.size(0)\n",
        "        x = self.drop_out_1(x)\n",
        "        x = torch.flatten(x, 1)\n",
        "        x = self.fc1(x)\n",
        "        x = self.actv(x)\n",
        "        x = self.drop_out_2(x)\n",
        "        x = self.fc2(x)\n",
        "        x = self.actv(x)\n",
        "        return x\n"
      ],
      "metadata": {
        "id": "HbD3k-0053vu",
        "execution": {
          "iopub.status.busy": "2023-03-09T19:08:17.049045Z",
          "iopub.execute_input": "2023-03-09T19:08:17.049908Z",
          "iopub.status.idle": "2023-03-09T19:08:17.058592Z",
          "shell.execute_reply.started": "2023-03-09T19:08:17.049869Z",
          "shell.execute_reply": "2023-03-09T19:08:17.057606Z"
        },
        "trusted": true
      },
      "execution_count": null,
      "outputs": []
    },
    {
      "cell_type": "code",
      "source": [
        "# Define Recurrent Neural Network Class\n",
        "class RNN(torch.nn.Module):\n",
        "    def __init__(self, batch_size=32, initial_channel_size=16, dropout=0.25):\n",
        "        super(RNN, self).__init__()\n",
        "        self.input_size = initial_channel_size * 8\n",
        "        self.output_size = 1\n",
        "        self.hidden_size = initial_channel_size * 8\n",
        "        self.n_layers = 1\n",
        "        self.batch_size = batch_size\n",
        "        # batch_first means that the first dim of the input and output will be the batch_size\n",
        "        # self.rnn = torch.nn.RNN(self.input_size, self.hidden_size, self.n_layers, batch_first=True)\n",
        "        # last, fully-connected layer\n",
        "        self.drop_out_1 = torch.nn.Dropout(dropout)\n",
        "        self.rnn = torch.nn.RNNCell(self.input_size, self.hidden_size)\n",
        "        self.drop_out_2 = torch.nn.Dropout(dropout)\n",
        "        self.fc1 = torch.nn.Linear(self.hidden_size*16, self.hidden_size*4)\n",
        "        self.drop_out_3 = torch.nn.Dropout(dropout)\n",
        "        self.fc2 = torch.nn.Linear(self.hidden_size*4, self.output_size)\n",
        "        self.actv = torch.nn.Sigmoid()\n",
        "\n",
        "    def forward(self, x):\n",
        "        hidden = None\n",
        "        batch_size = x.size(0)\n",
        "        x = x.permute(0,2,3,1).reshape(batch_size,16,-1)\n",
        "        output= torch.tensor([]).to(device)\n",
        "        x = self.drop_out_1(x)\n",
        "        for pixel in range(16):\n",
        "          input = x[:,pixel,:]\n",
        "          hidden = self.rnn(input, hidden)\n",
        "          # print(\"hidden: \", hidden.shape)\n",
        "          output = torch.cat((output, hidden), dim=1)\n",
        "        # get RNN outputs\n",
        "        \n",
        "        # shape output to be (batch_size*seq_length, hidden_dim)\n",
        "        #r_out = r_out.view(-1, self.hidden_size)\n",
        "        \n",
        "        # get final output \n",
        "        output = self.drop_out_2(output)\n",
        "        output = self.actv(self.fc1(output))\n",
        "        output = self.drop_out_3(output)\n",
        "        output = self.actv(self.fc2(output))\n",
        "        #return output, hidden\n",
        "        return output\n",
        "        \n",
        "    # def initHidden(self):\n",
        "    #     return torch.zeros(self.n_layers,self.batch_size, self.hidden_size)"
      ],
      "metadata": {
        "id": "eSFpYhgG56Ao",
        "execution": {
          "iopub.status.busy": "2023-03-09T19:08:17.060487Z",
          "iopub.execute_input": "2023-03-09T19:08:17.060901Z",
          "iopub.status.idle": "2023-03-09T19:08:17.074801Z",
          "shell.execute_reply.started": "2023-03-09T19:08:17.060864Z",
          "shell.execute_reply": "2023-03-09T19:08:17.073479Z"
        },
        "trusted": true
      },
      "execution_count": null,
      "outputs": []
    },
    {
      "cell_type": "code",
      "source": [
        "# Define Long Short-Term Memory Class\n",
        "class LSTM(torch.nn.Module):\n",
        "    def __init__(self,batch_size=32, initial_channel_size=16,dropout=0.25):\n",
        "        super(LSTM,self).__init__()\n",
        "        self.input_size = initial_channel_size * 8\n",
        "        self.output_size = 1\n",
        "        self.hidden_size = initial_channel_size * 8\n",
        "        self.batch_size = batch_size\n",
        "        self.drop_out_1 = torch.nn.Dropout(dropout)\n",
        "        self.drop_out_2 = torch.nn.Dropout(dropout)\n",
        "        self.drop_out_3 = torch.nn.Dropout(dropout)\n",
        "        self.lstm = torch.nn.LSTMCell(input_size=self.input_size,hidden_size=self.hidden_size)\n",
        "        self.fc1 = torch.nn.Linear(self.hidden_size*16, self.hidden_size*4)\n",
        "        self.fc2 = torch.nn.Linear(self.hidden_size*4, self.output_size)\n",
        "        self.actv = torch.nn.Sigmoid()\n",
        "\n",
        "    def forward(self,x):\n",
        "        batch_size = x.size(0)\n",
        "        hidden = torch.zeros(batch_size, self.hidden_size).to(device)\n",
        "        cell_state = torch.zeros(batch_size, self.hidden_size).to(device)\n",
        "        x = x.permute(0,2,3,1).reshape(batch_size,16,-1)\n",
        "        output= torch.tensor([]).to(device)\n",
        "        x = self.drop_out_1(x)\n",
        "        for pixel in range(16):\n",
        "          input = x[:,pixel,:]\n",
        "          (hidden, cell_state) = self.lstm(input, (hidden, cell_state))\n",
        "          # print(\"hidden: \", hidden.shape)\n",
        "          output = torch.cat((output, hidden), dim=1)\n",
        "        # get RNN outputs\n",
        "        \n",
        "        # shape output to be (batch_size*seq_length, hidden_dim)\n",
        "        #r_out = r_out.view(-1, self.hidden_size)\n",
        "        \n",
        "        # get final output \n",
        "        output = self.drop_out_2(output)\n",
        "        output = self.actv(self.fc1(output))\n",
        "        output = self.drop_out_2(output)\n",
        "        output = self.actv(self.fc2(output))\n",
        "        \n",
        "        #return output, hidden\n",
        "        return output\n",
        "\n",
        "    def initHidden(self):\n",
        "        return torch.zeros(self.n_layers,self.batch_size, self.hidden_size)\n"
      ],
      "metadata": {
        "id": "dTm33ZQc_SsH",
        "execution": {
          "iopub.status.busy": "2023-03-09T19:08:17.076586Z",
          "iopub.execute_input": "2023-03-09T19:08:17.077088Z",
          "iopub.status.idle": "2023-03-09T19:08:17.090845Z",
          "shell.execute_reply.started": "2023-03-09T19:08:17.077018Z",
          "shell.execute_reply": "2023-03-09T19:08:17.089633Z"
        },
        "trusted": true
      },
      "execution_count": null,
      "outputs": []
    },
    {
      "cell_type": "code",
      "source": [
        "# Define Meta Data\n",
        "device = torch.device('cuda:0' if torch.cuda.is_available() else 'cpu')\n",
        "display(device)\n",
        "batch_size = 64\n",
        "initial_channel_size = 24\n",
        "lr=2.5e-5\n",
        "epochs=15\n",
        "dropout = 0.25\n",
        "train_x_path = \"/kaggle/input/metastatic-tissue-classification-patchcamelyon/pcam/training_split.h5\"\n",
        "train_y_path = \"/kaggle/input/metastatic-tissue-classification-patchcamelyon/Labels/Labels/camelyonpatch_level_2_split_train_y.h5\"\n",
        "val_x_path = \"/kaggle/input/metastatic-tissue-classification-patchcamelyon/pcam/validation_split.h5\"\n",
        "val_y_path = \"/kaggle/input/metastatic-tissue-classification-patchcamelyon/Labels/Labels/camelyonpatch_level_2_split_valid_y.h5\"\n",
        "save_model_dir = \"/kaggle/working/\""
      ],
      "metadata": {
        "colab": {
          "base_uri": "https://localhost:8080/"
        },
        "id": "Nyn18xvGdh_f",
        "outputId": "ea72ce93-a5d2-49d1-823e-85c006ad8059",
        "execution": {
          "iopub.status.busy": "2023-03-09T19:08:32.032291Z",
          "iopub.execute_input": "2023-03-09T19:08:32.033459Z",
          "iopub.status.idle": "2023-03-09T19:08:32.105722Z",
          "shell.execute_reply.started": "2023-03-09T19:08:32.033409Z",
          "shell.execute_reply": "2023-03-09T19:08:32.103346Z"
        },
        "trusted": true
      },
      "execution_count": null,
      "outputs": [
        {
          "output_type": "display_data",
          "data": {
            "text/plain": "device(type='cuda', index=0)"
          },
          "metadata": {}
        }
      ]
    },
    {
      "cell_type": "code",
      "source": [
        "# Init Training Data\n",
        "split_test = 75_000\n",
        "with h5py.File(train_x_path, \"r\") as f:\n",
        "    train_data_x = f['x']\n",
        "    train_data_x_small = torch.from_numpy(train_data_x[:split_test]).permute(0,3,1,2).float()\n",
        "    print(train_data_x_small.shape)\n",
        "with h5py.File(train_y_path, \"r\") as f:\n",
        "    train_data_y = f['y']\n",
        "    train_data_y_small = torch.from_numpy(train_data_y[:split_test]).float()\n",
        "\n",
        "\n",
        "train_data_small = TensorDataset(train_data_x_small, train_data_y_small)\n",
        "train_dataloader = DataLoader(train_data_small, batch_size=batch_size, shuffle=True, pin_memory=True)"
      ],
      "metadata": {
        "id": "rn2FZbKYNngh",
        "outputId": "bc006d87-a96d-47af-8856-bca319c7c255",
        "execution": {
          "iopub.status.busy": "2023-03-09T19:08:34.446620Z",
          "iopub.execute_input": "2023-03-09T19:08:34.447001Z",
          "iopub.status.idle": "2023-03-09T19:08:58.468933Z",
          "shell.execute_reply.started": "2023-03-09T19:08:34.446966Z",
          "shell.execute_reply": "2023-03-09T19:08:58.468096Z"
        },
        "trusted": true
      },
      "execution_count": null,
      "outputs": [
        {
          "name": "stdout",
          "text": "torch.Size([75000, 3, 96, 96])\n",
          "output_type": "stream"
        }
      ]
    },
    {
      "cell_type": "code",
      "source": [
        "# Init Validation Data\n",
        "split_val = 7_500\n",
        "with h5py.File(val_x_path, \"r\") as f:\n",
        "    val_data_x = f['x']\n",
        "    val_data_x_small = torch.from_numpy(val_data_x[:split_val]).float().permute(0,3,1,2).float()\n",
        "    print(val_data_x_small.shape)\n",
        "with h5py.File(val_y_path, \"r\") as f:\n",
        "    val_data_y = f['y']\n",
        "    val_data_y_small = torch.from_numpy(val_data_y[:split_val]).float()\n",
        "    \n",
        "    \n",
        "val_data_small = TensorDataset(val_data_x_small, val_data_y_small)\n",
        "val_dataloader = DataLoader(val_data_small, batch_size=batch_size, shuffle=True, pin_memory=True)"
      ],
      "metadata": {
        "id": "xVr4JlCR8r4_",
        "outputId": "3f8170b0-bb88-4646-ec6a-a232c2387bf3",
        "execution": {
          "iopub.status.busy": "2023-03-09T19:08:58.471243Z",
          "iopub.execute_input": "2023-03-09T19:08:58.471970Z",
          "iopub.status.idle": "2023-03-09T19:09:01.115627Z",
          "shell.execute_reply.started": "2023-03-09T19:08:58.471930Z",
          "shell.execute_reply": "2023-03-09T19:09:01.114458Z"
        },
        "trusted": true
      },
      "execution_count": null,
      "outputs": [
        {
          "name": "stdout",
          "text": "torch.Size([7500, 3, 96, 96])\n",
          "output_type": "stream"
        }
      ]
    },
    {
      "cell_type": "code",
      "source": [
        "# Define helper function to track length of epoch / print train/test curves\n",
        "def epoch_time(start_time, end_time):\n",
        "    elapsed_time = end_time - start_time\n",
        "    elapsed_mins = int(elapsed_time / 60)\n",
        "    elapsed_secs = int(elapsed_time - (elapsed_mins * 60))\n",
        "    return elapsed_mins, elapsed_secs\n",
        "\n",
        "def print_model_performance(train_acc, train_loss, val_acc,val_loss):\n",
        "    epochs = range(1,len(val_acc) + 1)\n",
        "    for metric, subplot_num, train_data, val_data in [[\"Loss\", 1,train_loss, val_loss],[\"Acc\", 2, train_acc, val_acc]]:\n",
        "        plt.subplot(1,2,subplot_num)\n",
        "        plt.plot(epochs, train_data,  label=\"Training \" + metric)\n",
        "        plt.plot(epochs, val_data, label='Validation ' + metric)\n",
        "        plt.title('Training and Validation ' + metric)\n",
        "        plt.xlabel('Epochs')\n",
        "        plt.ylabel(metric)\n",
        "        plt.legend()\n",
        "    plt.tight_layout()\n",
        "    plt.show()\n",
        "\n",
        "    "
      ],
      "metadata": {
        "id": "Uek2teITEu6_",
        "execution": {
          "iopub.status.busy": "2023-03-09T19:09:01.117379Z",
          "iopub.execute_input": "2023-03-09T19:09:01.117784Z",
          "iopub.status.idle": "2023-03-09T19:09:01.126869Z",
          "shell.execute_reply.started": "2023-03-09T19:09:01.117744Z",
          "shell.execute_reply": "2023-03-09T19:09:01.125700Z"
        },
        "trusted": true
      },
      "execution_count": null,
      "outputs": []
    },
    {
      "cell_type": "code",
      "source": [
        "# Run one epoch \n",
        "def run_one_epoch(epoch_idx, cnn, model_out, optimizer, train_dataloader, val_dataloader, verbose):\n",
        "    start_time = time.time()\n",
        "    cnn.train()\n",
        "    model_out.train()\n",
        "    # loop through the entire dataset once per epoch\n",
        "    train_loss = 0.0\n",
        "    train_acc = 0.0\n",
        "    train_total = 0\n",
        "    for batch_idx, (images, labels) in enumerate(train_dataloader):\n",
        "        optimizer.zero_grad()\n",
        "        images = images.to(device)\n",
        "        labels = labels.to(device)\n",
        "        cnn_output = cnn(images)\n",
        "        #print(\"hi\")\n",
        "        predictions = model_out(cnn_output).squeeze()\n",
        "        acc_sum = 0\n",
        "        for i, pred in enumerate(predictions):\n",
        "          if round(pred.item()) == labels[i]:\n",
        "            acc_sum += 1\n",
        "        acc = acc_sum / labels.size(0)\n",
        "        # acc = torch.sum(predictions == labels) / labels.size(0)\n",
        "#         print(predictions.shape, labels.squeeze().shape)\n",
        "        loss = torch.nn.BCELoss()(predictions, labels.squeeze().float())\n",
        "        loss.backward()\n",
        "        optimizer.step()\n",
        "    # update statistics\n",
        "        train_loss += (loss * len(images))\n",
        "        train_acc += (acc * len(labels))\n",
        "        train_total += len(labels)\n",
        "    \n",
        "    train_loss /= train_total\n",
        "    train_acc /= train_total\n",
        "    cnn.eval()\n",
        "    model_out.eval()\n",
        "    val_loss = 0\n",
        "    val_acc = 0\n",
        "    val_total = 0\n",
        "    with torch.no_grad():\n",
        "      for batch_idx, (images, labels) in enumerate(val_dataloader):\n",
        "          images = images.to(device)\n",
        "          labels = labels.to(device)\n",
        "          cnn_output = cnn(images)\n",
        "          predictions = model_out(cnn_output).squeeze()\n",
        "          acc_sum = 0\n",
        "          for i, pred in enumerate(predictions):\n",
        "            if round(pred.item()) == labels[i]:\n",
        "              acc_sum += 1\n",
        "          acc = acc_sum / labels.size(0)\n",
        "          # acc = torch.sum(predictions == labels) / labels.size(0)\n",
        "          loss = torch.nn.BCELoss()(predictions, labels.squeeze().float())\n",
        "          # update statistics\n",
        "          val_loss += (loss * len(images))\n",
        "          val_acc += (acc * len(labels))\n",
        "          val_total += len(labels)\n",
        "      val_loss /= val_total\n",
        "      val_acc /= val_total\n",
        "    end_time = time.time()\n",
        "    epoch_mins, epoch_secs = epoch_time(start_time, end_time)\n",
        "    if verbose:\n",
        "        print(f'Epoch: {epoch_idx+1:02} | Time: {epoch_mins}m {epoch_secs}s')\n",
        "        print(f\"Epoch {epoch_idx + 1}:  val loss {val_loss :0.3f}, val acc {val_acc :0.3f}, train loss {train_loss :0.3f}, train acc {train_acc :0.3f}\")\n",
        "    # Detach tells torch to stop tracking a tensor's gradients\n",
        "    return train_acc, train_loss.item(), val_acc,val_loss.item()"
      ],
      "metadata": {
        "execution": {
          "iopub.status.busy": "2023-03-09T19:39:02.904781Z",
          "iopub.execute_input": "2023-03-09T19:39:02.905203Z",
          "iopub.status.idle": "2023-03-09T19:39:02.920147Z",
          "shell.execute_reply.started": "2023-03-09T19:39:02.905163Z",
          "shell.execute_reply": "2023-03-09T19:39:02.919072Z"
        },
        "trusted": true,
        "id": "oSdSKeZIFoZ3"
      },
      "execution_count": null,
      "outputs": []
    },
    {
      "cell_type": "code",
      "source": [
        "# Train the inputted Models\n",
        "def train(cnn, model_out, epochs, lr, verbose ,cnn_name=\"model_cnn\", model_out_name=\"model_out\"):\n",
        "    train_accs = []\n",
        "    train_losses = []\n",
        "    val_accs = []\n",
        "    val_losses = []\n",
        "    best_val_acc = 0\n",
        "    opt = torch.optim.Adam([{\"params\": cnn.parameters()},{\"params\":model_out.parameters()}], lr=lr)\n",
        "    for epoch in range(epochs):\n",
        "      train_acc, train_loss, val_acc, val_loss = run_one_epoch(epoch, cnn, model_out, opt, train_dataloader, val_dataloader, verbose)\n",
        "      train_accs.append(train_acc)\n",
        "      train_losses.append(train_loss)\n",
        "      val_accs.append(val_acc)\n",
        "      val_losses.append(val_loss)\n",
        "      if best_val_acc < val_acc:\n",
        "            torch.save(cnn.state_dict(), save_model_dir + cnn_name)\n",
        "            torch.save(model_out.state_dict(), save_model_dir + model_out_name)\n",
        "            best_val_acc = val_acc\n",
        "            if verbose:\n",
        "                print(\"Saved Model\")\n",
        "    return train_accs, train_losses, val_accs, val_losses, best_val_acc"
      ],
      "metadata": {
        "execution": {
          "iopub.status.busy": "2023-03-09T19:41:02.359225Z",
          "iopub.execute_input": "2023-03-09T19:41:02.359940Z",
          "iopub.status.idle": "2023-03-09T19:41:02.367789Z",
          "shell.execute_reply.started": "2023-03-09T19:41:02.359901Z",
          "shell.execute_reply": "2023-03-09T19:41:02.366629Z"
        },
        "trusted": true,
        "id": "ftln0cEMFoZ5"
      },
      "execution_count": null,
      "outputs": []
    },
    {
      "cell_type": "code",
      "source": [
        "# Init and train the fully connected model\n",
        "def train_fc(initial_channel_size=16,lr=2.5e-5, epochs=15, dropout=0.25, verbose=True):\n",
        "    cnn_fc = CNN(initial_channel_size=initial_channel_size)\n",
        "    cnn_fc.to(device)\n",
        "    fc = FC(initial_channel_size=initial_channel_size, dropout=dropout)\n",
        "    fc.to(device)\n",
        "\n",
        "\n",
        "    fc_train_accs, fc_train_losses, fc_val_accs, fc_val_losses, best_val_acc = train(cnn_fc, \n",
        "                                                                       fc, \n",
        "                                                                       epochs, \n",
        "                                                                       lr, \n",
        "                                                                       verbose,\n",
        "                                                                       cnn_name=\"cnn_fc\", \n",
        "                                                                       model_out_name=\"model_out_fc\")\n",
        "    print(f\"\\nBEST VAL ACCURACY: {best_val_acc}\")\n",
        "    print_model_performance(fc_train_accs, fc_train_losses, fc_val_accs, fc_val_losses)"
      ],
      "metadata": {
        "id": "uVcec7hSZ67k",
        "execution": {
          "iopub.status.busy": "2023-03-09T19:39:09.471447Z",
          "iopub.execute_input": "2023-03-09T19:39:09.471843Z",
          "iopub.status.idle": "2023-03-09T19:39:09.479237Z",
          "shell.execute_reply.started": "2023-03-09T19:39:09.471808Z",
          "shell.execute_reply": "2023-03-09T19:39:09.478011Z"
        },
        "trusted": true
      },
      "execution_count": null,
      "outputs": []
    },
    {
      "cell_type": "code",
      "source": [
        "# init and train the RNN model\n",
        "def train_rnn(initial_channel_size=16, lr=2.5e-5, epochs=15, dropout=0.25, verbose=True):\n",
        "    cnn_rnn = CNN(initial_channel_size=initial_channel_size)\n",
        "    cnn_rnn.to(device)\n",
        "    rrn = RNN(initial_channel_size=initial_channel_size,dropout=dropout)\n",
        "    rrn.to(device)\n",
        "\n",
        "    rnn_train_accs, rnn_train_losses, rnn_val_accs, rnn_val_losses, best_val_acc = train(cnn_rnn, \n",
        "                                                                           rrn, \n",
        "                                                                           epochs, \n",
        "                                                                           lr,\n",
        "                                                                           verbose,\n",
        "                                                                           cnn_name=\"cnn_rnn\") \n",
        "    print(f\"\\nBEST VAL ACCURACY: {best_val_acc}\")\n",
        "    print_model_performance(rnn_train_accs, rnn_train_losses, rnn_val_accs, rnn_val_losses)"
      ],
      "metadata": {
        "execution": {
          "iopub.status.busy": "2023-03-09T19:39:27.375862Z",
          "iopub.execute_input": "2023-03-09T19:39:27.376970Z",
          "iopub.status.idle": "2023-03-09T19:39:27.383893Z",
          "shell.execute_reply.started": "2023-03-09T19:39:27.376923Z",
          "shell.execute_reply": "2023-03-09T19:39:27.382575Z"
        },
        "trusted": true,
        "id": "hjctsIJlFoZ7"
      },
      "execution_count": null,
      "outputs": []
    },
    {
      "cell_type": "code",
      "source": [
        "# init and train the LSTM model\n",
        "def train_lstm(initial_channel_size=16,lr=2.5e-5, epochs=15, dropout=0.25, verbose=True):\n",
        "    cnn_lstm = CNN(initial_channel_size=initial_channel_size)\n",
        "    cnn_lstm.to(device)\n",
        "    lstm = LSTM(initial_channel_size=initial_channel_size, dropout=dropout)\n",
        "    lstm.to(device)\n",
        "\n",
        "    lstm_train_accs, lstm_train_losses, lstm_val_accs, lstm_val_losses, best_val_acc = train(cnn_lstm, \n",
        "                                                                               lstm, \n",
        "                                                                               epochs, \n",
        "                                                                               lr,\n",
        "                                                                               verbose,\n",
        "                                                                               cnn_name=\"cnn_lstm\", \n",
        "                                                                               model_out_name=\"model_out_lstm\")\n",
        "    print(f\"\\nBEST VAL ACCURACY: {best_val_acc}\")\n",
        "    print_model_performance(lstm_train_accs, lstm_train_losses, lstm_val_accs, lstm_val_losses)"
      ],
      "metadata": {
        "execution": {
          "iopub.status.busy": "2023-03-09T19:39:38.775925Z",
          "iopub.execute_input": "2023-03-09T19:39:38.776967Z",
          "iopub.status.idle": "2023-03-09T19:39:38.784084Z",
          "shell.execute_reply.started": "2023-03-09T19:39:38.776924Z",
          "shell.execute_reply": "2023-03-09T19:39:38.782930Z"
        },
        "trusted": true,
        "id": "1qOibMymFoZ8"
      },
      "execution_count": null,
      "outputs": []
    },
    {
      "cell_type": "code",
      "source": [
        "# train fc\n",
        "# train_fc(initial_channel_size=initial_channel_size, lr=lr, epochs=epochs, dropout=dropout, verbose=True)"
      ],
      "metadata": {
        "execution": {
          "iopub.status.busy": "2023-03-09T19:41:12.073760Z",
          "iopub.execute_input": "2023-03-09T19:41:12.074905Z",
          "iopub.status.idle": "2023-03-09T19:41:39.233415Z",
          "shell.execute_reply.started": "2023-03-09T19:41:12.074857Z",
          "shell.execute_reply": "2023-03-09T19:41:39.232324Z"
        },
        "trusted": true,
        "id": "2ogWEfEIFoZ9",
        "outputId": "abc5fd9f-434e-47c6-b82d-e6a1fdd0b03d"
      },
      "execution_count": null,
      "outputs": [
        {
          "name": "stdout",
          "text": "\nBEST VAL ACCURACY: 0.788\n",
          "output_type": "stream"
        },
        {
          "output_type": "display_data",
          "data": {
            "text/plain": "<Figure size 640x480 with 2 Axes>",
            "image/png": "[encoded data removed]"
          },
          "metadata": {}
        }
      ]
    },
    {
      "cell_type": "code",
      "source": [
        "# train rnn\n",
        "# train_rnn(initial_channel_size=initial_channel_size, lr=lr, epochs=epochs, dropout=dropout, verbose=True)"
      ],
      "metadata": {
        "execution": {
          "iopub.status.busy": "2023-03-09T19:43:45.756263Z",
          "iopub.execute_input": "2023-03-09T19:43:45.757324Z",
          "iopub.status.idle": "2023-03-09T19:43:45.762286Z",
          "shell.execute_reply.started": "2023-03-09T19:43:45.757283Z",
          "shell.execute_reply": "2023-03-09T19:43:45.761105Z"
        },
        "trusted": true,
        "id": "PFq8eu3CFoZ-"
      },
      "execution_count": null,
      "outputs": []
    },
    {
      "cell_type": "code",
      "source": [
        "# train fc\n",
        "# train_lstm(initial_channel_size=initial_channel_size, lr=lr, epochs=epochs, dropout=dropout, verbose=True)"
      ],
      "metadata": {
        "execution": {
          "iopub.status.busy": "2023-03-09T19:12:41.751603Z",
          "iopub.execute_input": "2023-03-09T19:12:41.751992Z",
          "iopub.status.idle": "2023-03-09T19:12:41.759451Z",
          "shell.execute_reply.started": "2023-03-09T19:12:41.751957Z",
          "shell.execute_reply": "2023-03-09T19:12:41.758368Z"
        },
        "trusted": true,
        "id": "mJvrTCFsFoZ_"
      },
      "execution_count": null,
      "outputs": []
    },
    {
      "cell_type": "code",
      "source": [
        "# Hyperparameter search\n",
        "def train_model_hyperparameter_search(model, initial_channel_size, lr, dropout):\n",
        "    if model == 'fc':\n",
        "        train_fc(initial_channel_size=initial_channel_size, lr=lr, epochs=epochs, dropout=dropout, verbose=False)\n",
        "    elif model == 'rnn':\n",
        "        train_rnn(initial_channel_size=initial_channel_size, lr=lr, epochs=epochs, dropout=dropout, verbose=False)\n",
        "    elif model == 'lstm':\n",
        "        train_lstm(initial_channel_size=initial_channel_size, lr=lr, epochs=epochs, dropout=dropout, verbose=False)\n",
        "    print(f\"Hyperparameters <{model}> initial_channel_size: {initial_channel_size} lr: {lr} dropout: {dropout}\")\n",
        "\n",
        "for model in ['fc', 'rnn','lstm']:\n",
        "    for initial_channel_size_temp in [8, 16, 24, 32, 48]:\n",
        "        train_model_hyperparameter_search(model, initial_channel_size_temp, lr, dropout)\n",
        "    for lr_temp in [1e-5, 5e-5, 1e-4, 5e-4]:\n",
        "        train_model_hyperparameter_search(model, initial_channel_size, lr_temp, dropout)\n",
        "    for dropout_temp in [0.1, 0.2, 0.3, 0.4, 0.5]:\n",
        "        train_model_hyperparameter_search(model, initial_channel_size, lr, dropout_temp)"
      ],
      "metadata": {
        "execution": {
          "iopub.status.busy": "2023-03-09T20:34:32.135323Z",
          "iopub.execute_input": "2023-03-09T20:34:32.136289Z"
        },
        "trusted": true,
        "id": "13q2eap2FoZ_"
      },
      "execution_count": null,
      "outputs": []
    }
  ]
}