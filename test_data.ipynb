{
  "nbformat": 4,
  "nbformat_minor": 0,
  "metadata": {
    "colab": {
      "provenance": [],
      "authorship_tag": "ABX9TyN/yedVDibIt/wEEtPZtC6J",
      "include_colab_link": true
    },
    "kernelspec": {
      "name": "python3",
      "display_name": "Python 3"
    },
    "language_info": {
      "name": "python"
    }
  },
  "cells": [
    {
      "cell_type": "markdown",
      "metadata": {
        "id": "view-in-github",
        "colab_type": "text"
      },
      "source": [
        "<a href=\"https://colab.research.google.com/github/cs449w23/project-cs_get_degrees/blob/main/test_data.ipynb\" target=\"_parent\"><img src=\"https://colab.research.google.com/assets/colab-badge.svg\" alt=\"Open In Colab\"/></a>"
      ]
    },
    {
      "cell_type": "code",
      "execution_count": 1,
      "metadata": {
        "colab": {
          "base_uri": "https://localhost:8080/"
        },
        "id": "6PC_tLueasFw",
        "outputId": "27bffd79-dec8-4150-ff8b-916087bdc8de"
      },
      "outputs": [
        {
          "output_type": "stream",
          "name": "stdout",
          "text": [
            "Looking in indexes: https://pypi.org/simple, https://us-python.pkg.dev/colab-wheels/public/simple/\n",
            "Requirement already satisfied: h5py in /usr/local/lib/python3.9/dist-packages (3.1.0)\n",
            "Requirement already satisfied: numpy>=1.19.3 in /usr/local/lib/python3.9/dist-packages (from h5py) (1.22.4)\n"
          ]
        }
      ],
      "source": [
        "%pip install h5py"
      ]
    },
    {
      "cell_type": "code",
      "source": [
        "from google.colab import drive\n",
        "drive.mount('/content/drive')"
      ],
      "metadata": {
        "colab": {
          "base_uri": "https://localhost:8080/"
        },
        "id": "E-kFCtKcaxO6",
        "outputId": "d6e507cb-5555-4213-a514-43031738c643"
      },
      "execution_count": 2,
      "outputs": [
        {
          "output_type": "stream",
          "name": "stdout",
          "text": [
            "Mounted at /content/drive\n"
          ]
        }
      ]
    },
    {
      "cell_type": "code",
      "source": [
        "from torchvision import datasets\n",
        "import pickle\n",
        "from torchvision.transforms import ToTensor"
      ],
      "metadata": {
        "id": "DOz8tF4Ga9C1"
      },
      "execution_count": 3,
      "outputs": []
    },
    {
      "cell_type": "code",
      "source": [
        "test_data = datasets.PCAM(\n",
        "    root=\"/content/drive/MyDrive/CS449\",\n",
        "    split=\"test\",\n",
        "    download=False,\n",
        "    transform=ToTensor()\n",
        ")"
      ],
      "metadata": {
        "id": "2vOovxRjazdu"
      },
      "execution_count": 5,
      "outputs": []
    },
    {
      "cell_type": "code",
      "source": [
        "test_data_list = []\n",
        "for i in range(len(test_data)):\n",
        "  print(i, len(test_data))\n",
        "  test_data_list.append(test_data[i])"
      ],
      "metadata": {
        "id": "kT2s_LaGbJaq"
      },
      "execution_count": null,
      "outputs": []
    },
    {
      "cell_type": "code",
      "source": [
        "pickle.dump(test_data_list,open(\"/content/drive/MyDrive/CS449/data_objects/test_data_list.p\",\"wb\"))"
      ],
      "metadata": {
        "id": "z0pfefmubMvJ"
      },
      "execution_count": null,
      "outputs": []
    }
  ]
}