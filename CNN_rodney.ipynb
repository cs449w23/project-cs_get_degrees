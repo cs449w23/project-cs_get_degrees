{
  "metadata": {
    "kernelspec": {
      "name": "python3",
      "display_name": "Python 3",
      "language": "python"
    },
    "language_info": {
      "name": "python",
      "version": "3.7.12",
      "mimetype": "text/x-python",
      "codemirror_mode": {
        "name": "ipython",
        "version": 3
      },
      "pygments_lexer": "ipython3",
      "nbconvert_exporter": "python",
      "file_extension": ".py"
    },
    "vscode": {
      "interpreter": {
        "hash": "1c113ca73dcb788d262ff5c14dccc6d994c5d16184791d4e782c53cfe6cb089e"
      }
    },
    "colab": {
      "provenance": [],
      "include_colab_link": true
    },
    "gpuClass": "standard",
    "accelerator": "GPU"
  },
  "nbformat_minor": 0,
  "nbformat": 4,
  "cells": [
    {
      "cell_type": "markdown",
      "metadata": {
        "id": "view-in-github",
        "colab_type": "text"
      },
      "source": [
        "<a href=\"https://colab.research.google.com/github/cs449w23/project-cs_get_degrees/blob/main/CNN_rodney.ipynb\" target=\"_parent\"><img src=\"https://colab.research.google.com/assets/colab-badge.svg\" alt=\"Open In Colab\"/></a>"
      ]
    },
    {
      "cell_type": "code",
      "source": [
        "# Install required 3rd party packages \n",
        "%pip install h5py"
      ],
      "metadata": {
        "id": "qWpfnXSPwvp8",
        "outputId": "897a8910-d490-453c-9d6f-36098065961a",
        "colab": {
          "base_uri": "https://localhost:8080/"
        },
        "execution": {
          "iopub.status.busy": "2023-03-08T21:42:17.285930Z",
          "iopub.execute_input": "2023-03-08T21:42:17.286910Z",
          "iopub.status.idle": "2023-03-08T21:42:27.813722Z",
          "shell.execute_reply.started": "2023-03-08T21:42:17.286858Z",
          "shell.execute_reply": "2023-03-08T21:42:27.812298Z"
        },
        "trusted": true
      },
      "execution_count": null,
      "outputs": [
        {
          "name": "stdout",
          "text": "Requirement already satisfied: h5py in /opt/conda/lib/python3.7/site-packages (3.8.0)\nRequirement already satisfied: numpy>=1.14.5 in /opt/conda/lib/python3.7/site-packages (from h5py) (1.21.6)\n\u001b[33mWARNING: Running pip as the 'root' user can result in broken permissions and conflicting behaviour with the system package manager. It is recommended to use a virtual environment instead: https://pip.pypa.io/warnings/venv\u001b[0m\u001b[33m\n\u001b[0mNote: you may need to restart the kernel to use updated packages.\n",
          "output_type": "stream"
        }
      ]
    },
    {
      "cell_type": "code",
      "source": [
        "# Import required libs \n",
        "import torch\n",
        "import numpy as np\n",
        "import matplotlib.pyplot as plt\n",
        "from sklearn.datasets import load_digits\n",
        "from sklearn.model_selection import train_test_split\n",
        "from collections import defaultdict\n",
        "from torch.utils.data import Dataset, random_split, TensorDataset\n",
        "from torchvision import datasets\n",
        "from torchvision.transforms import ToTensor\n",
        "import matplotlib.image as mpimg\n",
        "from torch.utils.data import DataLoader\n",
        "import time\n",
        "import h5py"
      ],
      "metadata": {
        "id": "t3LHjcE0wQ3E",
        "execution": {
          "iopub.status.busy": "2023-03-08T21:42:31.540602Z",
          "iopub.execute_input": "2023-03-08T21:42:31.541308Z",
          "iopub.status.idle": "2023-03-08T21:42:35.130126Z",
          "shell.execute_reply.started": "2023-03-08T21:42:31.541261Z",
          "shell.execute_reply": "2023-03-08T21:42:35.128931Z"
        },
        "trusted": true
      },
      "execution_count": null,
      "outputs": []
    },
    {
      "cell_type": "code",
      "source": [
        "# Define CNN class\n",
        "class CNN(torch.nn.Module):\n",
        "    def __init__(self):\n",
        "        super(CNN, self).__init__()\n",
        "        #self.linear_layer_size = linear_layer_size\n",
        "        self.conv1 = torch.nn.Conv2d(3, 16, kernel_size=3)  # input: torch.Size([64, 3, 96, 96])\n",
        "        self.conv2 = torch.nn.Conv2d(16, 32, kernel_size=3) # input: torch.Size([64, 16, 47, 47])\n",
        "        self.conv3 = torch.nn.Conv2d(32, 64, kernel_size=3) # input: torch.Size([64, 32, 22, 22])\n",
        "        self.conv4 = torch.nn.Conv2d(64, 128, kernel_size=3) # input: torch.Size([64, 64, 10, 10])\n",
        "        # output: torch.Size([64, 128, 4, 4])\n",
        "        \n",
        "\n",
        "    def forward(self, x):\n",
        "        #print(x.shape)\n",
        "        batch_size = x.size(0)\n",
        "\n",
        "        relu = torch.nn.ReLU()\n",
        "        maxpool = torch.nn.MaxPool2d(stride=2,kernel_size=2)\n",
        "        x = self.conv1(x)\n",
        "        x = maxpool(relu(x))\n",
        "        #print(x.shape)\n",
        "        x = self.conv2(x)\n",
        "        x = maxpool(relu(x))\n",
        "        #print(x.shape)\n",
        "        x = self.conv3(x)\n",
        "        x = maxpool(relu(x))\n",
        "        #print(x.shape)\n",
        "        x = self.conv4(x)\n",
        "        x = maxpool(relu(x))\n",
        "        #print(x.shape)\n",
        "        # x = x.reshape(batch_size, self.linear_layer_size)\n",
        "        # x = self.linear(x)\n",
        "        return x"
      ],
      "metadata": {
        "id": "8-R4w92JwqBu",
        "execution": {
          "iopub.status.busy": "2023-03-08T21:42:36.295323Z",
          "iopub.execute_input": "2023-03-08T21:42:36.296140Z",
          "iopub.status.idle": "2023-03-08T21:42:36.306580Z",
          "shell.execute_reply.started": "2023-03-08T21:42:36.296097Z",
          "shell.execute_reply": "2023-03-08T21:42:36.305137Z"
        },
        "trusted": true
      },
      "execution_count": null,
      "outputs": []
    },
    {
      "cell_type": "code",
      "source": [
        "# define Fully Connected Class\n",
        "class FC(torch.nn.Module):\n",
        "    def __init__(self):\n",
        "          super(FC, self).__init__()\n",
        "          self.fc1 = torch.nn.Linear(4 * 4 * 128, 1)  # input: (6,6,128) # output 2 classes\n",
        "          self.actv = torch.nn.Sigmoid()\n",
        "    def forward(self, x):\n",
        "        #print(x.shape)\n",
        "        batch_size = x.size(0)\n",
        "        x = torch.flatten(x, 1)\n",
        "        #print(x.shape)\n",
        "        x = self.fc1(x)\n",
        "        x = self.actv(x)\n",
        "        return x\n"
      ],
      "metadata": {
        "id": "HbD3k-0053vu",
        "execution": {
          "iopub.status.busy": "2023-03-08T21:42:38.676623Z",
          "iopub.execute_input": "2023-03-08T21:42:38.677417Z",
          "iopub.status.idle": "2023-03-08T21:42:38.684390Z",
          "shell.execute_reply.started": "2023-03-08T21:42:38.677373Z",
          "shell.execute_reply": "2023-03-08T21:42:38.683243Z"
        },
        "trusted": true
      },
      "execution_count": null,
      "outputs": []
    },
    {
      "cell_type": "code",
      "source": [
        "# Define Recurrent Neural Network Class\n",
        "class RNN(torch.nn.Module):\n",
        "    def __init__(self, batch_size=32):\n",
        "        super(RNN, self).__init__()\n",
        "        self.input_size = 128\n",
        "        self.output_size = 1\n",
        "        self.hidden_size = 128\n",
        "        self.n_layers = 1\n",
        "        self.batch_size = batch_size\n",
        "        # batch_first means that the first dim of the input and output will be the batch_size\n",
        "        # self.rnn = torch.nn.RNN(self.input_size, self.hidden_size, self.n_layers, batch_first=True)\n",
        "        # last, fully-connected layer\n",
        "        self.rnn = torch.nn.RNNCell(self.input_size, self.hidden_size)\n",
        "        self.fc = torch.nn.Linear(self.hidden_size*16, self.output_size)\n",
        "        self.actv = torch.nn.Sigmoid()\n",
        "\n",
        "    def forward(self, x):\n",
        "        hidden = None\n",
        "        batch_size = x.size(0)\n",
        "        x = x.permute(0,2,3,1).reshape(batch_size,16,-1)\n",
        "        output= torch.tensor([]).to(device)\n",
        "        for pixel in range(16):\n",
        "          input = x[:,pixel,:]\n",
        "          hidden = self.rnn(input, hidden)\n",
        "          # print(\"hidden: \", hidden.shape)\n",
        "          output = torch.cat((output, hidden), dim=1)\n",
        "        # get RNN outputs\n",
        "        \n",
        "        # shape output to be (batch_size*seq_length, hidden_dim)\n",
        "        #r_out = r_out.view(-1, self.hidden_size)\n",
        "        \n",
        "        # get final output \n",
        "        output = self.fc(output)\n",
        "        \n",
        "        #return output, hidden\n",
        "        return self.actv(output)\n",
        "        \n",
        "    # def initHidden(self):\n",
        "    #     return torch.zeros(self.n_layers,self.batch_size, self.hidden_size)"
      ],
      "metadata": {
        "id": "eSFpYhgG56Ao",
        "execution": {
          "iopub.status.busy": "2023-03-08T21:42:40.463573Z",
          "iopub.execute_input": "2023-03-08T21:42:40.464322Z",
          "iopub.status.idle": "2023-03-08T21:42:40.476545Z",
          "shell.execute_reply.started": "2023-03-08T21:42:40.464278Z",
          "shell.execute_reply": "2023-03-08T21:42:40.475403Z"
        },
        "trusted": true
      },
      "execution_count": null,
      "outputs": []
    },
    {
      "cell_type": "code",
      "source": [
        "# Define Long Short-Term Memory Class\n",
        "class LSTM(torch.nn.Module):\n",
        "    def __init__(self,batch_size=32):\n",
        "        super(LSTM,self).__init__()\n",
        "        self.input_size = 128\n",
        "        self.output_size = 1\n",
        "        self.hidden_size = 128\n",
        "        self.batch_size = batch_size\n",
        "        self.lstm = torch.nn.LSTMCell(input_size=self.input_size,hidden_size=self.hidden_size)\n",
        "        self.fc = torch.nn.Linear(in_features=self.hidden_size * 16,out_features=self.output_size)\n",
        "        self.actv = torch.nn.Sigmoid()\n",
        "\n",
        "    def forward(self,x):\n",
        "        batch_size = x.size(0)\n",
        "        hidden = torch.zeros(batch_size, self.hidden_size).to(device)\n",
        "        cell_state = torch.zeros(batch_size, self.hidden_size).to(device)\n",
        "        x = x.permute(0,2,3,1).reshape(batch_size,16,-1)\n",
        "        output= torch.tensor([]).to(device)\n",
        "        for pixel in range(16):\n",
        "          input = x[:,pixel,:]\n",
        "          (hidden, cell_state) = self.lstm(input, (hidden, cell_state))\n",
        "          # print(\"hidden: \", hidden.shape)\n",
        "          output = torch.cat((output, hidden), dim=1)\n",
        "        # get RNN outputs\n",
        "        \n",
        "        # shape output to be (batch_size*seq_length, hidden_dim)\n",
        "        #r_out = r_out.view(-1, self.hidden_size)\n",
        "        \n",
        "        # get final output \n",
        "        output = self.fc(output)\n",
        "        \n",
        "        #return output, hidden\n",
        "        return self.actv(output)\n",
        "\n",
        "    def initHidden(self):\n",
        "        return torch.zeros(self.n_layers,self.batch_size, self.hidden_size)\n"
      ],
      "metadata": {
        "id": "dTm33ZQc_SsH",
        "execution": {
          "iopub.status.busy": "2023-03-08T21:42:42.722624Z",
          "iopub.execute_input": "2023-03-08T21:42:42.723631Z",
          "iopub.status.idle": "2023-03-08T21:42:42.736026Z",
          "shell.execute_reply.started": "2023-03-08T21:42:42.723589Z",
          "shell.execute_reply": "2023-03-08T21:42:42.734758Z"
        },
        "trusted": true
      },
      "execution_count": null,
      "outputs": []
    },
    {
      "cell_type": "code",
      "source": [
        "# Define Meta Data\n",
        "device = torch.device('cuda:0' if torch.cuda.is_available() else 'cpu')\n",
        "display(device)\n",
        "batch_size = 32\n",
        "train_x_path = \"/kaggle/input/metastatic-tissue-classification-patchcamelyon/pcam/training_split.h5\"\n",
        "train_y_path = \"/kaggle/input/metastatic-tissue-classification-patchcamelyon/Labels/Labels/camelyonpatch_level_2_split_train_y.h5\"\n",
        "val_x_path = \"/kaggle/input/metastatic-tissue-classification-patchcamelyon/pcam/validation_split.h5\"\n",
        "val_y_path = \"/kaggle/input/metastatic-tissue-classification-patchcamelyon/Labels/Labels/camelyonpatch_level_2_split_valid_y.h5\"\n",
        "save_model_dir = \"/kaggle/working/\""
      ],
      "metadata": {
        "colab": {
          "base_uri": "https://localhost:8080/"
        },
        "id": "Nyn18xvGdh_f",
        "outputId": "ea72ce93-a5d2-49d1-823e-85c006ad8059",
        "execution": {
          "iopub.status.busy": "2023-03-08T21:42:45.465178Z",
          "iopub.execute_input": "2023-03-08T21:42:45.465591Z",
          "iopub.status.idle": "2023-03-08T21:42:45.541899Z",
          "shell.execute_reply.started": "2023-03-08T21:42:45.465556Z",
          "shell.execute_reply": "2023-03-08T21:42:45.540672Z"
        },
        "trusted": true
      },
      "execution_count": null,
      "outputs": [
        {
          "output_type": "display_data",
          "data": {
            "text/plain": "device(type='cuda', index=0)"
          },
          "metadata": {}
        }
      ]
    },
    {
      "cell_type": "code",
      "source": [
        "# Init Training Data\n",
        "split_test = 75_000\n",
        "with h5py.File(train_x_path, \"r\") as f:\n",
        "    train_data_x = f['x']\n",
        "    train_data_x_small = torch.from_numpy(train_data_x[:split_test]).permute(0,3,1,2).float()\n",
        "    print(train_data_x_small.shape)\n",
        "with h5py.File(train_y_path, \"r\") as f:\n",
        "    train_data_y = f['y']\n",
        "    train_data_y_small = torch.from_numpy(train_data_y[:split_test]).float()\n",
        "\n",
        "\n",
        "train_data_small = TensorDataset(train_data_x_small, train_data_y_small)\n",
        "train_dataloader = DataLoader(train_data_small, batch_size=batch_size, shuffle=True, pin_memory=True)"
      ],
      "metadata": {
        "id": "rn2FZbKYNngh",
        "outputId": "bc006d87-a96d-47af-8856-bca319c7c255",
        "execution": {
          "iopub.status.busy": "2023-03-08T21:42:47.681344Z",
          "iopub.execute_input": "2023-03-08T21:42:47.681788Z",
          "iopub.status.idle": "2023-03-08T21:43:11.119949Z",
          "shell.execute_reply.started": "2023-03-08T21:42:47.681752Z",
          "shell.execute_reply": "2023-03-08T21:43:11.118763Z"
        },
        "trusted": true
      },
      "execution_count": null,
      "outputs": [
        {
          "name": "stdout",
          "text": "torch.Size([75000, 3, 96, 96])\n",
          "output_type": "stream"
        }
      ]
    },
    {
      "cell_type": "code",
      "source": [
        "# Init Validation Data\n",
        "split_val = 7_500\n",
        "with h5py.File(val_x_path, \"r\") as f:\n",
        "    val_data_x = f['x']\n",
        "    val_data_x_small = torch.from_numpy(val_data_x[:split_val]).float().permute(0,3,1,2).float()\n",
        "    print(val_data_x_small.shape)\n",
        "with h5py.File(val_y_path, \"r\") as f:\n",
        "    val_data_y = f['y']\n",
        "    val_data_y_small = torch.from_numpy(val_data_y[:split_val]).float()\n",
        "    \n",
        "    \n",
        "val_data_small = TensorDataset(val_data_x_small, val_data_y_small)\n",
        "val_dataloader = DataLoader(val_data_small, batch_size=batch_size, shuffle=True, pin_memory=True)"
      ],
      "metadata": {
        "id": "xVr4JlCR8r4_",
        "outputId": "3f8170b0-bb88-4646-ec6a-a232c2387bf3",
        "execution": {
          "iopub.status.busy": "2023-03-08T21:43:11.122349Z",
          "iopub.execute_input": "2023-03-08T21:43:11.123024Z",
          "iopub.status.idle": "2023-03-08T21:43:14.206536Z",
          "shell.execute_reply.started": "2023-03-08T21:43:11.122977Z",
          "shell.execute_reply": "2023-03-08T21:43:14.205353Z"
        },
        "trusted": true
      },
      "execution_count": null,
      "outputs": [
        {
          "name": "stdout",
          "text": "torch.Size([7500, 3, 96, 96])\n",
          "output_type": "stream"
        }
      ]
    },
    {
      "cell_type": "code",
      "source": [
        "# Define helper function to track length of epoch\n",
        "def epoch_time(start_time, end_time):\n",
        "    elapsed_time = end_time - start_time\n",
        "    elapsed_mins = int(elapsed_time / 60)\n",
        "    elapsed_secs = int(elapsed_time - (elapsed_mins * 60))\n",
        "    return elapsed_mins, elapsed_secs\n",
        "    "
      ],
      "metadata": {
        "id": "Uek2teITEu6_",
        "execution": {
          "iopub.status.busy": "2023-03-08T21:43:14.209201Z",
          "iopub.execute_input": "2023-03-08T21:43:14.209840Z",
          "iopub.status.idle": "2023-03-08T21:43:14.215839Z",
          "shell.execute_reply.started": "2023-03-08T21:43:14.209806Z",
          "shell.execute_reply": "2023-03-08T21:43:14.214621Z"
        },
        "trusted": true
      },
      "execution_count": null,
      "outputs": []
    },
    {
      "cell_type": "code",
      "source": [
        "# Run one epoch \n",
        "def run_one_epoch(epoch_idx, cnn, model_out, optimizer, train_dataloader, val_dataloader):\n",
        "    start_time = time.time()\n",
        "    cnn.train()\n",
        "    model_out.train()\n",
        "    # loop through the entire dataset once per epoch\n",
        "    train_loss = 0.0\n",
        "    train_acc = 0.0\n",
        "    train_total = 0\n",
        "    for batch_idx, (images, labels) in enumerate(train_dataloader):\n",
        "        optimizer.zero_grad()\n",
        "        images = images.to(device)\n",
        "        labels = labels.to(device)\n",
        "        cnn_output = cnn(images)\n",
        "        #print(\"hi\")\n",
        "        predictions = model_out(cnn_output).squeeze()\n",
        "        acc_sum = 0\n",
        "        for i, pred in enumerate(predictions):\n",
        "          if round(pred.item()) == labels[i]:\n",
        "            acc_sum += 1\n",
        "        acc = acc_sum / labels.size(0)\n",
        "        # acc = torch.sum(predictions == labels) / labels.size(0)\n",
        "#         print(predictions.shape, labels.squeeze().shape)\n",
        "        loss = torch.nn.BCELoss()(predictions, labels.squeeze().float())\n",
        "        loss.backward()\n",
        "        optimizer.step()\n",
        "    # update statistics\n",
        "        train_loss += (loss * len(images))\n",
        "        train_acc += (acc * len(labels))\n",
        "        train_total += len(labels)\n",
        "    \n",
        "    train_loss /= train_total\n",
        "    train_acc /= train_total\n",
        "    cnn.eval()\n",
        "    model_out.eval()\n",
        "    val_loss = 0\n",
        "    val_acc = 0\n",
        "    val_total = 0\n",
        "    with torch.no_grad():\n",
        "      for batch_idx, (images, labels) in enumerate(val_dataloader):\n",
        "          images = images.to(device)\n",
        "          labels = labels.to(device)\n",
        "          cnn_output = cnn(images)\n",
        "          predictions = model_out(cnn_output).squeeze()\n",
        "          acc_sum = 0\n",
        "          for i, pred in enumerate(predictions):\n",
        "            if round(pred.item()) == labels[i]:\n",
        "              acc_sum += 1\n",
        "          acc = acc_sum / labels.size(0)\n",
        "          # acc = torch.sum(predictions == labels) / labels.size(0)\n",
        "          loss = torch.nn.BCELoss()(predictions, labels.squeeze().float())\n",
        "          # update statistics\n",
        "          val_loss += (loss * len(images))\n",
        "          val_acc += (acc * len(labels))\n",
        "          val_total += len(labels)\n",
        "      val_loss /= val_total\n",
        "      val_acc /= val_total\n",
        "    end_time = time.time()\n",
        "    epoch_mins, epoch_secs = epoch_time(start_time, end_time)\n",
        "    print(f'Epoch: {epoch_idx+1:02} | Time: {epoch_mins}m {epoch_secs}s')\n",
        "    print(f\"Epoch {epoch_idx + 1}:  val loss {val_loss :0.3f}, val acc {val_acc :0.3f}, train loss {train_loss :0.3f}, train acc {train_acc :0.3f}\")\n",
        "    # Detach tells torch to stop tracking a tensor's gradients\n",
        "    return train_acc, train_loss.detach(), val_acc,val_loss.detach()"
      ],
      "metadata": {
        "execution": {
          "iopub.status.busy": "2023-03-08T21:43:14.218882Z",
          "iopub.execute_input": "2023-03-08T21:43:14.219368Z",
          "iopub.status.idle": "2023-03-08T21:43:14.234656Z",
          "shell.execute_reply.started": "2023-03-08T21:43:14.219327Z",
          "shell.execute_reply": "2023-03-08T21:43:14.233514Z"
        },
        "trusted": true,
        "id": "vkmwR4ubR3Kl"
      },
      "execution_count": null,
      "outputs": []
    },
    {
      "cell_type": "code",
      "source": [
        "# Train the inputted Models\n",
        "def train(cnn, model_out, epochs, lr, cnn_name=\"model_cnn\", model_out_name=\"model_out\"):\n",
        "    train_accs = []\n",
        "    train_losses = []\n",
        "    val_accs = []\n",
        "    val_losses = []\n",
        "    best_val_loss = float('inf')\n",
        "    opt = torch.optim.Adam([{\"params\": cnn.parameters()},{\"params\":model_out.parameters()}], lr=lr)\n",
        "    for epoch in range(epochs):\n",
        "      train_acc, train_loss, val_acc, val_loss = run_one_epoch(epoch, cnn, model_out, opt, train_dataloader, val_dataloader)\n",
        "      train_accs.append(train_acc)\n",
        "      train_losses.append(train_loss)\n",
        "      val_accs.append(val_acc)\n",
        "      val_losses.append(val_loss)\n",
        "      if best_val_loss > val_loss:\n",
        "            torch.save(cnn, save_model_dir + cnn_name)\n",
        "            torch.save(model_out, save_model_dir + model_out_name)\n",
        "            best_val_loss = val_loss\n",
        "            print(\"Saved Model\")\n",
        "    return train_accs, train_losses, val_accs, val_losses"
      ],
      "metadata": {
        "execution": {
          "iopub.status.busy": "2023-03-08T21:54:00.277102Z",
          "iopub.execute_input": "2023-03-08T21:54:00.278194Z",
          "iopub.status.idle": "2023-03-08T21:54:00.286428Z",
          "shell.execute_reply.started": "2023-03-08T21:54:00.278145Z",
          "shell.execute_reply": "2023-03-08T21:54:00.285221Z"
        },
        "trusted": true,
        "id": "GE3On0btR3Km"
      },
      "execution_count": null,
      "outputs": []
    },
    {
      "cell_type": "code",
      "source": [
        "# Init and train the fully connected model\n",
        "cnn_fc = CNN()\n",
        "cnn_fc.to(device)\n",
        "fc = FC()\n",
        "fc.to(device)\n",
        "epochs = 10\n",
        "lr = 1e-4\n",
        "\n",
        "fc_train_accs, fc_train_losses, fc_val_accs, fc_val_losses = train(cnn_fc, \n",
        "                                                                   fc, \n",
        "                                                                   epochs, \n",
        "                                                                   lr, \n",
        "                                                                   cnn_name=\"cnn_fc\", \n",
        "                                                                   model_out_name=\"model_out_fc\")"
      ],
      "metadata": {
        "id": "uVcec7hSZ67k",
        "colab": {
          "base_uri": "https://localhost:8080/",
          "height": 606
        },
        "outputId": "d6073438-3414-4317-a88d-fad617326d8b",
        "execution": {
          "iopub.status.busy": "2023-03-08T21:47:40.917916Z",
          "iopub.execute_input": "2023-03-08T21:47:40.919016Z",
          "iopub.status.idle": "2023-03-08T21:50:38.984819Z",
          "shell.execute_reply.started": "2023-03-08T21:47:40.918956Z",
          "shell.execute_reply": "2023-03-08T21:50:38.983464Z"
        },
        "trusted": true
      },
      "execution_count": null,
      "outputs": [
        {
          "name": "stdout",
          "text": "Epoch: 01 | Time: 0m 17s\nEpoch 1:  val loss 0.452, val acc 0.781, train loss 0.497, train acc 0.764\nEpoch: 02 | Time: 0m 17s\nEpoch 2:  val loss 0.461, val acc 0.777, train loss 0.435, train acc 0.802\nEpoch: 03 | Time: 0m 17s\nEpoch 3:  val loss 0.418, val acc 0.809, train loss 0.397, train acc 0.824\nEpoch: 04 | Time: 0m 17s\nEpoch 4:  val loss 0.506, val acc 0.755, train loss 0.367, train acc 0.840\nEpoch: 05 | Time: 0m 17s\nEpoch 5:  val loss 0.426, val acc 0.814, train loss 0.333, train acc 0.858\nEpoch: 06 | Time: 0m 18s\nEpoch 6:  val loss 0.459, val acc 0.801, train loss 0.304, train acc 0.872\nEpoch: 07 | Time: 0m 17s\nEpoch 7:  val loss 0.483, val acc 0.801, train loss 0.276, train acc 0.887\nEpoch: 08 | Time: 0m 18s\nEpoch 8:  val loss 0.444, val acc 0.811, train loss 0.248, train acc 0.900\nEpoch: 09 | Time: 0m 17s\nEpoch 9:  val loss 0.506, val acc 0.784, train loss 0.222, train acc 0.912\nEpoch: 10 | Time: 0m 17s\nEpoch 10:  val loss 0.697, val acc 0.738, train loss 0.196, train acc 0.923\n",
          "output_type": "stream"
        }
      ]
    },
    {
      "cell_type": "code",
      "source": [
        "# init and train the RNN model\n",
        "cnn_rrn = CNN()\n",
        "cnn_rrn.to(device)\n",
        "rrn = RNN()\n",
        "rrn.to(device)\n",
        "epochs = 10\n",
        "lr = 1e-4\n",
        "\n",
        "rnn_train_accs, rnn_train_losses, rnn_val_accs, rnn_val_losses = train(cnn_rrn, \n",
        "                                                                       rrn, \n",
        "                                                                       epochs, \n",
        "                                                                       lr, \n",
        "                                                                       cnn_name=\"cnn_rnn\", \n",
        "                                                                       model_out_name=\"model_out_rnn\")"
      ],
      "metadata": {
        "execution": {
          "iopub.status.busy": "2023-03-08T21:54:03.930288Z",
          "iopub.execute_input": "2023-03-08T21:54:03.930684Z",
          "iopub.status.idle": "2023-03-08T21:59:37.798994Z",
          "shell.execute_reply.started": "2023-03-08T21:54:03.930648Z",
          "shell.execute_reply": "2023-03-08T21:59:37.797790Z"
        },
        "trusted": true,
        "id": "53hSCXF3R3Km",
        "outputId": "972b91a6-7762-476d-cc1e-4401973879e1"
      },
      "execution_count": null,
      "outputs": [
        {
          "name": "stdout",
          "text": "Epoch: 01 | Time: 0m 33s\nEpoch 1:  val loss 0.475, val acc 0.761, train loss 0.480, train acc 0.776\nSaved Model\nEpoch: 02 | Time: 0m 33s\nEpoch 2:  val loss 0.440, val acc 0.782, train loss 0.428, train acc 0.806\nSaved Model\nEpoch: 03 | Time: 0m 33s\nEpoch 3:  val loss 0.419, val acc 0.809, train loss 0.387, train acc 0.830\nSaved Model\nEpoch: 04 | Time: 0m 33s\nEpoch 4:  val loss 0.396, val acc 0.822, train loss 0.346, train acc 0.853\nSaved Model\nEpoch: 05 | Time: 0m 32s\nEpoch 5:  val loss 0.427, val acc 0.808, train loss 0.309, train acc 0.871\nEpoch: 06 | Time: 0m 33s\nEpoch 6:  val loss 0.440, val acc 0.810, train loss 0.282, train acc 0.883\nEpoch: 07 | Time: 0m 33s\nEpoch 7:  val loss 0.424, val acc 0.797, train loss 0.251, train acc 0.899\nEpoch: 08 | Time: 0m 33s\nEpoch 8:  val loss 0.481, val acc 0.804, train loss 0.228, train acc 0.908\nEpoch: 09 | Time: 0m 33s\nEpoch 9:  val loss 0.445, val acc 0.813, train loss 0.204, train acc 0.919\nEpoch: 10 | Time: 0m 32s\nEpoch 10:  val loss 0.637, val acc 0.772, train loss 0.182, train acc 0.929\n",
          "output_type": "stream"
        }
      ]
    },
    {
      "cell_type": "code",
      "source": [
        "# init and train the LSTM model\n",
        "cnn_lstm = CNN()\n",
        "cnn_lstm.to(device)\n",
        "lstm = LSTM()\n",
        "lstm.to(device)\n",
        "epochs = 10\n",
        "lr = 1e-4\n",
        "\n",
        "lstm_train_accs, lstm_train_losses, lstm_val_accs, lstm_val_losses = train(cnn_lstm, \n",
        "                                                                           lstm, \n",
        "                                                                           epochs, \n",
        "                                                                           lr, \n",
        "                                                                           cnn_name=\"cnn_lstm\", \n",
        "                                                                           model_out_name=\"model_out_lstm\")"
      ],
      "metadata": {
        "execution": {
          "iopub.status.busy": "2023-03-08T22:01:31.651408Z",
          "iopub.execute_input": "2023-03-08T22:01:31.652145Z",
          "iopub.status.idle": "2023-03-08T22:07:06.096212Z",
          "shell.execute_reply.started": "2023-03-08T22:01:31.652101Z",
          "shell.execute_reply": "2023-03-08T22:07:06.094496Z"
        },
        "trusted": true,
        "id": "SAIkSe1oR3Kn",
        "outputId": "e943d700-eefc-4f01-d150-b9ce20d136ac"
      },
      "execution_count": null,
      "outputs": [
        {
          "name": "stdout",
          "text": "Epoch: 01 | Time: 0m 33s\nEpoch 1:  val loss 0.433, val acc 0.795, train loss 0.470, train acc 0.782\nSaved Model\nEpoch: 02 | Time: 0m 33s\nEpoch 2:  val loss 0.497, val acc 0.764, train loss 0.430, train acc 0.807\nEpoch: 03 | Time: 0m 33s\nEpoch 3:  val loss 0.469, val acc 0.791, train loss 0.388, train acc 0.828\nEpoch: 04 | Time: 0m 33s\nEpoch 4:  val loss 0.373, val acc 0.827, train loss 0.339, train acc 0.854\nSaved Model\nEpoch: 05 | Time: 0m 33s\nEpoch 5:  val loss 0.367, val acc 0.829, train loss 0.306, train acc 0.870\nSaved Model\nEpoch: 06 | Time: 0m 33s\nEpoch 6:  val loss 0.374, val acc 0.832, train loss 0.278, train acc 0.885\nEpoch: 07 | Time: 0m 32s\nEpoch 7:  val loss 0.396, val acc 0.825, train loss 0.255, train acc 0.896\nEpoch: 08 | Time: 0m 33s\nEpoch 8:  val loss 0.423, val acc 0.810, train loss 0.233, train acc 0.906\nEpoch: 09 | Time: 0m 32s\nEpoch 9:  val loss 0.409, val acc 0.827, train loss 0.216, train acc 0.914\nEpoch: 10 | Time: 0m 33s\nEpoch 10:  val loss 0.389, val acc 0.837, train loss 0.196, train acc 0.924\n",
          "output_type": "stream"
        }
      ]
    }
  ]
}