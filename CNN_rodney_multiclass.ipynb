{
  "metadata": {
    "kernelspec": {
      "name": "python3",
      "display_name": "Python 3",
      "language": "python"
    },
    "language_info": {
      "name": "python",
      "version": "3.7.12",
      "mimetype": "text/x-python",
      "codemirror_mode": {
        "name": "ipython",
        "version": 3
      },
      "pygments_lexer": "ipython3",
      "nbconvert_exporter": "python",
      "file_extension": ".py"
    },
    "vscode": {
      "interpreter": {
        "hash": "1c113ca73dcb788d262ff5c14dccc6d994c5d16184791d4e782c53cfe6cb089e"
      }
    },
    "colab": {
      "provenance": [],
      "include_colab_link": true
    },
    "gpuClass": "standard",
    "accelerator": "GPU"
  },
  "nbformat_minor": 0,
  "nbformat": 4,
  "cells": [
    {
      "cell_type": "markdown",
      "metadata": {
        "id": "view-in-github",
        "colab_type": "text"
      },
      "source": [
        "<a href=\"https://colab.research.google.com/github/cs449w23/project-cs_get_degrees/blob/main/CNN_rodney_multiclass.ipynb\" target=\"_parent\"><img src=\"https://colab.research.google.com/assets/colab-badge.svg\" alt=\"Open In Colab\"/></a>"
      ]
    },
    {
      "cell_type": "code",
      "source": [
        "# Install required 3rd party packages \n",
        "%pip install h5py"
      ],
      "metadata": {
        "id": "qWpfnXSPwvp8",
        "outputId": "897a8910-d490-453c-9d6f-36098065961a",
        "colab": {
          "base_uri": "https://localhost:8080/"
        },
        "execution": {
          "iopub.status.busy": "2023-03-10T22:25:35.252467Z",
          "iopub.execute_input": "2023-03-10T22:25:35.253335Z",
          "iopub.status.idle": "2023-03-10T22:25:48.395565Z",
          "shell.execute_reply.started": "2023-03-10T22:25:35.253292Z",
          "shell.execute_reply": "2023-03-10T22:25:48.393824Z"
        },
        "trusted": true
      },
      "execution_count": null,
      "outputs": [
        {
          "name": "stdout",
          "text": "Requirement already satisfied: h5py in /opt/conda/lib/python3.7/site-packages (3.8.0)\nRequirement already satisfied: numpy>=1.14.5 in /opt/conda/lib/python3.7/site-packages (from h5py) (1.21.6)\n\u001b[33mWARNING: Running pip as the 'root' user can result in broken permissions and conflicting behaviour with the system package manager. It is recommended to use a virtual environment instead: https://pip.pypa.io/warnings/venv\u001b[0m\u001b[33m\n\u001b[0mNote: you may need to restart the kernel to use updated packages.\n",
          "output_type": "stream"
        }
      ]
    },
    {
      "cell_type": "code",
      "source": [
        "# Import required libs \n",
        "import torch\n",
        "import numpy as np\n",
        "import matplotlib.pyplot as plt\n",
        "from sklearn.datasets import load_digits\n",
        "from sklearn.model_selection import train_test_split\n",
        "from collections import defaultdict\n",
        "from torch.utils.data import Dataset, random_split, TensorDataset\n",
        "from torchvision import datasets\n",
        "from torchvision.transforms import ToTensor\n",
        "import matplotlib.image as mpimg\n",
        "from torch.utils.data import DataLoader\n",
        "import time\n",
        "import h5py"
      ],
      "metadata": {
        "id": "t3LHjcE0wQ3E",
        "execution": {
          "iopub.status.busy": "2023-03-10T22:25:48.398394Z",
          "iopub.execute_input": "2023-03-10T22:25:48.398754Z",
          "iopub.status.idle": "2023-03-10T22:25:52.837868Z",
          "shell.execute_reply.started": "2023-03-10T22:25:48.398719Z",
          "shell.execute_reply": "2023-03-10T22:25:52.836527Z"
        },
        "trusted": true
      },
      "execution_count": null,
      "outputs": []
    },
    {
      "cell_type": "code",
      "source": [
        "# Define CNN class\n",
        "class CNN(torch.nn.Module):\n",
        "    def __init__(self, initial_channel_size=16):\n",
        "        super(CNN, self).__init__()\n",
        "        #self.linear_layer_size = linear_layer_size\n",
        "        self.conv1 = torch.nn.Conv2d(1, initial_channel_size, kernel_size=3)  \n",
        "        self.conv2 = torch.nn.Conv2d(initial_channel_size, initial_channel_size * 2, kernel_size=3) \n",
        "        self.conv3 = torch.nn.Conv2d(initial_channel_size * 2, initial_channel_size * 4, kernel_size=3)\n",
        "        self.conv4 = torch.nn.Conv2d(initial_channel_size * 4, initial_channel_size * 8, kernel_size=3)\n",
        "        self.conv5 = torch.nn.Conv2d(initial_channel_size * 8, initial_channel_size * 12, kernel_size=3)\n",
        "        # output: torch.Size([64, 128, 4, 4])\n",
        "        \n",
        "\n",
        "    def forward(self, x):\n",
        "        #print(x.shape)\n",
        "        batch_size = x.size(0)\n",
        "\n",
        "        relu = torch.nn.ReLU()\n",
        "        maxpool = torch.nn.MaxPool2d(stride=2,kernel_size=2)\n",
        "        x = self.conv1(x)\n",
        "        x = maxpool(relu(x))\n",
        "        #print(x.shape)\n",
        "        x = self.conv2(x)\n",
        "        x = maxpool(relu(x))\n",
        "        #print(x.shape)\n",
        "        x = self.conv3(x)\n",
        "        x = maxpool(relu(x))\n",
        "        #print(x.shape)\n",
        "        x = self.conv4(x)\n",
        "        x = maxpool(relu(x))\n",
        "        x = self.conv5(x)\n",
        "        x = maxpool(relu(x))\n",
        "        #print(x.shape)\n",
        "        # x = x.reshape(batch_size, self.linear_layer_size)\n",
        "        # x = self.linear(x)\n",
        "        return x"
      ],
      "metadata": {
        "id": "8-R4w92JwqBu",
        "execution": {
          "iopub.status.busy": "2023-03-10T22:25:52.839857Z",
          "iopub.execute_input": "2023-03-10T22:25:52.840953Z",
          "iopub.status.idle": "2023-03-10T22:25:52.853209Z",
          "shell.execute_reply.started": "2023-03-10T22:25:52.840870Z",
          "shell.execute_reply": "2023-03-10T22:25:52.851969Z"
        },
        "trusted": true
      },
      "execution_count": null,
      "outputs": []
    },
    {
      "cell_type": "code",
      "source": [
        "# define Fully Connected Class\n",
        "class FC(torch.nn.Module):\n",
        "    def __init__(self, spatial_size=6, initial_channel_size=16, dropout=0.25):\n",
        "          super(FC, self).__init__()\n",
        "          self.drop_out_1 = torch.nn.Dropout(dropout)\n",
        "          self.fc1 = torch.nn.Linear(spatial_size**2 * initial_channel_size * 12, spatial_size * initial_channel_size * 8)  # input: (6,6,128) # output 512\n",
        "          self.drop_out_2 = torch.nn.Dropout(dropout)\n",
        "          self.fc2 = torch.nn.Linear(spatial_size * initial_channel_size * 8, 14)  # input: 512 # output 2 classes\n",
        "          self.actv = torch.nn.Sigmoid()\n",
        "    def forward(self, x):\n",
        "        batch_size = x.size(0)\n",
        "        x = self.drop_out_1(x)\n",
        "        x = torch.flatten(x, 1)\n",
        "        x = self.fc1(x)\n",
        "        x = self.actv(x)\n",
        "        x = self.drop_out_2(x)\n",
        "        x = self.fc2(x)\n",
        "        x = self.actv(x)\n",
        "        return x\n"
      ],
      "metadata": {
        "id": "HbD3k-0053vu",
        "execution": {
          "iopub.status.busy": "2023-03-10T22:43:04.057891Z",
          "iopub.execute_input": "2023-03-10T22:43:04.058375Z",
          "iopub.status.idle": "2023-03-10T22:43:04.068390Z",
          "shell.execute_reply.started": "2023-03-10T22:43:04.058335Z",
          "shell.execute_reply": "2023-03-10T22:43:04.067066Z"
        },
        "trusted": true
      },
      "execution_count": null,
      "outputs": []
    },
    {
      "cell_type": "code",
      "source": [
        "# Define Recurrent Neural Network Class\n",
        "class RNN(torch.nn.Module):\n",
        "    def __init__(self, batch_size=32, initial_channel_size=16, dropout=0.25):\n",
        "        super(RNN, self).__init__()\n",
        "        self.input_size = initial_channel_size * 12\n",
        "        self.output_size = 14\n",
        "        self.hidden_size = initial_channel_size * 12\n",
        "        self.n_layers = 1\n",
        "        self.batch_size = batch_size\n",
        "        # batch_first means that the first dim of the input and output will be the batch_size\n",
        "        # self.rnn = torch.nn.RNN(self.input_size, self.hidden_size, self.n_layers, batch_first=True)\n",
        "        # last, fully-connected layer\n",
        "        self.drop_out_1 = torch.nn.Dropout(dropout)\n",
        "        self.rnn = torch.nn.RNNCell(self.input_size, self.hidden_size)\n",
        "        self.drop_out_2 = torch.nn.Dropout(dropout)\n",
        "        self.fc1 = torch.nn.Linear(self.hidden_size*36, self.hidden_size*4)\n",
        "        self.drop_out_3 = torch.nn.Dropout(dropout)\n",
        "        self.fc2 = torch.nn.Linear(self.hidden_size*4, self.output_size)\n",
        "        self.actv = torch.nn.Sigmoid()\n",
        "\n",
        "    def forward(self, x):\n",
        "        hidden = None\n",
        "        batch_size = x.size(0)\n",
        "        x = x.permute(0,2,3,1).reshape(batch_size,36,-1)\n",
        "        output= torch.tensor([]).to(device)\n",
        "        x = self.drop_out_1(x)\n",
        "        for pixel in range(36):\n",
        "          input = x[:,pixel,:]\n",
        "          hidden = self.rnn(input, hidden)\n",
        "          # print(\"hidden: \", hidden.shape)\n",
        "          output = torch.cat((output, hidden), dim=1)\n",
        "        # get RNN outputs\n",
        "        \n",
        "        # shape output to be (batch_size*seq_length, hidden_dim)\n",
        "        #r_out = r_out.view(-1, self.hidden_size)\n",
        "        \n",
        "        # get final output \n",
        "        output = self.drop_out_2(output)\n",
        "        output = self.actv(self.fc1(output))\n",
        "        output = self.drop_out_3(output)\n",
        "        output = self.actv(self.fc2(output))\n",
        "        #return output, hidden\n",
        "        return output\n",
        "        \n",
        "    # def initHidden(self):\n",
        "    #     return torch.zeros(self.n_layers,self.batch_size, self.hidden_size)"
      ],
      "metadata": {
        "id": "eSFpYhgG56Ao",
        "execution": {
          "iopub.status.busy": "2023-03-10T22:45:11.226963Z",
          "iopub.execute_input": "2023-03-10T22:45:11.227411Z",
          "iopub.status.idle": "2023-03-10T22:45:11.241971Z",
          "shell.execute_reply.started": "2023-03-10T22:45:11.227375Z",
          "shell.execute_reply": "2023-03-10T22:45:11.240364Z"
        },
        "trusted": true
      },
      "execution_count": null,
      "outputs": []
    },
    {
      "cell_type": "code",
      "source": [
        "# Define Long Short-Term Memory Class\n",
        "class LSTM(torch.nn.Module):\n",
        "    def __init__(self,batch_size=32, initial_channel_size=16,dropout=0.25):\n",
        "        super(LSTM,self).__init__()\n",
        "        self.input_size = initial_channel_size * 12\n",
        "        self.output_size = 14\n",
        "        self.hidden_size = initial_channel_size * 12\n",
        "        self.batch_size = batch_size\n",
        "        self.drop_out_1 = torch.nn.Dropout(dropout)\n",
        "        self.drop_out_2 = torch.nn.Dropout(dropout)\n",
        "        self.drop_out_3 = torch.nn.Dropout(dropout)\n",
        "        self.lstm = torch.nn.LSTMCell(input_size=self.input_size,hidden_size=self.hidden_size)\n",
        "        self.fc1 = torch.nn.Linear(self.hidden_size*36, self.hidden_size*4)\n",
        "        self.fc2 = torch.nn.Linear(self.hidden_size*4, self.output_size)\n",
        "        self.actv = torch.nn.Sigmoid()\n",
        "\n",
        "    def forward(self,x):\n",
        "        batch_size = x.size(0)\n",
        "        hidden = torch.zeros(batch_size, self.hidden_size).to(device)\n",
        "        cell_state = torch.zeros(batch_size, self.hidden_size).to(device)\n",
        "        x = x.permute(0,2,3,1).reshape(batch_size,36,-1)\n",
        "        output= torch.tensor([]).to(device)\n",
        "        x = self.drop_out_1(x)\n",
        "        for pixel in range(36):\n",
        "          input = x[:,pixel,:]\n",
        "          (hidden, cell_state) = self.lstm(input, (hidden, cell_state))\n",
        "          # print(\"hidden: \", hidden.shape)\n",
        "          output = torch.cat((output, hidden), dim=1)\n",
        "        # get RNN outputs\n",
        "        \n",
        "        # shape output to be (batch_size*seq_length, hidden_dim)\n",
        "        #r_out = r_out.view(-1, self.hidden_size)\n",
        "        \n",
        "        # get final output \n",
        "        output = self.drop_out_2(output)\n",
        "        output = self.actv(self.fc1(output))\n",
        "        output = self.drop_out_2(output)\n",
        "        output = self.actv(self.fc2(output))\n",
        "        \n",
        "        #return output, hidden\n",
        "        return output\n",
        "\n",
        "    def initHidden(self):\n",
        "        return torch.zeros(self.n_layers,self.batch_size, self.hidden_size)\n"
      ],
      "metadata": {
        "id": "dTm33ZQc_SsH",
        "execution": {
          "iopub.status.busy": "2023-03-10T22:45:54.752357Z",
          "iopub.execute_input": "2023-03-10T22:45:54.752802Z",
          "iopub.status.idle": "2023-03-10T22:45:54.767555Z",
          "shell.execute_reply.started": "2023-03-10T22:45:54.752761Z",
          "shell.execute_reply": "2023-03-10T22:45:54.766307Z"
        },
        "trusted": true
      },
      "execution_count": null,
      "outputs": []
    },
    {
      "cell_type": "code",
      "source": [
        "# Define Meta Data\n",
        "device = torch.device('cuda:0' if torch.cuda.is_available() else 'cpu')\n",
        "display(device)\n",
        "batch_size = 64\n",
        "initial_channel_size = 48\n",
        "lr=1e-4\n",
        "epochs=15\n",
        "dropout = 0.3\n",
        "x_path = \"/kaggle/input/x-ray-multiclass/X-ray_images\"\n",
        "y_path = \"/kaggle/input/x-ray-multiclass/X-ray_labels\"\n",
        "save_model_dir = \"/kaggle/working/\""
      ],
      "metadata": {
        "colab": {
          "base_uri": "https://localhost:8080/"
        },
        "id": "Nyn18xvGdh_f",
        "outputId": "ea72ce93-a5d2-49d1-823e-85c006ad8059",
        "execution": {
          "iopub.status.busy": "2023-03-10T22:25:52.915729Z",
          "iopub.execute_input": "2023-03-10T22:25:52.916109Z",
          "iopub.status.idle": "2023-03-10T22:25:52.933581Z",
          "shell.execute_reply.started": "2023-03-10T22:25:52.916073Z",
          "shell.execute_reply": "2023-03-10T22:25:52.932344Z"
        },
        "trusted": true
      },
      "execution_count": null,
      "outputs": [
        {
          "output_type": "display_data",
          "data": {
            "text/plain": "device(type='cpu')"
          },
          "metadata": {}
        }
      ]
    },
    {
      "cell_type": "code",
      "source": [
        "images = torch.load(x_path)\n",
        "train_data = images[:75_000]\n",
        "val_data = images[75_000:]\n",
        "labels = torch.load(y_path)\n",
        "train_labels = labels[:75_000]\n",
        "val_labels = labels[75_000:]\n",
        "\n",
        "val_data_small = TensorDataset(val_data, val_labels)\n",
        "val_dataloader = DataLoader(val_data_small, batch_size=batch_size, shuffle=True, pin_memory=True)\n",
        "\n",
        "train_data_small = TensorDataset(train_data, train_labels)\n",
        "train_dataloader = DataLoader(train_data_small, batch_size=batch_size, shuffle=True, pin_memory=True)"
      ],
      "metadata": {
        "execution": {
          "iopub.status.busy": "2023-03-10T22:25:52.935484Z",
          "iopub.execute_input": "2023-03-10T22:25:52.935829Z",
          "iopub.status.idle": "2023-03-10T22:26:33.969738Z",
          "shell.execute_reply.started": "2023-03-10T22:25:52.935793Z",
          "shell.execute_reply": "2023-03-10T22:26:33.968520Z"
        },
        "trusted": true,
        "id": "L11G7I_etNtA"
      },
      "execution_count": null,
      "outputs": []
    },
    {
      "cell_type": "code",
      "source": [
        "# Define helper function to track length of epoch / print train/test curves\n",
        "def epoch_time(start_time, end_time):\n",
        "    elapsed_time = end_time - start_time\n",
        "    elapsed_mins = int(elapsed_time / 60)\n",
        "    elapsed_secs = int(elapsed_time - (elapsed_mins * 60))\n",
        "    return elapsed_mins, elapsed_secs\n",
        "\n",
        "def print_model_performance(train_acc, train_loss, val_acc,val_loss):\n",
        "    epochs = range(1,len(val_acc) + 1)\n",
        "    for metric, subplot_num, train_data, val_data in [[\"Loss\", 1,train_loss, val_loss],[\"Acc\", 2, train_acc, val_acc]]:\n",
        "        plt.subplot(1,2,subplot_num)\n",
        "        plt.plot(epochs, train_data,  label=\"Training \" + metric)\n",
        "        plt.plot(epochs, val_data, label='Validation ' + metric)\n",
        "        plt.title('Training and Validation ' + metric)\n",
        "        plt.xlabel('Epochs')\n",
        "        plt.ylabel(metric)\n",
        "        plt.legend()\n",
        "    plt.tight_layout()\n",
        "    plt.show()\n",
        "\n",
        "    "
      ],
      "metadata": {
        "id": "Uek2teITEu6_",
        "execution": {
          "iopub.status.busy": "2023-03-10T22:26:33.971195Z",
          "iopub.execute_input": "2023-03-10T22:26:33.971540Z",
          "iopub.status.idle": "2023-03-10T22:26:33.981618Z",
          "shell.execute_reply.started": "2023-03-10T22:26:33.971508Z",
          "shell.execute_reply": "2023-03-10T22:26:33.980034Z"
        },
        "trusted": true
      },
      "execution_count": null,
      "outputs": []
    },
    {
      "cell_type": "code",
      "source": [
        "# Run one epoch \n",
        "def run_one_epoch(epoch_idx, cnn, model_out, optimizer, train_dataloader, val_dataloader, verbose):\n",
        "    start_time = time.time()\n",
        "    cnn.train()\n",
        "    model_out.train()\n",
        "    # loop through the entire dataset once per epoch\n",
        "    train_loss = 0.0\n",
        "    train_acc = 0.0\n",
        "    train_total = 0\n",
        "    for batch_idx, (images, labels) in enumerate(train_dataloader):\n",
        "        optimizer.zero_grad()\n",
        "        images = images.to(device)\n",
        "        labels = labels.to(device)\n",
        "        cnn_output = cnn(images.float())\n",
        "        predictions = model_out(cnn_output).squeeze()\n",
        "        acc_sum = 0\n",
        "        for i, pred in enumerate(predictions):\n",
        "          if torch.all(torch.eq(pred.clone().detach().apply_(lambda num: round(num)), labels[i])):\n",
        "            acc_sum += 1\n",
        "        acc = acc_sum / labels.size(0)\n",
        "        # acc = torch.sum(predictions == labels) / labels.size(0)\n",
        "#         print(predictions.shape, labels.squeeze().shape)\n",
        "        loss = torch.nn.BCELoss()(predictions, labels.squeeze().float())\n",
        "        loss.backward()\n",
        "        optimizer.step()\n",
        "    # update statistics\n",
        "        train_loss += (loss * len(images))\n",
        "        train_acc += (acc * len(labels))\n",
        "        train_total += len(labels)\n",
        "    \n",
        "    train_loss /= train_total\n",
        "    train_acc /= train_total\n",
        "    cnn.eval()\n",
        "    model_out.eval()\n",
        "    val_loss = 0\n",
        "    val_acc = 0\n",
        "    val_total = 0\n",
        "    with torch.no_grad():\n",
        "      for batch_idx, (images, labels) in enumerate(val_dataloader):\n",
        "          images = images.to(device)\n",
        "          labels = labels.to(device)\n",
        "          cnn_output = cnn(images)\n",
        "          predictions = model_out(cnn_output).squeeze()\n",
        "          acc_sum = 0\n",
        "          for i, pred in enumerate(predictions):\n",
        "              if torch.all(torch.eq(pred.clone().detach().apply_(lambda num: round(num)), labels[i])):\n",
        "                  acc_sum += 1\n",
        "          acc = acc_sum / labels.size(0)\n",
        "          # acc = torch.sum(predictions == labels) / labels.size(0)\n",
        "          loss = torch.nn.BCELoss()(predictions, labels.squeeze().float())\n",
        "          # update statistics\n",
        "          val_loss += (loss * len(images))\n",
        "          val_acc += (acc * len(labels))\n",
        "          val_total += len(labels)\n",
        "      val_loss /= val_total\n",
        "      val_acc /= val_total\n",
        "    end_time = time.time()\n",
        "    epoch_mins, epoch_secs = epoch_time(start_time, end_time)\n",
        "    if verbose:\n",
        "        print(f'Epoch: {epoch_idx+1:02} | Time: {epoch_mins}m {epoch_secs}s')\n",
        "        print(f\"Epoch {epoch_idx + 1}:  val loss {val_loss :0.3f}, val acc {val_acc :0.3f}, train loss {train_loss :0.3f}, train acc {train_acc :0.3f}\")\n",
        "    # Detach tells torch to stop tracking a tensor's gradients\n",
        "    return train_acc, train_loss.item(), val_acc,val_loss.item()"
      ],
      "metadata": {
        "execution": {
          "iopub.status.busy": "2023-03-10T22:46:43.969102Z",
          "iopub.execute_input": "2023-03-10T22:46:43.969536Z",
          "iopub.status.idle": "2023-03-10T22:46:43.989160Z",
          "shell.execute_reply.started": "2023-03-10T22:46:43.969500Z",
          "shell.execute_reply": "2023-03-10T22:46:43.987643Z"
        },
        "trusted": true,
        "id": "Bf1kp_SstNtB"
      },
      "execution_count": null,
      "outputs": []
    },
    {
      "cell_type": "code",
      "source": [
        "# Train the inputted Models\n",
        "def train(cnn, model_out, epochs, lr, verbose ,cnn_name=\"model_cnn\", model_out_name=\"model_out\"):\n",
        "    train_accs = []\n",
        "    train_losses = []\n",
        "    val_accs = []\n",
        "    val_losses = []\n",
        "    best_val_acc = 0\n",
        "    opt = torch.optim.Adam([{\"params\": cnn.parameters()},{\"params\":model_out.parameters()}], lr=lr)\n",
        "    for epoch in range(epochs):\n",
        "      train_acc, train_loss, val_acc, val_loss = run_one_epoch(epoch, cnn, model_out, opt, train_dataloader, val_dataloader, verbose)\n",
        "      train_accs.append(train_acc)\n",
        "      train_losses.append(train_loss)\n",
        "      val_accs.append(val_acc)\n",
        "      val_losses.append(val_loss)\n",
        "      if best_val_acc < val_acc:\n",
        "            torch.save(cnn.state_dict(), save_model_dir + cnn_name)\n",
        "            torch.save(model_out.state_dict(), save_model_dir + model_out_name)\n",
        "            best_val_acc = val_acc\n",
        "            if verbose:\n",
        "                print(\"Saved Model\")\n",
        "    return train_accs, train_losses, val_accs, val_losses, best_val_acc"
      ],
      "metadata": {
        "execution": {
          "iopub.status.busy": "2023-03-10T22:26:34.003849Z",
          "iopub.execute_input": "2023-03-10T22:26:34.004209Z",
          "iopub.status.idle": "2023-03-10T22:26:34.022006Z",
          "shell.execute_reply.started": "2023-03-10T22:26:34.004175Z",
          "shell.execute_reply": "2023-03-10T22:26:34.020666Z"
        },
        "trusted": true,
        "id": "hHGcbOgCtNtC"
      },
      "execution_count": null,
      "outputs": []
    },
    {
      "cell_type": "code",
      "source": [
        "# Init and train the fully connected model\n",
        "def train_fc(initial_channel_size=16,lr=2.5e-5, epochs=15, dropout=0.25, verbose=True):\n",
        "    cnn_fc = CNN(initial_channel_size=initial_channel_size)\n",
        "    cnn_fc.to(device)\n",
        "    fc = FC(initial_channel_size=initial_channel_size, dropout=dropout)\n",
        "    fc.to(device)\n",
        "\n",
        "\n",
        "    fc_train_accs, fc_train_losses, fc_val_accs, fc_val_losses, best_val_acc = train(cnn_fc, \n",
        "                                                                       fc, \n",
        "                                                                       epochs, \n",
        "                                                                       lr, \n",
        "                                                                       verbose,\n",
        "                                                                       cnn_name=\"cnn_fc\", \n",
        "                                                                       model_out_name=\"model_out_fc\")\n",
        "    print(f\"\\nBEST VAL ACCURACY: {best_val_acc}\")\n",
        "    print_model_performance(fc_train_accs, fc_train_losses, fc_val_accs, fc_val_losses)"
      ],
      "metadata": {
        "id": "uVcec7hSZ67k",
        "execution": {
          "iopub.status.busy": "2023-03-10T22:26:34.023528Z",
          "iopub.execute_input": "2023-03-10T22:26:34.024056Z",
          "iopub.status.idle": "2023-03-10T22:26:34.035587Z",
          "shell.execute_reply.started": "2023-03-10T22:26:34.024014Z",
          "shell.execute_reply": "2023-03-10T22:26:34.034148Z"
        },
        "trusted": true
      },
      "execution_count": null,
      "outputs": []
    },
    {
      "cell_type": "code",
      "source": [
        "# init and train the RNN model\n",
        "def train_rnn(initial_channel_size=16, lr=2.5e-5, epochs=15, dropout=0.25, verbose=True):\n",
        "    cnn_rnn = CNN(initial_channel_size=initial_channel_size)\n",
        "    cnn_rnn.to(device)\n",
        "    rrn = RNN(initial_channel_size=initial_channel_size,dropout=dropout)\n",
        "    rrn.to(device)\n",
        "\n",
        "    rnn_train_accs, rnn_train_losses, rnn_val_accs, rnn_val_losses, best_val_acc = train(cnn_rnn, \n",
        "                                                                           rrn, \n",
        "                                                                           epochs, \n",
        "                                                                           lr,\n",
        "                                                                           verbose,\n",
        "                                                                           cnn_name=\"cnn_rnn\") \n",
        "    print(f\"\\nBEST VAL ACCURACY: {best_val_acc}\")\n",
        "    print_model_performance(rnn_train_accs, rnn_train_losses, rnn_val_accs, rnn_val_losses)"
      ],
      "metadata": {
        "execution": {
          "iopub.status.busy": "2023-03-10T22:26:34.037234Z",
          "iopub.execute_input": "2023-03-10T22:26:34.037708Z",
          "iopub.status.idle": "2023-03-10T22:26:34.049198Z",
          "shell.execute_reply.started": "2023-03-10T22:26:34.037657Z",
          "shell.execute_reply": "2023-03-10T22:26:34.047985Z"
        },
        "trusted": true,
        "id": "Jrawm7XctNtC"
      },
      "execution_count": null,
      "outputs": []
    },
    {
      "cell_type": "code",
      "source": [
        "# init and train the LSTM model\n",
        "def train_lstm(initial_channel_size=16,lr=2.5e-5, epochs=15, dropout=0.25, verbose=True):\n",
        "    cnn_lstm = CNN(initial_channel_size=initial_channel_size)\n",
        "    cnn_lstm.to(device)\n",
        "    lstm = LSTM(initial_channel_size=initial_channel_size, dropout=dropout)\n",
        "    lstm.to(device)\n",
        "\n",
        "    lstm_train_accs, lstm_train_losses, lstm_val_accs, lstm_val_losses, best_val_acc = train(cnn_lstm, \n",
        "                                                                               lstm, \n",
        "                                                                               epochs, \n",
        "                                                                               lr,\n",
        "                                                                               verbose,\n",
        "                                                                               cnn_name=\"cnn_lstm\", \n",
        "                                                                               model_out_name=\"model_out_lstm\")\n",
        "    print(f\"\\nBEST VAL ACCURACY: {best_val_acc}\")\n",
        "    print_model_performance(lstm_train_accs, lstm_train_losses, lstm_val_accs, lstm_val_losses)"
      ],
      "metadata": {
        "execution": {
          "iopub.status.busy": "2023-03-10T22:26:34.051803Z",
          "iopub.execute_input": "2023-03-10T22:26:34.052360Z",
          "iopub.status.idle": "2023-03-10T22:26:34.063057Z",
          "shell.execute_reply.started": "2023-03-10T22:26:34.052307Z",
          "shell.execute_reply": "2023-03-10T22:26:34.061626Z"
        },
        "trusted": true,
        "id": "RcuEPfbatNtC"
      },
      "execution_count": null,
      "outputs": []
    },
    {
      "cell_type": "code",
      "source": [
        "# train fc\n",
        "# train_fc(initial_channel_size=initial_channel_size, lr=lr, epochs=epochs, dropout=dropout, verbose=True)"
      ],
      "metadata": {
        "execution": {
          "iopub.status.busy": "2023-03-10T22:41:42.094561Z",
          "iopub.execute_input": "2023-03-10T22:41:42.095019Z",
          "iopub.status.idle": "2023-03-10T22:41:42.100713Z",
          "shell.execute_reply.started": "2023-03-10T22:41:42.094980Z",
          "shell.execute_reply": "2023-03-10T22:41:42.099348Z"
        },
        "trusted": true,
        "id": "Rx6gTBAUtNtD"
      },
      "execution_count": null,
      "outputs": []
    },
    {
      "cell_type": "code",
      "source": [
        "# train rnn\n",
        "# train_rnn(initial_channel_size=initial_channel_size, lr=lr, epochs=epochs, dropout=dropout, verbose=True)"
      ],
      "metadata": {
        "execution": {
          "iopub.status.busy": "2023-03-10T22:44:49.695592Z",
          "iopub.status.idle": "2023-03-10T22:44:49.696058Z",
          "shell.execute_reply.started": "2023-03-10T22:44:49.695820Z",
          "shell.execute_reply": "2023-03-10T22:44:49.695844Z"
        },
        "trusted": true,
        "id": "XHEWJAQTtNtD"
      },
      "execution_count": null,
      "outputs": []
    },
    {
      "cell_type": "code",
      "source": [
        "# train fc\n",
        "# train_lstm(initial_channel_size=initial_channel_size, lr=lr, epochs=epochs, dropout=dropout, verbose=True)"
      ],
      "metadata": {
        "execution": {
          "iopub.status.busy": "2023-03-10T22:46:51.439153Z",
          "iopub.execute_input": "2023-03-10T22:46:51.439622Z",
          "iopub.status.idle": "2023-03-10T22:46:51.445097Z",
          "shell.execute_reply.started": "2023-03-10T22:46:51.439578Z",
          "shell.execute_reply": "2023-03-10T22:46:51.443576Z"
        },
        "trusted": true,
        "id": "AlHydbnItNtD"
      },
      "execution_count": null,
      "outputs": []
    },
    {
      "cell_type": "code",
      "source": [
        "# # Hyperparameter search\n",
        "# def train_model_hyperparameter_search(model, initial_channel_size, lr, dropout):\n",
        "#     if model == 'fc':\n",
        "#         train_fc(initial_channel_size=initial_channel_size, lr=lr, epochs=epochs, dropout=dropout, verbose=False)\n",
        "#     elif model == 'rnn':\n",
        "#         train_rnn(initial_channel_size=initial_channel_size, lr=lr, epochs=epochs, dropout=dropout, verbose=False)\n",
        "#     elif model == 'lstm':\n",
        "#         train_lstm(initial_channel_size=initial_channel_size, lr=lr, epochs=epochs, dropout=dropout, verbose=False)\n",
        "#     print(f\"Hyperparameters <{model}> initial_channel_size: {initial_channel_size} lr: {lr} dropout: {dropout}\")\n",
        "\n",
        "# for model in ['fc', 'rnn','lstm']:\n",
        "#     for initial_channel_size_temp in [48, 64, 80]:\n",
        "#         train_model_hyperparameter_search(model, initial_channel_size_temp, lr, dropout)\n",
        "#     for lr_temp in [1e-4, 5e-5, 2.5e-4]:\n",
        "#         train_model_hyperparameter_search(model, initial_channel_size, lr_temp, dropout)\n",
        "#     for dropout_temp in [0.2, 0.3, 0.4]:\n",
        "#         train_model_hyperparameter_search(model, initial_channel_size, lr, dropout_temp)"
      ],
      "metadata": {
        "execution": {
          "iopub.status.busy": "2023-03-10T22:26:40.560987Z",
          "iopub.status.idle": "2023-03-10T22:26:40.561588Z",
          "shell.execute_reply.started": "2023-03-10T22:26:40.561385Z",
          "shell.execute_reply": "2023-03-10T22:26:40.561408Z"
        },
        "trusted": true,
        "id": "VAg1_YoRtNtD"
      },
      "execution_count": null,
      "outputs": []
    }
  ]
}