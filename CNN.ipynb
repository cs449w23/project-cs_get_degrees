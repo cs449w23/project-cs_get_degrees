{
  "cells": [
    {
      "cell_type": "code",
      "source": [
        "%pip install h5py"
      ],
      "metadata": {
        "id": "qWpfnXSPwvp8",
        "outputId": "b3f5eedf-ef7b-46ee-d849-0e38e7bca3bb",
        "colab": {
          "base_uri": "https://localhost:8080/"
        }
      },
      "execution_count": 1,
      "outputs": [
        {
          "output_type": "stream",
          "name": "stdout",
          "text": [
            "Requirement already satisfied: h5py in /Users/erickmbugua/miniforge3/envs/tf_m1/lib/python3.8/site-packages (2.10.0)\n",
            "Requirement already satisfied: six in /Users/erickmbugua/miniforge3/envs/tf_m1/lib/python3.8/site-packages (from h5py) (1.16.0)\n",
            "Requirement already satisfied: numpy>=1.7 in /Users/erickmbugua/miniforge3/envs/tf_m1/lib/python3.8/site-packages (from h5py) (1.21.0)\n",
            "\n",
            "\u001b[1m[\u001b[0m\u001b[34;49mnotice\u001b[0m\u001b[1;39;49m]\u001b[0m\u001b[39;49m A new release of pip is available: \u001b[0m\u001b[31;49m23.0\u001b[0m\u001b[39;49m -> \u001b[0m\u001b[32;49m23.0.1\u001b[0m\n",
            "\u001b[1m[\u001b[0m\u001b[34;49mnotice\u001b[0m\u001b[1;39;49m]\u001b[0m\u001b[39;49m To update, run: \u001b[0m\u001b[32;49mpip install --upgrade pip\u001b[0m\n",
            "Note: you may need to restart the kernel to use updated packages.\n"
          ]
        }
      ]
    },
    {
      "cell_type": "code",
      "execution_count": 2,
      "metadata": {
        "id": "t3LHjcE0wQ3E"
      },
      "outputs": [],
      "source": [
        "import torch\n",
        "import numpy as np\n",
        "import matplotlib.pyplot as plt\n",
        "from sklearn.datasets import load_digits\n",
        "from sklearn.model_selection import train_test_split\n",
        "from collections import defaultdict\n",
        "from torch.utils.data import Dataset\n",
        "from torchvision import datasets\n",
        "from torchvision.transforms import ToTensor\n",
        "import matplotlib.image as mpimg"
      ]
    },
    {
      "cell_type": "code",
      "source": [
        "class CNN(torch.nn.Module):\n",
        "    def __init__(self):\n",
        "        super(CNN, self).__init__()\n",
        "        #self.linear_layer_size = linear_layer_size\n",
        "\n",
        "        self.conv1 = torch.nn.Conv2d(3, 16, kernel_size=3)  # input: (96,96,3)\n",
        "        self.conv2 = torch.nn.Conv2d(32, 32, kernel_size=3) # input: (48,48,16)\n",
        "        self.conv3 = torch.nn.Conv2d(32, 64, kernel_size=3) # input: (24,24,32)\n",
        "        self.conv4 = torch.nn.Conv2d(32, 128, kernel_size=3) # input: (12, 12,64)\n",
        "        #self.linear = torch.nn.Linear(linear_layer_size, 10) # output: (6,6,128)\n",
        "\n",
        "    def forward(self, x):\n",
        "        batch_size = x.size(0)\n",
        "\n",
        "        relu = torch.nn.ReLU()\n",
        "        maxpool = torch.nn.MaxPool2d(stride=2,kernel_size=2)\n",
        "\n",
        "        x = self.conv1(x)\n",
        "        x = maxpool(relu(x))\n",
        "\n",
        "        x = self.conv2(x)\n",
        "        x = maxpool(relu(x))\n",
        "\n",
        "        x = self.conv3(x)\n",
        "        x = maxpool(relu(x))\n",
        "\n",
        "        x = self.conv4(x)\n",
        "        x = maxpool(relu(x))\n",
        "\n",
        "        # x = x.reshape(batch_size, self.linear_layer_size)\n",
        "        # x = self.linear(x)\n",
        "        return x"
      ],
      "metadata": {
        "id": "8-R4w92JwqBu"
      },
      "execution_count": 5,
      "outputs": []
    },
    {
      "cell_type": "code",
      "source": [
        "class FC(torch.nn.Module):\n",
        "    def __init__(self):\n",
        "          super(FC, self).__init__()\n",
        "          self.fc1 = torch.nn.Linear(6 * 6 * 128, 2)  # input: (6,6,128) # output 2 classes\n",
        "\n",
        "    def forward(self, x):\n",
        "        batch_size = x.size(0)\n",
        "        x = torch.flatten(x, 1)\n",
        "        x = self.fc1(x)\n",
        "        return x\n"
      ],
      "metadata": {
        "id": "HbD3k-0053vu"
      },
      "execution_count": null,
      "outputs": []
    },
    {
      "cell_type": "code",
      "source": [
        "class RNN(torch.nn.Module):\n",
        "    def __init__(self, ):\n",
        "        super(RNN, self).__init__()\n",
        "        self.input_size = 128\n",
        "        self.output_size = 2\n",
        "        self.hidden_size = 32\n",
        "        self.n_layers = 1\n",
        "        # batch_first means that the first dim of the input and output will be the batch_size\n",
        "        self.rnn = torch.nn.RNN(self.input_size, self.hidden_size, self.n_layers, batch_first=True)\n",
        "        # last, fully-connected layer\n",
        "        self.fc = torch.nn.Linear(self.hidden_dim, self.output_size)\n",
        "\n",
        "    def forward(self, x, hidden):\n",
        "        # x (batch_size, seq_length, input_size)\n",
        "        # hidden (n_layers, batch_size, hidden_dim)\n",
        "        # r_out (batch_size, time_step, hidden_size)\n",
        "        batch_size = x.size(0)\n",
        "        \n",
        "        # get RNN outputs\n",
        "        r_out, hidden = self.rnn(x, hidden)\n",
        "        # shape output to be (batch_size*seq_length, hidden_dim)\n",
        "        r_out = r_out.view(-1, self.hidden_size)\n",
        "        \n",
        "        # get final output \n",
        "        output = self.fc(r_out)\n",
        "        \n",
        "        return output, hidden"
      ],
      "metadata": {
        "id": "eSFpYhgG56Ao"
      },
      "execution_count": null,
      "outputs": []
    },
    {
      "cell_type": "code",
      "source": [
        "class LSTM(torch.nn.Module):\n",
        "    def __init__(self):\n",
        "        super(LSTM,self).__init__()\n",
        "        self.input_size = 128\n",
        "        self.output_size = 2\n",
        "        self.hidden_size = 32\n",
        "        self.n_layers = 1\n",
        "        self.lstm = torch.nn.LSTM(input_size=self.input_size,hidden_size=self.hidden_size,num_layers=self.n_layers,batch_first=True)\n",
        "        self.fc1 = torch.nn.Linear(in_features=5,out_features=self.output_size)\n",
        "\n",
        "    def forward(self,x):\n",
        "        output,_status = self.lstm(x)\n",
        "        output = output.view(-1, self.hidden_size)\n",
        "        output = self.fc1(torch.relu(output))\n",
        "        return output\n"
      ],
      "metadata": {
        "id": "dTm33ZQc_SsH"
      },
      "execution_count": null,
      "outputs": []
    },
    {
      "cell_type": "code",
      "source": [
        "train_data = []\n",
        "test_data = []\n",
        "\n",
        "cnn = CNN()\n",
        "train_vectors = cnn(train_data)\n",
        "test_vectors = cnn(test_data)"
      ],
      "metadata": {
        "id": "guCTCCol4mbs"
      },
      "execution_count": 6,
      "outputs": []
    },
    {
      "cell_type": "code",
      "source": [
        "from copy import deepcopy\n",
        "cnn_fc = CNN()\n",
        "fc = FC()"
      ],
      "metadata": {
        "id": "bag7rBaKDKEF"
      },
      "execution_count": null,
      "outputs": []
    },
    {
      "cell_type": "code",
      "source": [
        "def run_one_epoch(model1, model2, optimizer1, optimizer1, X, y, train=True):\n",
        "\n",
        "    if train:\n",
        "        model1.train()\n",
        "        model2.train()\n",
        "        optimizer.zero_grad()\n",
        "    else:\n",
        "        model.eval()\n",
        "\n",
        "    output = model(X).squeeze()\n",
        "    acc = torch.sum(torch.argmax(output, dim=1) == y) / y.size(0)\n",
        "    loss = torch.nn.BinaryCrossEntropyLoss()(output, y)\n",
        "\n",
        "    if train:\n",
        "        loss.backward()\n",
        "        optimizer.step()\n",
        "\n",
        "    # Detach tells torch to stop tracking a tensor's gradients\n",
        "    return acc.detach(), loss.detach()"
      ],
      "metadata": {
        "id": "t6qAmSrVELM9"
      },
      "execution_count": null,
      "outputs": []
    },
    {
      "cell_type": "code",
      "source": [
        "data_val = TensorDataset(valx.to(device), valy.to(device))\n",
        "dataloader_val = DataLoader(data_val, batch_size=params.batch_size)"
      ],
      "metadata": {
        "id": "Y-2hRLiyFIMN"
      },
      "execution_count": null,
      "outputs": []
    }
  ],
  "metadata": {
    "kernelspec": {
      "display_name": "tf_m1",
      "language": "python",
      "name": "python3"
    },
    "language_info": {
      "codemirror_mode": {
        "name": "ipython",
        "version": 3
      },
      "file_extension": ".py",
      "mimetype": "text/x-python",
      "name": "python",
      "nbconvert_exporter": "python",
      "pygments_lexer": "ipython3",
      "version": "3.8.10"
    },
    "orig_nbformat": 4,
    "vscode": {
      "interpreter": {
        "hash": "1c113ca73dcb788d262ff5c14dccc6d994c5d16184791d4e782c53cfe6cb089e"
      }
    },
    "colab": {
      "provenance": []
    }
  },
  "nbformat": 4,
  "nbformat_minor": 0
}