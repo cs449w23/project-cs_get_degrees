{
  "cells": [
    {
      "cell_type": "code",
      "source": [
        "%pip install h5py"
      ],
      "metadata": {
        "id": "qWpfnXSPwvp8",
        "outputId": "b29f768c-61d1-445f-b249-2af2fe58769f",
        "colab": {
          "base_uri": "https://localhost:8080/"
        }
      },
      "execution_count": null,
      "outputs": [
        {
          "output_type": "stream",
          "name": "stdout",
          "text": [
            "Looking in indexes: https://pypi.org/simple, https://us-python.pkg.dev/colab-wheels/public/simple/\n",
            "Requirement already satisfied: h5py in /usr/local/lib/python3.8/dist-packages (3.1.0)\n",
            "Requirement already satisfied: numpy>=1.17.5 in /usr/local/lib/python3.8/dist-packages (from h5py) (1.22.4)\n"
          ]
        }
      ]
    },
    {
      "cell_type": "code",
      "source": [
        "from google.colab import drive\n",
        "drive.mount('/content/drive')"
      ],
      "metadata": {
        "colab": {
          "base_uri": "https://localhost:8080/",
          "height": 324
        },
        "id": "fFsSZti7NA9j",
        "outputId": "015505d1-6e66-4cc8-d848-66675e683932"
      },
      "execution_count": 15,
      "outputs": [
        {
          "output_type": "error",
          "ename": "MessageError",
          "evalue": "ignored",
          "traceback": [
            "\u001b[0;31m---------------------------------------------------------------------------\u001b[0m",
            "\u001b[0;31mMessageError\u001b[0m                              Traceback (most recent call last)",
            "\u001b[0;32m<ipython-input-15-d5df0069828e>\u001b[0m in \u001b[0;36m<module>\u001b[0;34m\u001b[0m\n\u001b[1;32m      1\u001b[0m \u001b[0;32mfrom\u001b[0m \u001b[0mgoogle\u001b[0m\u001b[0;34m.\u001b[0m\u001b[0mcolab\u001b[0m \u001b[0;32mimport\u001b[0m \u001b[0mdrive\u001b[0m\u001b[0;34m\u001b[0m\u001b[0;34m\u001b[0m\u001b[0m\n\u001b[0;32m----> 2\u001b[0;31m \u001b[0mdrive\u001b[0m\u001b[0;34m.\u001b[0m\u001b[0mmount\u001b[0m\u001b[0;34m(\u001b[0m\u001b[0;34m'/content/drive'\u001b[0m\u001b[0;34m)\u001b[0m\u001b[0;34m\u001b[0m\u001b[0;34m\u001b[0m\u001b[0m\n\u001b[0m",
            "\u001b[0;32m/usr/local/lib/python3.8/dist-packages/google/colab/drive.py\u001b[0m in \u001b[0;36mmount\u001b[0;34m(mountpoint, force_remount, timeout_ms, readonly)\u001b[0m\n\u001b[1;32m     98\u001b[0m \u001b[0;32mdef\u001b[0m \u001b[0mmount\u001b[0m\u001b[0;34m(\u001b[0m\u001b[0mmountpoint\u001b[0m\u001b[0;34m,\u001b[0m \u001b[0mforce_remount\u001b[0m\u001b[0;34m=\u001b[0m\u001b[0;32mFalse\u001b[0m\u001b[0;34m,\u001b[0m \u001b[0mtimeout_ms\u001b[0m\u001b[0;34m=\u001b[0m\u001b[0;36m120000\u001b[0m\u001b[0;34m,\u001b[0m \u001b[0mreadonly\u001b[0m\u001b[0;34m=\u001b[0m\u001b[0;32mFalse\u001b[0m\u001b[0;34m)\u001b[0m\u001b[0;34m:\u001b[0m\u001b[0;34m\u001b[0m\u001b[0;34m\u001b[0m\u001b[0m\n\u001b[1;32m     99\u001b[0m   \u001b[0;34m\"\"\"Mount your Google Drive at the specified mountpoint path.\"\"\"\u001b[0m\u001b[0;34m\u001b[0m\u001b[0;34m\u001b[0m\u001b[0m\n\u001b[0;32m--> 100\u001b[0;31m   return _mount(\n\u001b[0m\u001b[1;32m    101\u001b[0m       \u001b[0mmountpoint\u001b[0m\u001b[0;34m,\u001b[0m\u001b[0;34m\u001b[0m\u001b[0;34m\u001b[0m\u001b[0m\n\u001b[1;32m    102\u001b[0m       \u001b[0mforce_remount\u001b[0m\u001b[0;34m=\u001b[0m\u001b[0mforce_remount\u001b[0m\u001b[0;34m,\u001b[0m\u001b[0;34m\u001b[0m\u001b[0;34m\u001b[0m\u001b[0m\n",
            "\u001b[0;32m/usr/local/lib/python3.8/dist-packages/google/colab/drive.py\u001b[0m in \u001b[0;36m_mount\u001b[0;34m(mountpoint, force_remount, timeout_ms, ephemeral, readonly)\u001b[0m\n\u001b[1;32m    121\u001b[0m       'TBE_EPHEM_CREDS_ADDR'] if ephemeral else _os.environ['TBE_CREDS_ADDR']\n\u001b[1;32m    122\u001b[0m   \u001b[0;32mif\u001b[0m \u001b[0mephemeral\u001b[0m\u001b[0;34m:\u001b[0m\u001b[0;34m\u001b[0m\u001b[0;34m\u001b[0m\u001b[0m\n\u001b[0;32m--> 123\u001b[0;31m     _message.blocking_request(\n\u001b[0m\u001b[1;32m    124\u001b[0m         'request_auth', request={'authType': 'dfs_ephemeral'}, timeout_sec=None)\n\u001b[1;32m    125\u001b[0m \u001b[0;34m\u001b[0m\u001b[0m\n",
            "\u001b[0;32m/usr/local/lib/python3.8/dist-packages/google/colab/_message.py\u001b[0m in \u001b[0;36mblocking_request\u001b[0;34m(request_type, request, timeout_sec, parent)\u001b[0m\n\u001b[1;32m    169\u001b[0m   request_id = send_request(\n\u001b[1;32m    170\u001b[0m       request_type, request, parent=parent, expect_reply=True)\n\u001b[0;32m--> 171\u001b[0;31m   \u001b[0;32mreturn\u001b[0m \u001b[0mread_reply_from_input\u001b[0m\u001b[0;34m(\u001b[0m\u001b[0mrequest_id\u001b[0m\u001b[0;34m,\u001b[0m \u001b[0mtimeout_sec\u001b[0m\u001b[0;34m)\u001b[0m\u001b[0;34m\u001b[0m\u001b[0;34m\u001b[0m\u001b[0m\n\u001b[0m",
            "\u001b[0;32m/usr/local/lib/python3.8/dist-packages/google/colab/_message.py\u001b[0m in \u001b[0;36mread_reply_from_input\u001b[0;34m(message_id, timeout_sec)\u001b[0m\n\u001b[1;32m    100\u001b[0m         reply.get('colab_msg_id') == message_id):\n\u001b[1;32m    101\u001b[0m       \u001b[0;32mif\u001b[0m \u001b[0;34m'error'\u001b[0m \u001b[0;32min\u001b[0m \u001b[0mreply\u001b[0m\u001b[0;34m:\u001b[0m\u001b[0;34m\u001b[0m\u001b[0;34m\u001b[0m\u001b[0m\n\u001b[0;32m--> 102\u001b[0;31m         \u001b[0;32mraise\u001b[0m \u001b[0mMessageError\u001b[0m\u001b[0;34m(\u001b[0m\u001b[0mreply\u001b[0m\u001b[0;34m[\u001b[0m\u001b[0;34m'error'\u001b[0m\u001b[0;34m]\u001b[0m\u001b[0;34m)\u001b[0m\u001b[0;34m\u001b[0m\u001b[0;34m\u001b[0m\u001b[0m\n\u001b[0m\u001b[1;32m    103\u001b[0m       \u001b[0;32mreturn\u001b[0m \u001b[0mreply\u001b[0m\u001b[0;34m.\u001b[0m\u001b[0mget\u001b[0m\u001b[0;34m(\u001b[0m\u001b[0;34m'data'\u001b[0m\u001b[0;34m,\u001b[0m \u001b[0;32mNone\u001b[0m\u001b[0;34m)\u001b[0m\u001b[0;34m\u001b[0m\u001b[0;34m\u001b[0m\u001b[0m\n\u001b[1;32m    104\u001b[0m \u001b[0;34m\u001b[0m\u001b[0m\n",
            "\u001b[0;31mMessageError\u001b[0m: Error: credential propagation was unsuccessful"
          ]
        }
      ]
    },
    {
      "cell_type": "code",
      "execution_count": 7,
      "metadata": {
        "id": "t3LHjcE0wQ3E"
      },
      "outputs": [],
      "source": [
        "import torch\n",
        "import numpy as np\n",
        "import matplotlib.pyplot as plt\n",
        "from sklearn.datasets import load_digits\n",
        "from sklearn.model_selection import train_test_split\n",
        "from collections import defaultdict\n",
        "from torch.utils.data import Dataset\n",
        "from torchvision import datasets\n",
        "from torchvision.transforms import ToTensor\n",
        "import matplotlib.image as mpimg\n",
        "from torch.utils.data import DataLoader"
      ]
    },
    {
      "cell_type": "code",
      "source": [
        "class CNN(torch.nn.Module):\n",
        "    def __init__(self):\n",
        "        super(CNN, self).__init__()\n",
        "        #self.linear_layer_size = linear_layer_size\n",
        "\n",
        "        self.conv1 = torch.nn.Conv2d(3, 16, kernel_size=3)  # input: torch.Size([64, 3, 96, 96])\n",
        "        self.conv2 = torch.nn.Conv2d(16, 32, kernel_size=3) # input: torch.Size([64, 16, 47, 47])\n",
        "        self.conv3 = torch.nn.Conv2d(32, 64, kernel_size=3) # input: torch.Size([64, 32, 22, 22])\n",
        "        self.conv4 = torch.nn.Conv2d(64, 128, kernel_size=3) # input: torch.Size([64, 64, 10, 10])\n",
        "        # output: torch.Size([64, 128, 4, 4])\n",
        "        \n",
        "\n",
        "    def forward(self, x):\n",
        "        #print(x.shape)\n",
        "        batch_size = x.size(0)\n",
        "\n",
        "        relu = torch.nn.ReLU()\n",
        "        maxpool = torch.nn.MaxPool2d(stride=2,kernel_size=2)\n",
        "\n",
        "        x = self.conv1(x)\n",
        "        x = maxpool(relu(x))\n",
        "        #print(x.shape)\n",
        "        x = self.conv2(x)\n",
        "        x = maxpool(relu(x))\n",
        "        #print(x.shape)\n",
        "        x = self.conv3(x)\n",
        "        x = maxpool(relu(x))\n",
        "        #print(x.shape)\n",
        "        x = self.conv4(x)\n",
        "        x = maxpool(relu(x))\n",
        "        #print(x.shape)\n",
        "        # x = x.reshape(batch_size, self.linear_layer_size)\n",
        "        # x = self.linear(x)\n",
        "        return x"
      ],
      "metadata": {
        "id": "8-R4w92JwqBu"
      },
      "execution_count": 8,
      "outputs": []
    },
    {
      "cell_type": "code",
      "source": [
        "class FC(torch.nn.Module):\n",
        "    def __init__(self):\n",
        "          super(FC, self).__init__()\n",
        "          self.fc1 = torch.nn.Linear(4 * 4 * 128, 1)  # input: (6,6,128) # output 2 classes\n",
        "          self.actv = torch.nn.Sigmoid()\n",
        "    def forward(self, x):\n",
        "        #print(x.shape)\n",
        "        batch_size = x.size(0)\n",
        "        x = torch.flatten(x, 1)\n",
        "        #print(x.shape)\n",
        "        x = self.fc1(x)\n",
        "        x = self.actv(x)\n",
        "        return x\n"
      ],
      "metadata": {
        "id": "HbD3k-0053vu"
      },
      "execution_count": 9,
      "outputs": []
    },
    {
      "cell_type": "code",
      "source": [
        "class RNN(torch.nn.Module):\n",
        "    def __init__(self, ):\n",
        "        super(RNN, self).__init__()\n",
        "        self.input_size = 128\n",
        "        self.output_size = 2\n",
        "        self.hidden_size = 32\n",
        "        self.n_layers = 1\n",
        "        # batch_first means that the first dim of the input and output will be the batch_size\n",
        "        self.rnn = torch.nn.RNN(self.input_size, self.hidden_size, self.n_layers, batch_first=True)\n",
        "        # last, fully-connected layer\n",
        "        self.fc = torch.nn.Linear(self.hidden_dim, self.output_size)\n",
        "\n",
        "    def forward(self, x, hidden):\n",
        "        # x (batch_size, seq_length, input_size)\n",
        "        # hidden (n_layers, batch_size, hidden_dim)\n",
        "        # r_out (batch_size, time_step, hidden_size)\n",
        "        batch_size = x.size(0)\n",
        "        \n",
        "        # get RNN outputs\n",
        "        r_out, hidden = self.rnn(x, hidden)\n",
        "        # shape output to be (batch_size*seq_length, hidden_dim)\n",
        "        r_out = r_out.view(-1, self.hidden_size)\n",
        "        \n",
        "        # get final output \n",
        "        output = self.fc(r_out)\n",
        "        \n",
        "        return output, hidden\n",
        "        \n",
        "    def initHidden(self):\n",
        "        return torch.zeros(1, self.hidden_size)"
      ],
      "metadata": {
        "id": "eSFpYhgG56Ao"
      },
      "execution_count": 10,
      "outputs": []
    },
    {
      "cell_type": "code",
      "source": [
        "class LSTM(torch.nn.Module):\n",
        "    def __init__(self):\n",
        "        super(LSTM,self).__init__()\n",
        "        self.input_size = 128\n",
        "        self.output_size = 2\n",
        "        self.hidden_size = 32\n",
        "        self.n_layers = 1\n",
        "        self.lstm = torch.nn.LSTM(input_size=self.input_size,hidden_size=self.hidden_size,num_layers=self.n_layers,batch_first=True)\n",
        "        self.fc1 = torch.nn.Linear(in_features=5,out_features=self.output_size)\n",
        "\n",
        "    def forward(self,x):\n",
        "        output,_status = self.lstm(x)\n",
        "        output = output.view(-1, self.hidden_size)\n",
        "        output = self.fc1(torch.relu(output))\n",
        "        return output\n",
        "\n",
        "    def initHidden(self):\n",
        "        return torch.zeros(1, self.hidden_size)\n"
      ],
      "metadata": {
        "id": "dTm33ZQc_SsH"
      },
      "execution_count": 11,
      "outputs": []
    },
    {
      "cell_type": "code",
      "source": [
        "device = torch.device('cuda:0' if torch.cuda.is_available() else 'cpu')\n",
        "device"
      ],
      "metadata": {
        "colab": {
          "base_uri": "https://localhost:8080/"
        },
        "id": "Nyn18xvGdh_f",
        "outputId": "428f97c1-6869-40db-d93c-35901942b611"
      },
      "execution_count": 12,
      "outputs": [
        {
          "output_type": "execute_result",
          "data": {
            "text/plain": [
              "device(type='cuda', index=0)"
            ]
          },
          "metadata": {},
          "execution_count": 12
        }
      ]
    },
    {
      "cell_type": "code",
      "source": [
        "train_data = datasets.PCAM(\n",
        "    root=\"/content/drive/MyDrive/CS449\",\n",
        "    split=\"train\",\n",
        "    download=False,\n",
        "    transform=ToTensor()\n",
        ")"
      ],
      "metadata": {
        "id": "rn2FZbKYNngh",
        "outputId": "5441b9ec-f419-44fb-9e48-5ead0ed105b2",
        "colab": {
          "base_uri": "https://localhost:8080/",
          "height": 368
        }
      },
      "execution_count": 13,
      "outputs": [
        {
          "output_type": "error",
          "ename": "RuntimeError",
          "evalue": "ignored",
          "traceback": [
            "\u001b[0;31m---------------------------------------------------------------------------\u001b[0m",
            "\u001b[0;31mRuntimeError\u001b[0m                              Traceback (most recent call last)",
            "\u001b[0;32m<ipython-input-13-4b1a0739cf61>\u001b[0m in \u001b[0;36m<module>\u001b[0;34m\u001b[0m\n\u001b[0;32m----> 1\u001b[0;31m train_data = datasets.PCAM(\n\u001b[0m\u001b[1;32m      2\u001b[0m     \u001b[0mroot\u001b[0m\u001b[0;34m=\u001b[0m\u001b[0;34m\"/content/drive/MyDrive/CS449\"\u001b[0m\u001b[0;34m,\u001b[0m\u001b[0;34m\u001b[0m\u001b[0;34m\u001b[0m\u001b[0m\n\u001b[1;32m      3\u001b[0m     \u001b[0msplit\u001b[0m\u001b[0;34m=\u001b[0m\u001b[0;34m\"train\"\u001b[0m\u001b[0;34m,\u001b[0m\u001b[0;34m\u001b[0m\u001b[0;34m\u001b[0m\u001b[0m\n\u001b[1;32m      4\u001b[0m     \u001b[0mdownload\u001b[0m\u001b[0;34m=\u001b[0m\u001b[0;32mFalse\u001b[0m\u001b[0;34m,\u001b[0m\u001b[0;34m\u001b[0m\u001b[0;34m\u001b[0m\u001b[0m\n\u001b[1;32m      5\u001b[0m     \u001b[0mtransform\u001b[0m\u001b[0;34m=\u001b[0m\u001b[0mToTensor\u001b[0m\u001b[0;34m(\u001b[0m\u001b[0;34m)\u001b[0m\u001b[0;34m\u001b[0m\u001b[0;34m\u001b[0m\u001b[0m\n",
            "\u001b[0;32m/usr/local/lib/python3.8/dist-packages/torchvision/datasets/pcam.py\u001b[0m in \u001b[0;36m__init__\u001b[0;34m(self, root, split, transform, target_transform, download)\u001b[0m\n\u001b[1;32m     93\u001b[0m \u001b[0;34m\u001b[0m\u001b[0m\n\u001b[1;32m     94\u001b[0m         \u001b[0;32mif\u001b[0m \u001b[0;32mnot\u001b[0m \u001b[0mself\u001b[0m\u001b[0;34m.\u001b[0m\u001b[0m_check_exists\u001b[0m\u001b[0;34m(\u001b[0m\u001b[0;34m)\u001b[0m\u001b[0;34m:\u001b[0m\u001b[0;34m\u001b[0m\u001b[0;34m\u001b[0m\u001b[0m\n\u001b[0;32m---> 95\u001b[0;31m             \u001b[0;32mraise\u001b[0m \u001b[0mRuntimeError\u001b[0m\u001b[0;34m(\u001b[0m\u001b[0;34m\"Dataset not found. You can use download=True to download it\"\u001b[0m\u001b[0;34m)\u001b[0m\u001b[0;34m\u001b[0m\u001b[0;34m\u001b[0m\u001b[0m\n\u001b[0m\u001b[1;32m     96\u001b[0m \u001b[0;34m\u001b[0m\u001b[0m\n\u001b[1;32m     97\u001b[0m     \u001b[0;32mdef\u001b[0m \u001b[0m__len__\u001b[0m\u001b[0;34m(\u001b[0m\u001b[0mself\u001b[0m\u001b[0;34m)\u001b[0m \u001b[0;34m->\u001b[0m \u001b[0mint\u001b[0m\u001b[0;34m:\u001b[0m\u001b[0;34m\u001b[0m\u001b[0;34m\u001b[0m\u001b[0m\n",
            "\u001b[0;31mRuntimeError\u001b[0m: Dataset not found. You can use download=True to download it"
          ]
        }
      ]
    },
    {
      "cell_type": "code",
      "source": [
        "val_data = datasets.PCAM(\n",
        "    root=\"/content/drive/MyDrive/CS449\",\n",
        "    split=\"val\",\n",
        "    download=False,\n",
        "    transform=ToTensor()\n",
        ")"
      ],
      "metadata": {
        "id": "xVr4JlCR8r4_"
      },
      "execution_count": null,
      "outputs": []
    },
    {
      "cell_type": "code",
      "source": [
        "train_data_small = []\n",
        "for i in range(20000):\n",
        "  print(i)\n",
        "  train_data_small.append(train_data[i])"
      ],
      "metadata": {
        "id": "SrfDDq7MTwEr"
      },
      "execution_count": null,
      "outputs": []
    },
    {
      "cell_type": "code",
      "source": [
        "train_dataloader = DataLoader(train_data_small, batch_size=32, shuffle=True)"
      ],
      "metadata": {
        "id": "GTIxHASDOa6H"
      },
      "execution_count": null,
      "outputs": []
    },
    {
      "cell_type": "code",
      "source": [
        "val_data_small = []\n",
        "for i in range(5000):\n",
        "  val_data_small.append(val_data[i])"
      ],
      "metadata": {
        "id": "0Hync1qwsLES"
      },
      "execution_count": null,
      "outputs": []
    },
    {
      "cell_type": "code",
      "source": [
        "def run_one_epoch_cnn_fc(epoch_idx, model1, model2, optimizer, train_dataloader, val_dataloader, train=True):\n",
        "    model1.train()\n",
        "    model2.train()\n",
        "    # loop through the entire dataset once per epoch\n",
        "    train_loss = 0.0\n",
        "    train_acc = 0.0\n",
        "    train_total = 0\n",
        "    for batch_idx, (images, labels) in enumerate(train_dataloader):\n",
        "        optimizer.zero_grad()\n",
        "        images = images.to(device)\n",
        "        labels = labels.to(device)\n",
        "        model1_output = model1(images)\n",
        "        #print(\"hi\")\n",
        "        predictions = model2(model1_output).squeeze()\n",
        "        acc_sum = 0\n",
        "        for i, pred in enumerate(predictions):\n",
        "\n",
        "          if round(pred.item()) == labels[i]:\n",
        "            acc_sum += 1\n",
        "        acc = acc_sum / labels.size(0)\n",
        "        # acc = torch.sum(predictions == labels) / labels.size(0)\n",
        "        loss = torch.nn.BCELoss()(predictions, labels.float())\n",
        "        loss.backward()\n",
        "        optimizer.step()\n",
        "\n",
        "    # update statistics\n",
        "        train_loss += (loss * len(images))\n",
        "        train_acc += (acc * len(labels))\n",
        "        train_total += len(labels)\n",
        "    \n",
        "    train_loss /= train_total\n",
        "    train_acc /= train_total\n",
        "\n",
        "    # model1.eval()\n",
        "    # model2.eval()\n",
        "    val_loss = 0\n",
        "    val_acc = 0\n",
        "    val_total = 0\n",
        "    with torch.no_grad():\n",
        "      for batch_idx, (images, labels) in enumerate(val_dataloader):\n",
        "          images = images.to(device)\n",
        "          labels = labels.to(device)\n",
        "          model1_output = model1(images)\n",
        "          predictions = model2(model1_output).squeeze()\n",
        "          acc_sum = 0\n",
        "          for i, pred in enumerate(predictions):\n",
        "            if round(pred.item()) == labels[i]:\n",
        "              acc_sum += 1\n",
        "          acc = acc_sum / labels.size(0)\n",
        "          # acc = torch.sum(predictions == labels) / labels.size(0)\n",
        "          loss = torch.nn.BCELoss()(predictions, labels.float())\n",
        "\n",
        "          # update statistics\n",
        "          val_loss += (loss * len(images))\n",
        "          val_acc += (acc * len(labels))\n",
        "          val_total += len(labels)\n",
        "\n",
        "      val_loss /= val_total\n",
        "      val_acc /= val_total\n",
        "\n",
        "    print(f\"Epoch {epoch_idx + 1}:  val loss {val_loss :0.3f}, val acc {val_acc :0.3f}, train loss {train_loss :0.3f}, train acc {train_acc :0.3f}\")\n",
        "\n",
        "    # Detach tells torch to stop tracking a tensor's gradients\n",
        "    return train_acc, train_loss.detach(), val_acc,val_loss.detach()"
      ],
      "metadata": {
        "id": "t6qAmSrVELM9"
      },
      "execution_count": null,
      "outputs": []
    },
    {
      "cell_type": "code",
      "source": [
        "val_dataloader = DataLoader(val_data_small, batch_size=32, shuffle=True)"
      ],
      "metadata": {
        "id": "QXewr6IPsdaq"
      },
      "execution_count": null,
      "outputs": []
    },
    {
      "cell_type": "code",
      "source": [
        "cnn_fc = CNN()\n",
        "cnn_fc.to(device)\n",
        "fc = FC()\n",
        "fc.to(device)"
      ],
      "metadata": {
        "id": "bag7rBaKDKEF",
        "colab": {
          "base_uri": "https://localhost:8080/"
        },
        "outputId": "24fac20f-fd64-44c9-8f84-a9f4a1b82b99"
      },
      "execution_count": null,
      "outputs": [
        {
          "output_type": "execute_result",
          "data": {
            "text/plain": [
              "FC(\n",
              "  (fc1): Linear(in_features=2048, out_features=1, bias=True)\n",
              "  (actv): Sigmoid()\n",
              ")"
            ]
          },
          "metadata": {},
          "execution_count": 85
        }
      ]
    },
    {
      "cell_type": "code",
      "source": [
        "epochs = 50\n",
        "lr = 1e-3\n",
        "\n",
        "train_accs = []\n",
        "train_losses = []\n",
        "val_accs = []\n",
        "val_losses = []\n",
        "opt = torch.optim.Adam([{\"params\": cnn_fc.parameters()},{\"params\":fc.parameters()}], lr=lr)\n",
        "for epoch in range(epochs):\n",
        "  train_acc, train_loss, val_acc, val_loss = run_one_epoch(epoch, cnn_fc, fc, opt, train_dataloader, val_dataloader)\n",
        "  train_accs.append(train_acc)\n",
        "  train_losses.append(train_loss)\n",
        "  val_accs.append(val_acc)\n",
        "  val_losses.append(val_loss)\n",
        "print(train_accs)\n",
        "print(train_losses)\n",
        "print(val_accs)\n",
        "print(val_losses)"
      ],
      "metadata": {
        "colab": {
          "base_uri": "https://localhost:8080/"
        },
        "id": "uVcec7hSZ67k",
        "outputId": "1ca355fa-49e8-4687-a9b9-633cf7798a4c"
      },
      "execution_count": null,
      "outputs": [
        {
          "output_type": "stream",
          "name": "stdout",
          "text": [
            "Epoch 1:  val loss 0.468, val acc 0.784, train loss 0.508, train acc 0.750\n",
            "Epoch 2:  val loss 0.513, val acc 0.746, train loss 0.456, train acc 0.793\n",
            "Epoch 3:  val loss 0.437, val acc 0.810, train loss 0.431, train acc 0.808\n",
            "Epoch 4:  val loss 0.505, val acc 0.753, train loss 0.415, train acc 0.816\n",
            "Epoch 5:  val loss 0.449, val acc 0.792, train loss 0.402, train acc 0.826\n",
            "Epoch 6:  val loss 0.452, val acc 0.776, train loss 0.380, train acc 0.835\n",
            "Epoch 7:  val loss 0.444, val acc 0.786, train loss 0.362, train acc 0.843\n",
            "Epoch 8:  val loss 0.518, val acc 0.758, train loss 0.344, train acc 0.852\n",
            "Epoch 9:  val loss 0.446, val acc 0.804, train loss 0.319, train acc 0.866\n",
            "Epoch 10:  val loss 0.423, val acc 0.806, train loss 0.302, train acc 0.872\n",
            "Epoch 11:  val loss 0.424, val acc 0.805, train loss 0.284, train acc 0.882\n",
            "Epoch 12:  val loss 0.458, val acc 0.806, train loss 0.263, train acc 0.892\n",
            "Epoch 13:  val loss 0.497, val acc 0.784, train loss 0.239, train acc 0.903\n",
            "Epoch 14:  val loss 0.539, val acc 0.795, train loss 0.219, train acc 0.913\n",
            "Epoch 15:  val loss 0.534, val acc 0.818, train loss 0.194, train acc 0.924\n",
            "Epoch 16:  val loss 0.592, val acc 0.788, train loss 0.168, train acc 0.937\n",
            "Epoch 17:  val loss 0.653, val acc 0.785, train loss 0.144, train acc 0.946\n",
            "Epoch 18:  val loss 0.714, val acc 0.783, train loss 0.119, train acc 0.958\n",
            "Epoch 19:  val loss 0.789, val acc 0.781, train loss 0.103, train acc 0.964\n",
            "Epoch 20:  val loss 0.899, val acc 0.778, train loss 0.078, train acc 0.974\n",
            "Epoch 21:  val loss 0.905, val acc 0.786, train loss 0.066, train acc 0.978\n",
            "Epoch 22:  val loss 1.025, val acc 0.789, train loss 0.049, train acc 0.985\n",
            "Epoch 23:  val loss 1.014, val acc 0.776, train loss 0.057, train acc 0.980\n",
            "Epoch 24:  val loss 1.212, val acc 0.770, train loss 0.035, train acc 0.989\n",
            "Epoch 25:  val loss 1.352, val acc 0.763, train loss 0.033, train acc 0.990\n",
            "Epoch 26:  val loss 1.357, val acc 0.797, train loss 0.047, train acc 0.984\n",
            "Epoch 27:  val loss 1.368, val acc 0.772, train loss 0.039, train acc 0.987\n",
            "Epoch 28:  val loss 1.485, val acc 0.767, train loss 0.025, train acc 0.992\n",
            "Epoch 29:  val loss 1.527, val acc 0.775, train loss 0.042, train acc 0.986\n",
            "Epoch 30:  val loss 1.500, val acc 0.782, train loss 0.033, train acc 0.988\n",
            "Epoch 31:  val loss 1.688, val acc 0.783, train loss 0.024, train acc 0.993\n",
            "Epoch 32:  val loss 1.620, val acc 0.779, train loss 0.013, train acc 0.996\n",
            "Epoch 33:  val loss 1.721, val acc 0.779, train loss 0.032, train acc 0.989\n",
            "Epoch 34:  val loss 1.958, val acc 0.768, train loss 0.030, train acc 0.990\n",
            "Epoch 35:  val loss 1.894, val acc 0.775, train loss 0.025, train acc 0.991\n",
            "Epoch 36:  val loss 1.825, val acc 0.788, train loss 0.041, train acc 0.986\n",
            "Epoch 37:  val loss 1.771, val acc 0.777, train loss 0.027, train acc 0.991\n",
            "Epoch 38:  val loss 2.189, val acc 0.771, train loss 0.016, train acc 0.995\n",
            "Epoch 39:  val loss 2.361, val acc 0.788, train loss 0.006, train acc 0.998\n",
            "Epoch 40:  val loss 2.002, val acc 0.775, train loss 0.038, train acc 0.988\n",
            "Epoch 41:  val loss 2.385, val acc 0.783, train loss 0.025, train acc 0.991\n",
            "Epoch 42:  val loss 1.994, val acc 0.762, train loss 0.025, train acc 0.992\n",
            "Epoch 43:  val loss 2.230, val acc 0.783, train loss 0.015, train acc 0.995\n",
            "Epoch 44:  val loss 2.724, val acc 0.735, train loss 0.024, train acc 0.992\n",
            "Epoch 45:  val loss 2.272, val acc 0.786, train loss 0.032, train acc 0.988\n",
            "Epoch 46:  val loss 2.230, val acc 0.777, train loss 0.024, train acc 0.992\n",
            "Epoch 47:  val loss 2.450, val acc 0.771, train loss 0.032, train acc 0.990\n",
            "Epoch 48:  val loss 2.652, val acc 0.789, train loss 0.015, train acc 0.995\n",
            "Epoch 49:  val loss 2.613, val acc 0.776, train loss 0.025, train acc 0.992\n",
            "Epoch 50:  val loss 2.515, val acc 0.784, train loss 0.042, train acc 0.986\n",
            "[0.74955, 0.79325, 0.8085, 0.8161, 0.8257, 0.8349, 0.8433, 0.85205, 0.86625, 0.8723, 0.8819, 0.8916, 0.9027, 0.9127, 0.92425, 0.9368, 0.94635, 0.95775, 0.9635, 0.9742, 0.9777, 0.98455, 0.98045, 0.9893, 0.98975, 0.984, 0.98715, 0.9919, 0.9858, 0.9879, 0.99295, 0.99625, 0.9886, 0.9897, 0.991, 0.9857, 0.99055, 0.9949, 0.9984, 0.9877, 0.9906, 0.9917, 0.99485, 0.9919, 0.98835, 0.9915, 0.98965, 0.99525, 0.99155, 0.98605]\n",
            "[tensor(0.5083, device='cuda:0'), tensor(0.4556, device='cuda:0'), tensor(0.4308, device='cuda:0'), tensor(0.4148, device='cuda:0'), tensor(0.4016, device='cuda:0'), tensor(0.3797, device='cuda:0'), tensor(0.3623, device='cuda:0'), tensor(0.3443, device='cuda:0'), tensor(0.3192, device='cuda:0'), tensor(0.3022, device='cuda:0'), tensor(0.2844, device='cuda:0'), tensor(0.2627, device='cuda:0'), tensor(0.2392, device='cuda:0'), tensor(0.2194, device='cuda:0'), tensor(0.1936, device='cuda:0'), tensor(0.1682, device='cuda:0'), tensor(0.1436, device='cuda:0'), tensor(0.1189, device='cuda:0'), tensor(0.1029, device='cuda:0'), tensor(0.0780, device='cuda:0'), tensor(0.0660, device='cuda:0'), tensor(0.0493, device='cuda:0'), tensor(0.0568, device='cuda:0'), tensor(0.0352, device='cuda:0'), tensor(0.0334, device='cuda:0'), tensor(0.0472, device='cuda:0'), tensor(0.0388, device='cuda:0'), tensor(0.0255, device='cuda:0'), tensor(0.0423, device='cuda:0'), tensor(0.0332, device='cuda:0'), tensor(0.0235, device='cuda:0'), tensor(0.0132, device='cuda:0'), tensor(0.0321, device='cuda:0'), tensor(0.0301, device='cuda:0'), tensor(0.0253, device='cuda:0'), tensor(0.0411, device='cuda:0'), tensor(0.0271, device='cuda:0'), tensor(0.0157, device='cuda:0'), tensor(0.0063, device='cuda:0'), tensor(0.0380, device='cuda:0'), tensor(0.0253, device='cuda:0'), tensor(0.0249, device='cuda:0'), tensor(0.0149, device='cuda:0'), tensor(0.0244, device='cuda:0'), tensor(0.0323, device='cuda:0'), tensor(0.0238, device='cuda:0'), tensor(0.0322, device='cuda:0'), tensor(0.0154, device='cuda:0'), tensor(0.0247, device='cuda:0'), tensor(0.0423, device='cuda:0')]\n",
            "[0.784, 0.7462, 0.8098, 0.7532, 0.7918, 0.776, 0.7858, 0.7584, 0.804, 0.8062, 0.8052, 0.8062, 0.7836, 0.7948, 0.8178, 0.7882, 0.7854, 0.7826, 0.7814, 0.7778, 0.786, 0.7888, 0.7762, 0.7702, 0.7634, 0.7966, 0.772, 0.7666, 0.7752, 0.7822, 0.7828, 0.7794, 0.7786, 0.7678, 0.7754, 0.788, 0.7768, 0.7708, 0.788, 0.7754, 0.7826, 0.7618, 0.7826, 0.735, 0.7862, 0.7768, 0.7706, 0.789, 0.7758, 0.7842]\n",
            "[tensor(0.4680, device='cuda:0'), tensor(0.5126, device='cuda:0'), tensor(0.4367, device='cuda:0'), tensor(0.5049, device='cuda:0'), tensor(0.4489, device='cuda:0'), tensor(0.4523, device='cuda:0'), tensor(0.4442, device='cuda:0'), tensor(0.5179, device='cuda:0'), tensor(0.4459, device='cuda:0'), tensor(0.4229, device='cuda:0'), tensor(0.4243, device='cuda:0'), tensor(0.4577, device='cuda:0'), tensor(0.4973, device='cuda:0'), tensor(0.5388, device='cuda:0'), tensor(0.5338, device='cuda:0'), tensor(0.5916, device='cuda:0'), tensor(0.6533, device='cuda:0'), tensor(0.7139, device='cuda:0'), tensor(0.7891, device='cuda:0'), tensor(0.8993, device='cuda:0'), tensor(0.9054, device='cuda:0'), tensor(1.0253, device='cuda:0'), tensor(1.0145, device='cuda:0'), tensor(1.2124, device='cuda:0'), tensor(1.3519, device='cuda:0'), tensor(1.3569, device='cuda:0'), tensor(1.3680, device='cuda:0'), tensor(1.4851, device='cuda:0'), tensor(1.5272, device='cuda:0'), tensor(1.4998, device='cuda:0'), tensor(1.6884, device='cuda:0'), tensor(1.6203, device='cuda:0'), tensor(1.7207, device='cuda:0'), tensor(1.9576, device='cuda:0'), tensor(1.8937, device='cuda:0'), tensor(1.8255, device='cuda:0'), tensor(1.7708, device='cuda:0'), tensor(2.1894, device='cuda:0'), tensor(2.3612, device='cuda:0'), tensor(2.0019, device='cuda:0'), tensor(2.3854, device='cuda:0'), tensor(1.9942, device='cuda:0'), tensor(2.2299, device='cuda:0'), tensor(2.7242, device='cuda:0'), tensor(2.2722, device='cuda:0'), tensor(2.2305, device='cuda:0'), tensor(2.4496, device='cuda:0'), tensor(2.6518, device='cuda:0'), tensor(2.6131, device='cuda:0'), tensor(2.5146, device='cuda:0')]\n"
          ]
        }
      ]
    },
    {
      "cell_type": "code",
      "source": [
        "torch.save(cnn_fc.state_dict(),\"/content/drive/MyDrive/CS449/models/cnn_fc.model\")\n",
        "torch.save(fc.state_dict(),\"/content/drive/MyDrive/CS449/models/fc.model\")"
      ],
      "metadata": {
        "id": "2D0qyv8b_g5t"
      },
      "execution_count": null,
      "outputs": []
    },
    {
      "cell_type": "code",
      "source": [
        "print(train_accs)"
      ],
      "metadata": {
        "colab": {
          "base_uri": "https://localhost:8080/"
        },
        "id": "1afbhHkcCzt9",
        "outputId": "293cb7ed-ae58-4591-a187-a3948b204e92"
      },
      "execution_count": null,
      "outputs": [
        {
          "output_type": "stream",
          "name": "stdout",
          "text": [
            "[0.74955, 0.79325, 0.8085, 0.8161, 0.8257, 0.8349, 0.8433, 0.85205, 0.86625, 0.8723, 0.8819, 0.8916, 0.9027, 0.9127, 0.92425, 0.9368, 0.94635, 0.95775, 0.9635, 0.9742, 0.9777, 0.98455, 0.98045, 0.9893, 0.98975, 0.984, 0.98715, 0.9919, 0.9858, 0.9879, 0.99295, 0.99625, 0.9886, 0.9897, 0.991, 0.9857, 0.99055, 0.9949, 0.9984, 0.9877, 0.9906, 0.9917, 0.99485, 0.9919, 0.98835, 0.9915, 0.98965, 0.99525, 0.99155, 0.98605]\n"
          ]
        }
      ]
    },
    {
      "cell_type": "code",
      "source": [
        "print(val_accs)"
      ],
      "metadata": {
        "colab": {
          "base_uri": "https://localhost:8080/"
        },
        "id": "Se9SlR7GD2uo",
        "outputId": "6744fe4e-c54d-410a-a3f6-3ab8da11fb8d"
      },
      "execution_count": null,
      "outputs": [
        {
          "output_type": "stream",
          "name": "stdout",
          "text": [
            "[0.784, 0.7462, 0.8098, 0.7532, 0.7918, 0.776, 0.7858, 0.7584, 0.804, 0.8062, 0.8052, 0.8062, 0.7836, 0.7948, 0.8178, 0.7882, 0.7854, 0.7826, 0.7814, 0.7778, 0.786, 0.7888, 0.7762, 0.7702, 0.7634, 0.7966, 0.772, 0.7666, 0.7752, 0.7822, 0.7828, 0.7794, 0.7786, 0.7678, 0.7754, 0.788, 0.7768, 0.7708, 0.788, 0.7754, 0.7826, 0.7618, 0.7826, 0.735, 0.7862, 0.7768, 0.7706, 0.789, 0.7758, 0.7842]\n"
          ]
        }
      ]
    },
    {
      "cell_type": "code",
      "source": [
        "tr_losses = []\n",
        "for loss in train_losses:\n",
        "  tr_losses.append(loss.item())\n",
        "print(tr_losses)"
      ],
      "metadata": {
        "colab": {
          "base_uri": "https://localhost:8080/"
        },
        "id": "eIWSs_9aC8gS",
        "outputId": "c21d61ab-190d-43e5-9614-73f04a551e6e"
      },
      "execution_count": null,
      "outputs": [
        {
          "output_type": "stream",
          "name": "stdout",
          "text": [
            "[0.508279025554657, 0.4556257724761963, 0.43081802129745483, 0.4148216247558594, 0.40155887603759766, 0.37974247336387634, 0.3623133897781372, 0.3443458676338196, 0.31922510266304016, 0.3021552562713623, 0.28436917066574097, 0.2626524865627289, 0.23923951387405396, 0.21943800151348114, 0.19358503818511963, 0.16817794740200043, 0.14361096918582916, 0.11893610656261444, 0.10290876030921936, 0.07799740135669708, 0.06598580628633499, 0.04930972307920456, 0.05675511807203293, 0.035196464508771896, 0.03338271751999855, 0.04720931127667427, 0.0388021357357502, 0.025461044162511826, 0.042250294238328934, 0.033171799033880234, 0.023520763963460922, 0.013245430774986744, 0.03208798170089722, 0.030069351196289062, 0.025286640971899033, 0.04111939296126366, 0.02710670419037342, 0.015680862590670586, 0.006308150012046099, 0.03796546161174774, 0.025296764448285103, 0.024914640933275223, 0.014877719804644585, 0.024426382035017014, 0.03230440244078636, 0.023834871128201485, 0.03218914940953255, 0.015391839668154716, 0.024708859622478485, 0.042307812720537186]\n"
          ]
        }
      ]
    },
    {
      "cell_type": "code",
      "source": [
        "vl_losses = []\n",
        "for loss in val_losses:\n",
        "  vl_losses.append(loss.item())\n",
        "print(vl_losses)"
      ],
      "metadata": {
        "colab": {
          "base_uri": "https://localhost:8080/"
        },
        "id": "jWnH-AJeDMwt",
        "outputId": "337d5292-df7c-408a-cb87-a07d5c7db822"
      },
      "execution_count": null,
      "outputs": [
        {
          "output_type": "stream",
          "name": "stdout",
          "text": [
            "[0.4680269956588745, 0.5125997066497803, 0.43674135208129883, 0.5049386620521545, 0.4489496946334839, 0.4522791802883148, 0.44421684741973877, 0.5178857445716858, 0.44593745470046997, 0.4228784143924713, 0.42430832982063293, 0.4576728940010071, 0.49728474020957947, 0.538810670375824, 0.5338367223739624, 0.59158855676651, 0.6532549262046814, 0.7139144539833069, 0.7890828251838684, 0.8993056416511536, 0.9053544402122498, 1.0253123044967651, 1.0144762992858887, 1.212432861328125, 1.3518964052200317, 1.356855869293213, 1.367996096611023, 1.4851295948028564, 1.527214765548706, 1.499824047088623, 1.688446283340454, 1.620281457901001, 1.7207047939300537, 1.9576046466827393, 1.8936675786972046, 1.8254780769348145, 1.7708159685134888, 2.1894285678863525, 2.361193895339966, 2.001924753189087, 2.385425567626953, 1.9942110776901245, 2.229936361312866, 2.72424578666687, 2.2721760272979736, 2.2304704189300537, 2.4495716094970703, 2.6518123149871826, 2.613081693649292, 2.5146055221557617]\n"
          ]
        }
      ]
    },
    {
      "cell_type": "code",
      "source": [
        "def run_one_epoch_cnn_rnn(epoch_idx, model1, model2, optimizer, train_dataloader, val_dataloader, train=True):\n",
        "    model1.train()\n",
        "    model2.train()\n",
        "    hidden = model1.initHidden()\n",
        "    # loop through the entire dataset once per epoch\n",
        "    train_loss = 0.0\n",
        "    train_acc = 0.0\n",
        "    train_total = 0\n",
        "    for batch_idx, (images, labels) in enumerate(train_dataloader):\n",
        "        optimizer.zero_grad()\n",
        "        images = images.to(device)\n",
        "        labels = labels.to(device)\n",
        "        model1_output = model1(images)\n",
        "        #print(\"hi\")\n",
        "        predictions, hidden = model2(model1_output).squeeze()\n",
        "        hidden = hidden.data\n",
        "        acc_sum = 0\n",
        "        for i, pred in enumerate(predictions):\n",
        "\n",
        "          if round(pred.item()) == labels[i]:\n",
        "            acc_sum += 1\n",
        "        acc = acc_sum / labels.size(0)\n",
        "        # acc = torch.sum(predictions == labels) / labels.size(0)\n",
        "        loss = torch.nn.BCELoss()(predictions, labels.float())\n",
        "        loss.backward()\n",
        "        optimizer.step()\n",
        "\n",
        "    # update statistics\n",
        "        train_loss += (loss * len(images))\n",
        "        train_acc += (acc * len(labels))\n",
        "        train_total += len(labels)\n",
        "    \n",
        "    train_loss /= train_total\n",
        "    train_acc /= train_total\n",
        "\n",
        "    # model1.eval()\n",
        "    # model2.eval()\n",
        "    val_loss = 0\n",
        "    val_acc = 0\n",
        "    val_total = 0\n",
        "    with torch.no_grad():\n",
        "      for batch_idx, (images, labels) in enumerate(val_dataloader):\n",
        "          images = images.to(device)\n",
        "          labels = labels.to(device)\n",
        "          model1_output = model1(images)\n",
        "          predictions = model2(model1_output).squeeze()\n",
        "          acc_sum = 0\n",
        "          for i, pred in enumerate(predictions):\n",
        "            if round(pred.item()) == labels[i]:\n",
        "              acc_sum += 1\n",
        "          acc = acc_sum / labels.size(0)\n",
        "          # acc = torch.sum(predictions == labels) / labels.size(0)\n",
        "          loss = torch.nn.BCELoss()(predictions, labels.float())\n",
        "\n",
        "          # update statistics\n",
        "          val_loss += (loss * len(images))\n",
        "          val_acc += (acc * len(labels))\n",
        "          val_total += len(labels)\n",
        "\n",
        "      val_loss /= val_total\n",
        "      val_acc /= val_total\n",
        "\n",
        "    print(f\"Epoch {epoch_idx + 1}:  val loss {val_loss :0.3f}, val acc {val_acc :0.3f}, train loss {train_loss :0.3f}, train acc {train_acc :0.3f}\")\n",
        "\n",
        "    # Detach tells torch to stop tracking a tensor's gradients\n",
        "    return train_acc, train_loss.detach(), val_acc,val_loss.detach()"
      ],
      "metadata": {
        "id": "nNdwgHjGD1R0"
      },
      "execution_count": null,
      "outputs": []
    }
  ],
  "metadata": {
    "kernelspec": {
      "display_name": "tf_m1",
      "language": "python",
      "name": "python3"
    },
    "language_info": {
      "codemirror_mode": {
        "name": "ipython",
        "version": 3
      },
      "file_extension": ".py",
      "mimetype": "text/x-python",
      "name": "python",
      "nbconvert_exporter": "python",
      "pygments_lexer": "ipython3",
      "version": "3.8.10"
    },
    "orig_nbformat": 4,
    "vscode": {
      "interpreter": {
        "hash": "1c113ca73dcb788d262ff5c14dccc6d994c5d16184791d4e782c53cfe6cb089e"
      }
    },
    "colab": {
      "provenance": []
    },
    "gpuClass": "standard",
    "accelerator": "GPU"
  },
  "nbformat": 4,
  "nbformat_minor": 0
}